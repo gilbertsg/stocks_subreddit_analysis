{
 "cells": [
  {
   "cell_type": "markdown",
   "id": "7c0a0ca1-bccd-46df-86c4-0b7113482a40",
   "metadata": {},
   "source": [
    "# Introduction"
   ]
  },
  {
   "cell_type": "markdown",
   "id": "b8a13314-0638-4405-8747-d379a84d3a3d",
   "metadata": {},
   "source": [
    "For the final section of this study, we have conducted a sentiment analysis on all the posts in both subreddits. The sentiment from post containing mentions of a particular stock will then be analyzed, and compared against the stock's future performance."
   ]
  },
  {
   "cell_type": "markdown",
   "id": "c462e649-13f7-438c-971f-110998541de8",
   "metadata": {},
   "source": [
    "# Imports and Settings"
   ]
  },
  {
   "cell_type": "code",
   "execution_count": 1,
   "id": "ba11bc0b-b80e-412b-97bc-14a0b0fe0877",
   "metadata": {},
   "outputs": [],
   "source": [
    "## library imports\n",
    "\n",
    "# data processing imports\n",
    "import pandas as pd\n",
    "import seaborn as sns\n",
    "\n",
    "# sentiment analysis imports\n",
    "from vaderSentiment.vaderSentiment import SentimentIntensityAnalyzer\n",
    "\n",
    "from emoji import demojize\n",
    "\n",
    "# import json\n",
    "\n",
    "from sklearn import preprocessing"
   ]
  },
  {
   "cell_type": "markdown",
   "id": "92afd684-3c05-4860-ba73-737eab59f6f5",
   "metadata": {
    "tags": []
   },
   "source": [
    "# Data Imports"
   ]
  },
  {
   "cell_type": "markdown",
   "id": "f9d1075c-4038-47d7-ad12-ec32e2c20ce3",
   "metadata": {},
   "source": [
    "<span style=\"color:red\">Note: To access the pre-scraped datasets, you will need to export the the .rar files from the 'data_compressed' folder, and put them in the 'data' folder</span>."
   ]
  },
  {
   "cell_type": "code",
   "execution_count": 2,
   "id": "57cf7aca-541d-4715-ad94-33bc4a532515",
   "metadata": {},
   "outputs": [
    {
     "data": {
      "text/html": [
       "<div>\n",
       "<style scoped>\n",
       "    .dataframe tbody tr th:only-of-type {\n",
       "        vertical-align: middle;\n",
       "    }\n",
       "\n",
       "    .dataframe tbody tr th {\n",
       "        vertical-align: top;\n",
       "    }\n",
       "\n",
       "    .dataframe thead th {\n",
       "        text-align: right;\n",
       "    }\n",
       "</style>\n",
       "<table border=\"1\" class=\"dataframe\">\n",
       "  <thead>\n",
       "    <tr style=\"text-align: right;\">\n",
       "      <th></th>\n",
       "      <th>author</th>\n",
       "      <th>created_utc</th>\n",
       "      <th>id</th>\n",
       "      <th>is_self</th>\n",
       "      <th>num_comments</th>\n",
       "      <th>score</th>\n",
       "      <th>selftext</th>\n",
       "      <th>title</th>\n",
       "      <th>upvote_ratio</th>\n",
       "      <th>created</th>\n",
       "      <th>subreddit</th>\n",
       "      <th>subreddit_stocks</th>\n",
       "      <th>title_char_len</th>\n",
       "      <th>title_word_len</th>\n",
       "      <th>score_pmaw</th>\n",
       "    </tr>\n",
       "  </thead>\n",
       "  <tbody>\n",
       "    <tr>\n",
       "      <th>0</th>\n",
       "      <td>cloudboyy</td>\n",
       "      <td>1627751015</td>\n",
       "      <td>ovatu6</td>\n",
       "      <td>False</td>\n",
       "      <td>1</td>\n",
       "      <td>1</td>\n",
       "      <td>NaN</td>\n",
       "      <td>Any thoughts on OSTK? It sold out of the wedge...</td>\n",
       "      <td>1.0</td>\n",
       "      <td>2021-08-01 01:03:35</td>\n",
       "      <td>wsb</td>\n",
       "      <td>0</td>\n",
       "      <td>208</td>\n",
       "      <td>40</td>\n",
       "      <td>1</td>\n",
       "    </tr>\n",
       "    <tr>\n",
       "      <th>1</th>\n",
       "      <td>itbc1info</td>\n",
       "      <td>1627751020</td>\n",
       "      <td>ovatwa</td>\n",
       "      <td>False</td>\n",
       "      <td>2</td>\n",
       "      <td>2</td>\n",
       "      <td>NaN</td>\n",
       "      <td>U.S. prosecutors charge Trevor Milton, founder...</td>\n",
       "      <td>1.0</td>\n",
       "      <td>2021-08-01 01:03:40</td>\n",
       "      <td>wsb</td>\n",
       "      <td>0</td>\n",
       "      <td>61</td>\n",
       "      <td>8</td>\n",
       "      <td>1</td>\n",
       "    </tr>\n",
       "    <tr>\n",
       "      <th>2</th>\n",
       "      <td>dadryp</td>\n",
       "      <td>1627751064</td>\n",
       "      <td>ovaudw</td>\n",
       "      <td>True</td>\n",
       "      <td>0</td>\n",
       "      <td>1</td>\n",
       "      <td>NaN</td>\n",
       "      <td>Stocks have been horrible for me 2021</td>\n",
       "      <td>1.0</td>\n",
       "      <td>2021-08-01 01:04:24</td>\n",
       "      <td>stocks</td>\n",
       "      <td>1</td>\n",
       "      <td>37</td>\n",
       "      <td>7</td>\n",
       "      <td>1</td>\n",
       "    </tr>\n",
       "    <tr>\n",
       "      <th>3</th>\n",
       "      <td>insta_man</td>\n",
       "      <td>1627751065</td>\n",
       "      <td>ovauee</td>\n",
       "      <td>True</td>\n",
       "      <td>40</td>\n",
       "      <td>7</td>\n",
       "      <td>Long story I started investing in the market w...</td>\n",
       "      <td>Want to get back into investing. Any tips?</td>\n",
       "      <td>1.0</td>\n",
       "      <td>2021-08-01 01:04:25</td>\n",
       "      <td>stocks</td>\n",
       "      <td>1</td>\n",
       "      <td>42</td>\n",
       "      <td>8</td>\n",
       "      <td>1</td>\n",
       "    </tr>\n",
       "    <tr>\n",
       "      <th>4</th>\n",
       "      <td>PenIslandGaylien</td>\n",
       "      <td>1627751202</td>\n",
       "      <td>ovavxl</td>\n",
       "      <td>True</td>\n",
       "      <td>1</td>\n",
       "      <td>2</td>\n",
       "      <td>So I already contributed 6k to my Roth in 2021...</td>\n",
       "      <td>Roth Income Limits</td>\n",
       "      <td>1.0</td>\n",
       "      <td>2021-08-01 01:06:42</td>\n",
       "      <td>wsb</td>\n",
       "      <td>0</td>\n",
       "      <td>18</td>\n",
       "      <td>3</td>\n",
       "      <td>1</td>\n",
       "    </tr>\n",
       "  </tbody>\n",
       "</table>\n",
       "</div>"
      ],
      "text/plain": [
       "             author  created_utc      id  is_self  num_comments  score  \\\n",
       "0         cloudboyy   1627751015  ovatu6    False             1      1   \n",
       "1         itbc1info   1627751020  ovatwa    False             2      2   \n",
       "2            dadryp   1627751064  ovaudw     True             0      1   \n",
       "3         insta_man   1627751065  ovauee     True            40      7   \n",
       "4  PenIslandGaylien   1627751202  ovavxl     True             1      2   \n",
       "\n",
       "                                            selftext  \\\n",
       "0                                                NaN   \n",
       "1                                                NaN   \n",
       "2                                                NaN   \n",
       "3  Long story I started investing in the market w...   \n",
       "4  So I already contributed 6k to my Roth in 2021...   \n",
       "\n",
       "                                               title  upvote_ratio  \\\n",
       "0  Any thoughts on OSTK? It sold out of the wedge...           1.0   \n",
       "1  U.S. prosecutors charge Trevor Milton, founder...           1.0   \n",
       "2              Stocks have been horrible for me 2021           1.0   \n",
       "3         Want to get back into investing. Any tips?           1.0   \n",
       "4                                 Roth Income Limits           1.0   \n",
       "\n",
       "              created subreddit  subreddit_stocks  title_char_len  \\\n",
       "0 2021-08-01 01:03:35       wsb                 0             208   \n",
       "1 2021-08-01 01:03:40       wsb                 0              61   \n",
       "2 2021-08-01 01:04:24    stocks                 1              37   \n",
       "3 2021-08-01 01:04:25    stocks                 1              42   \n",
       "4 2021-08-01 01:06:42       wsb                 0              18   \n",
       "\n",
       "   title_word_len  score_pmaw  \n",
       "0              40           1  \n",
       "1               8           1  \n",
       "2               7           1  \n",
       "3               8           1  \n",
       "4               3           1  "
      ]
     },
     "execution_count": 2,
     "metadata": {},
     "output_type": "execute_result"
    }
   ],
   "source": [
    "df = pd.read_csv('data/df_cleaned.csv') # importing data from saved csv file\n",
    "df['created'] = pd.to_datetime(df['created']) # convert the created column to a datetime column\n",
    "df.head() # displaying the top 5 row of the loaded dataframe"
   ]
  },
  {
   "cell_type": "markdown",
   "id": "8e3c89d2-8738-4157-bbea-9eb65f142c69",
   "metadata": {},
   "source": [
    "# Data Cleaning"
   ]
  },
  {
   "cell_type": "code",
   "execution_count": 3,
   "id": "dbb1589f-e660-4fe9-9a11-80984ac1f0a6",
   "metadata": {},
   "outputs": [],
   "source": [
    "# clear empty and removed selftexts, and replacing them with an empty string\n",
    "df['selftext'].replace('[removed]','',inplace=True)\n",
    "df['selftext'] = df['selftext'].fillna('')\n",
    "# combine selftext and title\n",
    "df['title'] = df['title'] + \" | \" + df['selftext'] # we will be using both the title and selftext for the sentiment analysis"
   ]
  },
  {
   "cell_type": "code",
   "execution_count": 4,
   "id": "d18827c1-3716-47f7-afe6-4f6364a5bff1",
   "metadata": {},
   "outputs": [],
   "source": [
    "df['title'] = df['title'].apply(demojize)\n",
    "df['title'] = df['title'].str.replace('_',' ')\n",
    "df['title'] = df['title'].str.replace(':',' ')"
   ]
  },
  {
   "cell_type": "code",
   "execution_count": 5,
   "id": "bb87a150-d846-402e-8fed-443b74e0fec0",
   "metadata": {},
   "outputs": [],
   "source": [
    "# Adding wsb/reddit flavor to vader to improve sentiment analysis, score: 4.0 to -4.0\n",
    "# source: https://medium.com/nerd-for-tech/wallstreetbets-sentiment-analysis-on-stock-prices-using-natural-language-processing-ed1e9e109a37\n",
    "new_words = {\n",
    "    'citron': -4.0,  \n",
    "    'hidenburg': -4.0,        \n",
    "    'moon': 4.0,\n",
    "    'highs': 2.0,\n",
    "    'mooning': 4.0,\n",
    "    'long': 2.0,\n",
    "    'short': -2.0,\n",
    "    'call': 4.0,\n",
    "    'calls': 4.0,    \n",
    "    'put': -4.0,\n",
    "    'puts': -4.0,    \n",
    "    'break': 2.0,\n",
    "    'tendie': 2.0,\n",
    "     'tendies': 2.0,\n",
    "     'town': 2.0,     \n",
    "     'overvalued': -3.0,\n",
    "     'undervalued': 3.0,\n",
    "     'buy': 4.0,\n",
    "     'sell': -4.0,\n",
    "     'gone': -1.0,\n",
    "     'gtfo': -1.7,\n",
    "     'paper': -1.7,\n",
    "     'bullish': 3.7,\n",
    "     'bearish': -3.7,\n",
    "     'bagholder': -1.7,\n",
    "     'stonk': 1.9,\n",
    "     'green': 1.9,\n",
    "     'money': 1.2,\n",
    "     'print': 2.2,\n",
    "     'rocket': 2.2,\n",
    "     'bull': 2.9,\n",
    "     'bear': -2.9,\n",
    "     'pumping': -1.0,\n",
    "     'sus': -3.0,\n",
    "     'offering': -2.3,\n",
    "     'rip': -4.0,\n",
    "     'downgrade': -3.0,\n",
    "     'upgrade': 3.0,     \n",
    "     'maintain': 1.0,          \n",
    "     'pump': 1.9,\n",
    "     'hot': 1.5,\n",
    "     'drop': -2.5,\n",
    "     'rebound': 1.5,  \n",
    "     'crack': 2.5,}"
   ]
  },
  {
   "cell_type": "code",
   "execution_count": 6,
   "id": "63407288-b4d2-47aa-87d4-481159484cca",
   "metadata": {},
   "outputs": [],
   "source": [
    "# adding even more tokens/words for the VADER sentiment analysis lexicon list\n",
    "# this token list is obtained from a research done by Researchers at the National Taiwan University (source: http://mx.nthu.edu.tw/~chungchichen/papers/NTUSD-Fin_Market_Sentiment_Dictionary_for_Financial_Social_Media_Data.pdf)\n",
    "new_tokens = pd.read_json('data/NTUSD_Fin_word_v1.0.json')[['token','market_sentiment']] # reading the data from a pre-downloaded .json file\n",
    "new_tokens['market_sentiment_scaled'] = new_tokens['market_sentiment']\n",
    "new_tokens = dict(zip(new_tokens['token'],new_tokens['market_sentiment_scaled']))\n"
   ]
  },
  {
   "cell_type": "code",
   "execution_count": 7,
   "id": "cb4e6246-8259-44f6-a6e0-3fcd7f53efd0",
   "metadata": {},
   "outputs": [
    {
     "data": {
      "text/plain": [
       "14566"
      ]
     },
     "execution_count": 7,
     "metadata": {},
     "output_type": "execute_result"
    }
   ],
   "source": [
    "vader = SentimentIntensityAnalyzer() # instantiating the sentiment intensity analyzer\n",
    "\n",
    "# adding custom words from the two sources\n",
    "vader.lexicon.update(new_words)\n",
    "vader.lexicon.update(new_tokens)\n",
    "len(vader.lexicon) # printing the length of the updated lexicon"
   ]
  },
  {
   "cell_type": "code",
   "execution_count": 8,
   "id": "d9a5b290-9a0c-4925-baa1-32f059ac90d8",
   "metadata": {},
   "outputs": [],
   "source": [
    "# running the vader sentiment analysis on the full dataframe\n",
    "df['polarity_scores'] = df['title'].apply(lambda x: vader.polarity_scores(x))"
   ]
  },
  {
   "cell_type": "code",
   "execution_count": 9,
   "id": "ca92467c-fba0-4f22-a2fd-e2205d174248",
   "metadata": {},
   "outputs": [
    {
     "data": {
      "text/html": [
       "<div>\n",
       "<style scoped>\n",
       "    .dataframe tbody tr th:only-of-type {\n",
       "        vertical-align: middle;\n",
       "    }\n",
       "\n",
       "    .dataframe tbody tr th {\n",
       "        vertical-align: top;\n",
       "    }\n",
       "\n",
       "    .dataframe thead th {\n",
       "        text-align: right;\n",
       "    }\n",
       "</style>\n",
       "<table border=\"1\" class=\"dataframe\">\n",
       "  <thead>\n",
       "    <tr style=\"text-align: right;\">\n",
       "      <th></th>\n",
       "      <th>polarity_scores</th>\n",
       "    </tr>\n",
       "  </thead>\n",
       "  <tbody>\n",
       "    <tr>\n",
       "      <th>0</th>\n",
       "      <td>{'neg': 0.131, 'neu': 0.377, 'pos': 0.491, 'co...</td>\n",
       "    </tr>\n",
       "    <tr>\n",
       "      <th>1</th>\n",
       "      <td>{'neg': 0.297, 'neu': 0.519, 'pos': 0.184, 'co...</td>\n",
       "    </tr>\n",
       "    <tr>\n",
       "      <th>2</th>\n",
       "      <td>{'neg': 0.36, 'neu': 0.547, 'pos': 0.093, 'com...</td>\n",
       "    </tr>\n",
       "    <tr>\n",
       "      <th>3</th>\n",
       "      <td>{'neg': 0.272, 'neu': 0.404, 'pos': 0.324, 'co...</td>\n",
       "    </tr>\n",
       "    <tr>\n",
       "      <th>4</th>\n",
       "      <td>{'neg': 0.203, 'neu': 0.577, 'pos': 0.22, 'com...</td>\n",
       "    </tr>\n",
       "    <tr>\n",
       "      <th>...</th>\n",
       "      <td>...</td>\n",
       "    </tr>\n",
       "    <tr>\n",
       "      <th>272411</th>\n",
       "      <td>{'neg': 0.309, 'neu': 0.511, 'pos': 0.18, 'com...</td>\n",
       "    </tr>\n",
       "    <tr>\n",
       "      <th>272412</th>\n",
       "      <td>{'neg': 0.262, 'neu': 0.181, 'pos': 0.557, 'co...</td>\n",
       "    </tr>\n",
       "    <tr>\n",
       "      <th>272413</th>\n",
       "      <td>{'neg': 0.0, 'neu': 0.61, 'pos': 0.39, 'compou...</td>\n",
       "    </tr>\n",
       "    <tr>\n",
       "      <th>272414</th>\n",
       "      <td>{'neg': 0.432, 'neu': 0.525, 'pos': 0.043, 'co...</td>\n",
       "    </tr>\n",
       "    <tr>\n",
       "      <th>272415</th>\n",
       "      <td>{'neg': 0.233, 'neu': 0.336, 'pos': 0.431, 'co...</td>\n",
       "    </tr>\n",
       "  </tbody>\n",
       "</table>\n",
       "<p>272416 rows × 1 columns</p>\n",
       "</div>"
      ],
      "text/plain": [
       "                                          polarity_scores\n",
       "0       {'neg': 0.131, 'neu': 0.377, 'pos': 0.491, 'co...\n",
       "1       {'neg': 0.297, 'neu': 0.519, 'pos': 0.184, 'co...\n",
       "2       {'neg': 0.36, 'neu': 0.547, 'pos': 0.093, 'com...\n",
       "3       {'neg': 0.272, 'neu': 0.404, 'pos': 0.324, 'co...\n",
       "4       {'neg': 0.203, 'neu': 0.577, 'pos': 0.22, 'com...\n",
       "...                                                   ...\n",
       "272411  {'neg': 0.309, 'neu': 0.511, 'pos': 0.18, 'com...\n",
       "272412  {'neg': 0.262, 'neu': 0.181, 'pos': 0.557, 'co...\n",
       "272413  {'neg': 0.0, 'neu': 0.61, 'pos': 0.39, 'compou...\n",
       "272414  {'neg': 0.432, 'neu': 0.525, 'pos': 0.043, 'co...\n",
       "272415  {'neg': 0.233, 'neu': 0.336, 'pos': 0.431, 'co...\n",
       "\n",
       "[272416 rows x 1 columns]"
      ]
     },
     "execution_count": 9,
     "metadata": {},
     "output_type": "execute_result"
    }
   ],
   "source": [
    "df[['polarity_scores']] # displaying the polarity score columns"
   ]
  },
  {
   "cell_type": "markdown",
   "id": "d0f3f73b-916b-4511-8a99-f8bc65746409",
   "metadata": {},
   "source": [
    "# Data Export"
   ]
  },
  {
   "cell_type": "code",
   "execution_count": 10,
   "id": "24445e95-cd99-48cc-9f82-f9cfaa82617c",
   "metadata": {},
   "outputs": [],
   "source": [
    "# exporting the sentiment analysis result\n",
    "df[['polarity_scores']].to_csv('data/df_sentiment.csv',index=True)"
   ]
  }
 ],
 "metadata": {
  "kernelspec": {
   "display_name": "Python 3 (ipykernel)",
   "language": "python",
   "name": "python3"
  },
  "language_info": {
   "codemirror_mode": {
    "name": "ipython",
    "version": 3
   },
   "file_extension": ".py",
   "mimetype": "text/x-python",
   "name": "python",
   "nbconvert_exporter": "python",
   "pygments_lexer": "ipython3",
   "version": "3.9.13"
  }
 },
 "nbformat": 4,
 "nbformat_minor": 5
}
