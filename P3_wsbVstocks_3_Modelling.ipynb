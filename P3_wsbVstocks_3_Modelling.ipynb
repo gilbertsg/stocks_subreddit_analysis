{
 "cells": [
  {
   "cell_type": "markdown",
   "id": "59f3de8b-6e30-42e6-baee-2f38f15b5a4f",
   "metadata": {},
   "source": [
    "# Imports and Settings"
   ]
  },
  {
   "cell_type": "code",
   "execution_count": 1,
   "id": "e48cc389-44ec-4f4b-8bb2-b1b69d104522",
   "metadata": {},
   "outputs": [],
   "source": [
    "## library imports\n",
    "\n",
    "# data processing imports\n",
    "import pandas as pd\n",
    "import numpy as np\n",
    "\n",
    "# plotting imports\n",
    "import matplotlib.pyplot as plt\n",
    "import seaborn as sns\n",
    "\n",
    "# modelling imports\n",
    "from sklearn.model_selection import train_test_split\n",
    "import imblearn\n",
    "\n",
    "from sklearn import linear_model\n",
    "from sklearn import ensemble\n",
    "\n",
    "from sklearn.model_selection import GridSearchCV, RandomizedSearchCV\n",
    "\n",
    "# metric imports\n",
    "from sklearn import metrics \n",
    "\n",
    "# misc imports\n",
    "import datetime\n",
    "from dateutil.relativedelta import *\n",
    "import mlflow\n",
    "\n",
    "# nlp imports\n",
    "from sklearn.feature_extraction.text import CountVectorizer, TfidfVectorizer\n",
    "from sklearn.naive_bayes import MultinomialNB\n",
    "from sklearn.metrics import confusion_matrix, ConfusionMatrixDisplay\n",
    "from emoji import demojize"
   ]
  },
  {
   "cell_type": "code",
   "execution_count": 2,
   "id": "f0ff3ffe-5e67-4d92-8250-6faa64bb0c77",
   "metadata": {},
   "outputs": [],
   "source": [
    "# enable inline plotting\n",
    "%matplotlib inline \n",
    "\n",
    "pd.set_option('display.max_columns', None) # disable column overflow in pandas display, this is toenable us to display all the columns"
   ]
  },
  {
   "cell_type": "code",
   "execution_count": 3,
   "id": "06df42e9-7c9b-4b7b-ba59-c3441fda1b16",
   "metadata": {},
   "outputs": [],
   "source": [
    "# general plotting settings\n",
    "\n",
    "sns.set(style=\"darkgrid\", context=\"talk\") # setting the plot style\n",
    "\n",
    "# setting the figure size\n",
    "plt.rcParams[\"figure.figsize\"] = (7, 5)\n",
    "\n",
    "## PRESENTATION SETTING\n",
    "# # set the color of the axes and figure (for presentation, with alpha = 0)\n",
    "# plt.rcParams.update({\"axes.facecolor\":'#005F32', # ax (in-graph) colour\n",
    "#                      \"figure.facecolor\":(0, 0.784313, 0.019607, 0)}) # figure (out-of-graph) colour\n",
    "\n",
    "\n",
    "\n",
    "\n",
    "# textcolor = '#EBF2FA'\n",
    "# # setting the colours of the text\n",
    "# plt.rcParams.update({\"text.color\":textcolor, \n",
    "#                      \"axes.labelcolor\":textcolor,\n",
    "#                      \"xtick.color\":textcolor,\n",
    "#                      \"ytick.color\":textcolor})\n",
    "\n",
    "# # setting teh colours of the grid\n",
    "# plt.rcParams.update({\"grid.color\":'white',\n",
    "#                      \"grid.linewidth\":0.5, \n",
    "#                      \"grid.alpha\":0.5})"
   ]
  },
  {
   "cell_type": "code",
   "execution_count": 4,
   "id": "f3ebd903-6d79-4345-9354-a72a5d53f295",
   "metadata": {},
   "outputs": [],
   "source": [
    "yellow = \"#FFBC42\" # cc9634 for darker, FFBC42 for brighter\n",
    "yellows = sns.light_palette(yellow, n_colors=15, reverse=True)\n",
    "red = \"#D81159\"\n",
    "reds = sns.light_palette(red, n_colors=15, reverse=True)\n",
    "\n",
    "# Create an array with the colors\n",
    "colors = [yellow, red]\n",
    "# Set your custom color palette\n",
    "sns.set_palette(sns.color_palette(colors))\n",
    "\n"
   ]
  },
  {
   "cell_type": "markdown",
   "id": "7da8fa10-d1b4-4b99-a9ac-e399eb2adfa6",
   "metadata": {
    "tags": []
   },
   "source": [
    "# Experiment Tracking on MLFlow"
   ]
  },
  {
   "cell_type": "code",
   "execution_count": 5,
   "id": "fa3d5382-987d-402b-aee5-381087bfe4c4",
   "metadata": {
    "tags": []
   },
   "outputs": [],
   "source": [
    "# # This code block is commented out after the model has been finalized\n",
    "\n",
    "# # Connect this Jupyter notebook to the running MLFlow server \n",
    "# import mlflow\n",
    "\n",
    "# mlflow.set_tracking_uri(\"sqlite:///mlflow.db\")\n",
    "\n",
    "# # Set the name of the experiment we're running in this notebook\n",
    "# # MLFlow will connect to an existing experiment or create a new one if the experiment is not already present\n",
    "# mlflow.set_experiment(\"stocks_vs_wsb\")\n",
    "\n",
    "# # Start automatically logging experiment details to MLFlow\n",
    "# mlflow.autolog()"
   ]
  },
  {
   "cell_type": "code",
   "execution_count": 6,
   "id": "2b9eb5e3-67df-4993-9fd4-454ef5f783fd",
   "metadata": {},
   "outputs": [],
   "source": [
    "# Start the MLFlow UI\n",
    "# ! mlflow ui --backend-store-uri sqlite:///mlflow.db"
   ]
  },
  {
   "cell_type": "markdown",
   "id": "a6961026-7f76-4d7a-ac46-95464887207a",
   "metadata": {},
   "source": [
    "# Data Imports"
   ]
  },
  {
   "cell_type": "markdown",
   "id": "884475aa-7309-4078-8501-f55e7f55df97",
   "metadata": {},
   "source": [
    "<span style=\"color:red\">Note: To access the pre-scraped datasets, you will need to export the the .rar files from the 'data_compressed' folder, and put them in the 'data' folder</span>."
   ]
  },
  {
   "cell_type": "code",
   "execution_count": 7,
   "id": "2a160555-2640-4218-ad19-93aa4a7998b5",
   "metadata": {},
   "outputs": [
    {
     "data": {
      "text/html": [
       "<div>\n",
       "<style scoped>\n",
       "    .dataframe tbody tr th:only-of-type {\n",
       "        vertical-align: middle;\n",
       "    }\n",
       "\n",
       "    .dataframe tbody tr th {\n",
       "        vertical-align: top;\n",
       "    }\n",
       "\n",
       "    .dataframe thead th {\n",
       "        text-align: right;\n",
       "    }\n",
       "</style>\n",
       "<table border=\"1\" class=\"dataframe\">\n",
       "  <thead>\n",
       "    <tr style=\"text-align: right;\">\n",
       "      <th></th>\n",
       "      <th>author</th>\n",
       "      <th>created_utc</th>\n",
       "      <th>id</th>\n",
       "      <th>is_self</th>\n",
       "      <th>num_comments</th>\n",
       "      <th>score</th>\n",
       "      <th>selftext</th>\n",
       "      <th>title</th>\n",
       "      <th>upvote_ratio</th>\n",
       "      <th>created</th>\n",
       "      <th>subreddit</th>\n",
       "      <th>subreddit_stocks</th>\n",
       "      <th>title_char_len</th>\n",
       "      <th>title_word_len</th>\n",
       "      <th>score_pmaw</th>\n",
       "    </tr>\n",
       "  </thead>\n",
       "  <tbody>\n",
       "    <tr>\n",
       "      <th>0</th>\n",
       "      <td>cloudboyy</td>\n",
       "      <td>1627751015</td>\n",
       "      <td>ovatu6</td>\n",
       "      <td>False</td>\n",
       "      <td>1</td>\n",
       "      <td>1</td>\n",
       "      <td>NaN</td>\n",
       "      <td>Any thoughts on OSTK? It sold out of the wedge...</td>\n",
       "      <td>1.0</td>\n",
       "      <td>2021-08-01 01:03:35</td>\n",
       "      <td>wsb</td>\n",
       "      <td>0</td>\n",
       "      <td>208</td>\n",
       "      <td>40</td>\n",
       "      <td>1</td>\n",
       "    </tr>\n",
       "    <tr>\n",
       "      <th>1</th>\n",
       "      <td>itbc1info</td>\n",
       "      <td>1627751020</td>\n",
       "      <td>ovatwa</td>\n",
       "      <td>False</td>\n",
       "      <td>2</td>\n",
       "      <td>2</td>\n",
       "      <td>NaN</td>\n",
       "      <td>U.S. prosecutors charge Trevor Milton, founder...</td>\n",
       "      <td>1.0</td>\n",
       "      <td>2021-08-01 01:03:40</td>\n",
       "      <td>wsb</td>\n",
       "      <td>0</td>\n",
       "      <td>61</td>\n",
       "      <td>8</td>\n",
       "      <td>1</td>\n",
       "    </tr>\n",
       "    <tr>\n",
       "      <th>2</th>\n",
       "      <td>dadryp</td>\n",
       "      <td>1627751064</td>\n",
       "      <td>ovaudw</td>\n",
       "      <td>True</td>\n",
       "      <td>0</td>\n",
       "      <td>1</td>\n",
       "      <td>NaN</td>\n",
       "      <td>Stocks have been horrible for me 2021</td>\n",
       "      <td>1.0</td>\n",
       "      <td>2021-08-01 01:04:24</td>\n",
       "      <td>stocks</td>\n",
       "      <td>1</td>\n",
       "      <td>37</td>\n",
       "      <td>7</td>\n",
       "      <td>1</td>\n",
       "    </tr>\n",
       "    <tr>\n",
       "      <th>3</th>\n",
       "      <td>insta_man</td>\n",
       "      <td>1627751065</td>\n",
       "      <td>ovauee</td>\n",
       "      <td>True</td>\n",
       "      <td>40</td>\n",
       "      <td>7</td>\n",
       "      <td>Long story I started investing in the market w...</td>\n",
       "      <td>Want to get back into investing. Any tips?</td>\n",
       "      <td>1.0</td>\n",
       "      <td>2021-08-01 01:04:25</td>\n",
       "      <td>stocks</td>\n",
       "      <td>1</td>\n",
       "      <td>42</td>\n",
       "      <td>8</td>\n",
       "      <td>1</td>\n",
       "    </tr>\n",
       "    <tr>\n",
       "      <th>4</th>\n",
       "      <td>PenIslandGaylien</td>\n",
       "      <td>1627751202</td>\n",
       "      <td>ovavxl</td>\n",
       "      <td>True</td>\n",
       "      <td>1</td>\n",
       "      <td>2</td>\n",
       "      <td>So I already contributed 6k to my Roth in 2021...</td>\n",
       "      <td>Roth Income Limits</td>\n",
       "      <td>1.0</td>\n",
       "      <td>2021-08-01 01:06:42</td>\n",
       "      <td>wsb</td>\n",
       "      <td>0</td>\n",
       "      <td>18</td>\n",
       "      <td>3</td>\n",
       "      <td>1</td>\n",
       "    </tr>\n",
       "  </tbody>\n",
       "</table>\n",
       "</div>"
      ],
      "text/plain": [
       "             author  created_utc      id  is_self  num_comments  score  \\\n",
       "0         cloudboyy   1627751015  ovatu6    False             1      1   \n",
       "1         itbc1info   1627751020  ovatwa    False             2      2   \n",
       "2            dadryp   1627751064  ovaudw     True             0      1   \n",
       "3         insta_man   1627751065  ovauee     True            40      7   \n",
       "4  PenIslandGaylien   1627751202  ovavxl     True             1      2   \n",
       "\n",
       "                                            selftext  \\\n",
       "0                                                NaN   \n",
       "1                                                NaN   \n",
       "2                                                NaN   \n",
       "3  Long story I started investing in the market w...   \n",
       "4  So I already contributed 6k to my Roth in 2021...   \n",
       "\n",
       "                                               title  upvote_ratio  \\\n",
       "0  Any thoughts on OSTK? It sold out of the wedge...           1.0   \n",
       "1  U.S. prosecutors charge Trevor Milton, founder...           1.0   \n",
       "2              Stocks have been horrible for me 2021           1.0   \n",
       "3         Want to get back into investing. Any tips?           1.0   \n",
       "4                                 Roth Income Limits           1.0   \n",
       "\n",
       "              created subreddit  subreddit_stocks  title_char_len  \\\n",
       "0 2021-08-01 01:03:35       wsb                 0             208   \n",
       "1 2021-08-01 01:03:40       wsb                 0              61   \n",
       "2 2021-08-01 01:04:24    stocks                 1              37   \n",
       "3 2021-08-01 01:04:25    stocks                 1              42   \n",
       "4 2021-08-01 01:06:42       wsb                 0              18   \n",
       "\n",
       "   title_word_len  score_pmaw  \n",
       "0              40           1  \n",
       "1               8           1  \n",
       "2               7           1  \n",
       "3               8           1  \n",
       "4               3           1  "
      ]
     },
     "execution_count": 7,
     "metadata": {},
     "output_type": "execute_result"
    }
   ],
   "source": [
    "df = pd.read_csv('data/df_cleaned.csv') # importing data from saved csv file\n",
    "df['created'] = pd.to_datetime(df['created']) # convert the created column to a datetime column\n",
    "df.head() # displaying the top 5 row of the loaded dataframe"
   ]
  },
  {
   "cell_type": "markdown",
   "id": "5999e426-fe43-420a-8977-b230b9215c10",
   "metadata": {
    "tags": []
   },
   "source": [
    "# Model Setup"
   ]
  },
  {
   "cell_type": "markdown",
   "id": "a4a67b76-ac58-4681-ba61-066e5e4596f6",
   "metadata": {},
   "source": [
    "Displaying the size of the dataset:"
   ]
  },
  {
   "cell_type": "code",
   "execution_count": 8,
   "id": "428c01cf-a4c7-4baa-be35-9ff44848f630",
   "metadata": {},
   "outputs": [
    {
     "name": "stdout",
     "output_type": "stream",
     "text": [
      "No of posts in r/stocks: 45986\n",
      "No of posts in r/wsb: 226430\n"
     ]
    }
   ],
   "source": [
    "# displaying the size of the dataset from r/stocks and r/wallstreetbets\n",
    "print(f\"No of posts in r/stocks: {df[df['subreddit']=='stocks'].shape[0]}\")\n",
    "print(f\"No of posts in r/wsb: {df[df['subreddit']=='wsb'].shape[0]}\")"
   ]
  },
  {
   "cell_type": "markdown",
   "id": "4dc4f4e2-a174-4dfb-923d-d29b747fc49e",
   "metadata": {},
   "source": [
    "## Setting Features (X) and Target Variables (y)"
   ]
  },
  {
   "cell_type": "code",
   "execution_count": 9,
   "id": "c7aa1aa5-1de8-4e9b-8a31-81f50a33a692",
   "metadata": {},
   "outputs": [],
   "source": [
    "X = df['title']\n",
    "y = df['subreddit_stocks']"
   ]
  },
  {
   "cell_type": "markdown",
   "id": "b4d90d52-087a-4fc3-a408-9f591f5d9a80",
   "metadata": {
    "tags": []
   },
   "source": [
    "## Train-Test Split"
   ]
  },
  {
   "cell_type": "code",
   "execution_count": 10,
   "id": "547a3d14-293d-44ce-bea5-1506608d15e1",
   "metadata": {},
   "outputs": [],
   "source": [
    "# conduct train-test split\n",
    "X_train, X_test, y_train, y_test = train_test_split(X, y,\n",
    "                                                    test_size=0.3,\n",
    "                                                    random_state=42,\n",
    "                                                    stratify=y) # enabled as the data set this highly imbalanced"
   ]
  },
  {
   "cell_type": "markdown",
   "id": "9be1e733-7af3-48dd-bbe7-0d085baaf3e4",
   "metadata": {
    "tags": []
   },
   "source": [
    "## Text Vectorization"
   ]
  },
  {
   "cell_type": "markdown",
   "id": "0994f75f-9bce-41a9-864d-9d33c9bdaf9a",
   "metadata": {},
   "source": [
    "### Using Count Vectorizer"
   ]
  },
  {
   "cell_type": "code",
   "execution_count": 11,
   "id": "a5ffce78-d68a-4b90-a9f9-ba80b210a228",
   "metadata": {},
   "outputs": [],
   "source": [
    "# Instantiating the CountVectorizer, use english stopwords, and include n-grams ranging from 1 to 3\n",
    "cvec = CountVectorizer(stop_words = 'english',ngram_range=(1,3)) "
   ]
  },
  {
   "cell_type": "code",
   "execution_count": null,
   "id": "5cae3de8-00f7-4f1f-a4d4-76f8fcdba7c0",
   "metadata": {},
   "outputs": [],
   "source": []
  },
  {
   "cell_type": "code",
   "execution_count": 12,
   "id": "64d159dc-14f2-45c0-a949-cee460bf9eaa",
   "metadata": {},
   "outputs": [],
   "source": [
    "# Fit-transform our CountVectorizer on the training data and transform testing data.\n",
    "X_train_cvec = cvec.fit_transform(X_train)\n",
    "X_test_cvec = cvec.transform(X_test)"
   ]
  },
  {
   "cell_type": "markdown",
   "id": "a86e3221-b438-427d-a67d-2a6c3e0d549d",
   "metadata": {},
   "source": [
    "### Using TF-IDF"
   ]
  },
  {
   "cell_type": "code",
   "execution_count": 13,
   "id": "e8c9aeef-4fa7-41db-aac8-a20004379d05",
   "metadata": {},
   "outputs": [],
   "source": [
    "# Instantiating the TF-IDF, use english stopwords, and include n-grams ranging from 1 to 3\n",
    "tfidf = TfidfVectorizer(stop_words = 'english',ngram_range=(1,3)) "
   ]
  },
  {
   "cell_type": "code",
   "execution_count": 14,
   "id": "aad874a7-0a80-4eda-ad55-53a08444ef31",
   "metadata": {},
   "outputs": [],
   "source": [
    "# Fit-transform the TF-IDF on the training data and transform testing data.\n",
    "X_train_tfidf = tfidf.fit_transform(X_train)\n",
    "X_test_tfidf = tfidf.transform(X_test)"
   ]
  },
  {
   "cell_type": "markdown",
   "id": "c5ae6c97-7155-4f69-8238-1cd9462352c7",
   "metadata": {
    "tags": []
   },
   "source": [
    "# Modelling"
   ]
  },
  {
   "cell_type": "markdown",
   "id": "26737f5f-d3cf-4698-ae58-ef263746a349",
   "metadata": {
    "tags": []
   },
   "source": [
    "## Defining Functions"
   ]
  },
  {
   "cell_type": "code",
   "execution_count": 15,
   "id": "cf9dd188-a9e8-4b63-ad69-3f092d83fd6e",
   "metadata": {},
   "outputs": [],
   "source": [
    "# create function to print the confusion matrix and classification report\n",
    "def print_results(y_test,y_pred): # inputs are the actual and predicted class\n",
    "    print(metrics.confusion_matrix(y_test,y_pred))\n",
    "    print('\\n')\n",
    "    print(metrics.classification_report(y_test,y_pred))\n",
    "    \n",
    "# create a function to export the summary of various accuracy metrics\n",
    "def export_results(y_test,y_pred, # inputs are the actual and predicted class\n",
    "                   vectorizer='',model='',comments='', # we'll need to input the type of vectorizer, model, as well as the comments manually\n",
    "                   idno='' # need to input an idno for the index for the summary dataframe\n",
    "                  ):\n",
    "    accuracy_df = pd.DataFrame(metrics.classification_report(y_test, y_pred, output_dict=True)).T # generate a dataframe summarizing the accuracy\n",
    "    accuracy_summary = { # generating a dictionary containing all the various accuracy measures\n",
    "        'vectorizer':vectorizer,\n",
    "        'model':model,\n",
    "        'comments':comments,\n",
    "        'accuracy':accuracy_df.loc['accuracy','precision'],\n",
    "        'c1_precision':accuracy_df.loc['1','precision'],\n",
    "        'c1_recall':accuracy_df.loc['1','recall'],\n",
    "        'c1_f1':accuracy_df.loc['1','f1-score'],\n",
    "        'c0_f1':accuracy_df.loc['0','f1-score'],\n",
    "        'macro_avg_f1':accuracy_df.loc['macro avg','f1-score'],\n",
    "        'wt_avg_f1':accuracy_df.loc['weighted avg','f1-score'],\n",
    "    }\n",
    "    \n",
    "    return pd.DataFrame(accuracy_summary,index=[idno]) # returns the row containing the detail and accuracy of the specific model\n",
    "\n",
    "df_accuracy_summary = pd.DataFrame() # instantiating an empty dataframe for containing the accuracty summary"
   ]
  },
  {
   "cell_type": "markdown",
   "id": "1f57ca86-4764-42bd-b28c-9d2236fa33d6",
   "metadata": {},
   "source": [
    "Note that accuracy metrics are always displayed based on  the TEST dataset"
   ]
  },
  {
   "cell_type": "markdown",
   "id": "5787822a-6947-49ef-9b81-787459feea96",
   "metadata": {},
   "source": [
    "## Baseline Predictions"
   ]
  },
  {
   "cell_type": "markdown",
   "id": "df129253-ca87-452a-a372-503f2d6120c0",
   "metadata": {
    "tags": [],
    "toc-hr-collapsed": true
   },
   "source": [
    "### (0a) Baseline - Naive Prediction: Majority Class"
   ]
  },
  {
   "cell_type": "markdown",
   "id": "b7d1c833-0668-49f4-8ab0-3ec73f08154a",
   "metadata": {},
   "source": [
    "The most basic baseline prediction is to always predict the majority class (in this case r/wsb)"
   ]
  },
  {
   "cell_type": "code",
   "execution_count": 16,
   "id": "e2f9fe11-a804-48f4-b6c2-6011367f2dd2",
   "metadata": {},
   "outputs": [],
   "source": [
    "pred_majority = [0]*y_test.shape[0] # generate naive prediction by always predicting majority class (i.e.: class 0)"
   ]
  },
  {
   "cell_type": "code",
   "execution_count": 17,
   "id": "d4c0d249-1392-4384-b793-b2803336ea35",
   "metadata": {},
   "outputs": [
    {
     "name": "stdout",
     "output_type": "stream",
     "text": [
      "[[67929     0]\n",
      " [13796     0]]\n",
      "\n",
      "\n",
      "              precision    recall  f1-score   support\n",
      "\n",
      "           0       0.83      1.00      0.91     67929\n",
      "           1       0.00      0.00      0.00     13796\n",
      "\n",
      "    accuracy                           0.83     81725\n",
      "   macro avg       0.42      0.50      0.45     81725\n",
      "weighted avg       0.69      0.83      0.75     81725\n",
      "\n"
     ]
    },
    {
     "name": "stderr",
     "output_type": "stream",
     "text": [
      "C:\\ProgramData\\Anaconda3\\lib\\site-packages\\sklearn\\metrics\\_classification.py:1334: UndefinedMetricWarning: Precision and F-score are ill-defined and being set to 0.0 in labels with no predicted samples. Use `zero_division` parameter to control this behavior.\n",
      "  _warn_prf(average, modifier, msg_start, len(result))\n",
      "C:\\ProgramData\\Anaconda3\\lib\\site-packages\\sklearn\\metrics\\_classification.py:1334: UndefinedMetricWarning: Precision and F-score are ill-defined and being set to 0.0 in labels with no predicted samples. Use `zero_division` parameter to control this behavior.\n",
      "  _warn_prf(average, modifier, msg_start, len(result))\n",
      "C:\\ProgramData\\Anaconda3\\lib\\site-packages\\sklearn\\metrics\\_classification.py:1334: UndefinedMetricWarning: Precision and F-score are ill-defined and being set to 0.0 in labels with no predicted samples. Use `zero_division` parameter to control this behavior.\n",
      "  _warn_prf(average, modifier, msg_start, len(result))\n",
      "C:\\ProgramData\\Anaconda3\\lib\\site-packages\\sklearn\\metrics\\_classification.py:1334: UndefinedMetricWarning: Precision and F-score are ill-defined and being set to 0.0 in labels with no predicted samples. Use `zero_division` parameter to control this behavior.\n",
      "  _warn_prf(average, modifier, msg_start, len(result))\n",
      "C:\\ProgramData\\Anaconda3\\lib\\site-packages\\sklearn\\metrics\\_classification.py:1334: UndefinedMetricWarning: Precision and F-score are ill-defined and being set to 0.0 in labels with no predicted samples. Use `zero_division` parameter to control this behavior.\n",
      "  _warn_prf(average, modifier, msg_start, len(result))\n",
      "C:\\ProgramData\\Anaconda3\\lib\\site-packages\\sklearn\\metrics\\_classification.py:1334: UndefinedMetricWarning: Precision and F-score are ill-defined and being set to 0.0 in labels with no predicted samples. Use `zero_division` parameter to control this behavior.\n",
      "  _warn_prf(average, modifier, msg_start, len(result))\n"
     ]
    }
   ],
   "source": [
    "print_results(y_test,pred_majority)\n",
    "\n",
    "df_accuracy_summary = pd.concat([df_accuracy_summary,\n",
    "                                 export_results(y_test,pred_majority,\n",
    "                                                vectorizer='N/A',model='Predict Majority Class',comments='Baseline Model',\n",
    "                                                idno='0a')])"
   ]
  },
  {
   "cell_type": "markdown",
   "id": "36f5b15f-54a6-4e11-9bd5-de1b7c057dae",
   "metadata": {},
   "source": [
    "This results in a prediction model where none of the posts from stocks it's labeled correctly.\n",
    "\n",
    "This means that we would not be able to obtain any posts for the targeted advertising."
   ]
  },
  {
   "cell_type": "markdown",
   "id": "dd4307ba-cb6a-444d-b8dc-710e45d3f5e1",
   "metadata": {
    "tags": []
   },
   "source": [
    "### (0b) Baseline - Naive Prediction: Target Class"
   ]
  },
  {
   "cell_type": "markdown",
   "id": "af2091b7-8d52-483a-96b9-7fe78f9badfc",
   "metadata": {},
   "source": [
    "The other alternative baseline is to always predict the target class (in this case r/stocks)"
   ]
  },
  {
   "cell_type": "code",
   "execution_count": 18,
   "id": "91c3b8ae-9602-470f-aad8-fdbdf529b300",
   "metadata": {},
   "outputs": [],
   "source": [
    "pred_target = [1]*y_test.shape[0] # generate naive prediction by always predicting target class (i.e.: class 1)"
   ]
  },
  {
   "cell_type": "code",
   "execution_count": 19,
   "id": "d9cb750a-0660-443e-a767-16d97fd02ade",
   "metadata": {},
   "outputs": [
    {
     "name": "stdout",
     "output_type": "stream",
     "text": [
      "[[    0 67929]\n",
      " [    0 13796]]\n",
      "\n",
      "\n"
     ]
    },
    {
     "name": "stderr",
     "output_type": "stream",
     "text": [
      "C:\\ProgramData\\Anaconda3\\lib\\site-packages\\sklearn\\metrics\\_classification.py:1334: UndefinedMetricWarning: Precision and F-score are ill-defined and being set to 0.0 in labels with no predicted samples. Use `zero_division` parameter to control this behavior.\n",
      "  _warn_prf(average, modifier, msg_start, len(result))\n"
     ]
    },
    {
     "name": "stdout",
     "output_type": "stream",
     "text": [
      "              precision    recall  f1-score   support\n",
      "\n",
      "           0       0.00      0.00      0.00     67929\n",
      "           1       0.17      1.00      0.29     13796\n",
      "\n",
      "    accuracy                           0.17     81725\n",
      "   macro avg       0.08      0.50      0.14     81725\n",
      "weighted avg       0.03      0.17      0.05     81725\n",
      "\n"
     ]
    },
    {
     "name": "stderr",
     "output_type": "stream",
     "text": [
      "C:\\ProgramData\\Anaconda3\\lib\\site-packages\\sklearn\\metrics\\_classification.py:1334: UndefinedMetricWarning: Precision and F-score are ill-defined and being set to 0.0 in labels with no predicted samples. Use `zero_division` parameter to control this behavior.\n",
      "  _warn_prf(average, modifier, msg_start, len(result))\n",
      "C:\\ProgramData\\Anaconda3\\lib\\site-packages\\sklearn\\metrics\\_classification.py:1334: UndefinedMetricWarning: Precision and F-score are ill-defined and being set to 0.0 in labels with no predicted samples. Use `zero_division` parameter to control this behavior.\n",
      "  _warn_prf(average, modifier, msg_start, len(result))\n",
      "C:\\ProgramData\\Anaconda3\\lib\\site-packages\\sklearn\\metrics\\_classification.py:1334: UndefinedMetricWarning: Precision and F-score are ill-defined and being set to 0.0 in labels with no predicted samples. Use `zero_division` parameter to control this behavior.\n",
      "  _warn_prf(average, modifier, msg_start, len(result))\n",
      "C:\\ProgramData\\Anaconda3\\lib\\site-packages\\sklearn\\metrics\\_classification.py:1334: UndefinedMetricWarning: Precision and F-score are ill-defined and being set to 0.0 in labels with no predicted samples. Use `zero_division` parameter to control this behavior.\n",
      "  _warn_prf(average, modifier, msg_start, len(result))\n",
      "C:\\ProgramData\\Anaconda3\\lib\\site-packages\\sklearn\\metrics\\_classification.py:1334: UndefinedMetricWarning: Precision and F-score are ill-defined and being set to 0.0 in labels with no predicted samples. Use `zero_division` parameter to control this behavior.\n",
      "  _warn_prf(average, modifier, msg_start, len(result))\n"
     ]
    }
   ],
   "source": [
    "print_results(y_test,pred_target)\n",
    "\n",
    "df_accuracy_summary = pd.concat([df_accuracy_summary,\n",
    "                                 export_results(y_test,pred_target,\n",
    "                                                vectorizer='N/A',model='Predict Target Class',comments='Baseline Model',\n",
    "                                                idno='0b')])"
   ]
  },
  {
   "cell_type": "markdown",
   "id": "a4076d23-af00-4baa-aa5a-df05dd00773c",
   "metadata": {},
   "source": [
    "Using this model, we cover all 100% of r/stocks' posts (100% recall), but also will have a lot of false positive (17% precision)\n",
    "\n",
    "In an advertising context, this means that we will be wasting quite a lot of our advertising budget by serving the ads to the wrong community / subreddit.\n",
    "\n",
    "As such we would need to build A proper model that can give a better classification between the two subreddits."
   ]
  },
  {
   "cell_type": "markdown",
   "id": "52132c2b-e44e-405f-888a-9beecdccef08",
   "metadata": {},
   "source": [
    "## Multinomial NB with CountVectorizer"
   ]
  },
  {
   "cell_type": "markdown",
   "id": "1d429490-0129-4bca-a5de-3884241d1555",
   "metadata": {},
   "source": [
    "The most basic model we can use for classification is the Multinomial Naive Bayes (Multinomial NB).\n",
    "\n",
    "It calculates the probability of each word/n-gram occuring in each of the class, and then uses both the prior probability (based on the ratio of the classes) as well as the conditional probabilities of each of the words to come up with the probability of the message being in either of the class. The Classifier will then assign that observation to the class with the highest probability."
   ]
  },
  {
   "cell_type": "markdown",
   "id": "d41f74cc-913f-443f-b0b4-55eb9206a6bd",
   "metadata": {
    "tags": []
   },
   "source": [
    "### (1a) CVEC + Multinomial NB"
   ]
  },
  {
   "cell_type": "code",
   "execution_count": 20,
   "id": "f25b2846-2ce5-4c24-a963-d61a2a629c98",
   "metadata": {},
   "outputs": [],
   "source": [
    "cvec_nb = MultinomialNB() # instantiating the model\n",
    "cvec_nb.fit(X_train_cvec, y_train) # fitting the model\n",
    "pred_cvec_NB = cvec_nb.predict(X_test_cvec) # generating predictions"
   ]
  },
  {
   "cell_type": "code",
   "execution_count": 21,
   "id": "f4676bb1-9d01-40ac-817a-32524a24d9c2",
   "metadata": {},
   "outputs": [
    {
     "name": "stdout",
     "output_type": "stream",
     "text": [
      "[[67013   916]\n",
      " [11088  2708]]\n",
      "\n",
      "\n",
      "              precision    recall  f1-score   support\n",
      "\n",
      "           0       0.86      0.99      0.92     67929\n",
      "           1       0.75      0.20      0.31     13796\n",
      "\n",
      "    accuracy                           0.85     81725\n",
      "   macro avg       0.80      0.59      0.61     81725\n",
      "weighted avg       0.84      0.85      0.82     81725\n",
      "\n"
     ]
    }
   ],
   "source": [
    "print_results(y_test,pred_cvec_NB)\n",
    "\n",
    "df_accuracy_summary = pd.concat([df_accuracy_summary,\n",
    "                                 export_results(y_test,pred_cvec_NB,\n",
    "                                                vectorizer='CVEC',model='Multinomial NB',comments='Imbalanced dataset',\n",
    "                                                idno='1a')])"
   ]
  },
  {
   "cell_type": "markdown",
   "id": "04851add-ec58-4727-9c9f-46a0f496d10d",
   "metadata": {},
   "source": [
    "Using Multinomial NB with CVEC resulted in a model that is better than the baseline. However, this model still performs poorly on predicting posts from the target class (r/stocks). This is because the training dataset is highly imbalanced, which results in a model that favours the majority class.\n",
    "\n",
    "We can solve this issue by fixing the imbalanced training dataset using various undersampling and oversampling methods.\n",
    "\n",
    "Do note that we will **not be manipulating the test data set** at all. Doing so will result in an erroneously high accuracy metric for the minority class, but this metric will not be Representative of what we can expect on new datasets (which will still be unbalanced)."
   ]
  },
  {
   "cell_type": "markdown",
   "id": "1f172d3f-d8f4-49d5-8adc-34140bd6c3f1",
   "metadata": {
    "tags": []
   },
   "source": [
    "### (1b) CVEC + Multinomial NB | Random Undersampling"
   ]
  },
  {
   "cell_type": "markdown",
   "id": "329de4c6-706d-4fd9-a24a-86c57e1e9df4",
   "metadata": {},
   "source": [
    "The simplest method for producing a balanced data set from an imbalanced data set is to reduce the observations in the majority class to match that from the minority class. This method is called random undersampling."
   ]
  },
  {
   "cell_type": "code",
   "execution_count": 22,
   "id": "7dd05fcb-29fa-455d-a3fb-2dc1c059bfd3",
   "metadata": {},
   "outputs": [],
   "source": [
    "rus = imblearn.under_sampling.RandomUnderSampler(random_state=42) # instantiating the random under-sampler\n",
    "X_train_cvec_rus, y_train_cvec_rus = rus.fit_resample(X_train_cvec, y_train) # conducting under-sampling of the MAJORITY class in the TRAINING dataset only"
   ]
  },
  {
   "cell_type": "code",
   "execution_count": 23,
   "id": "93d3be35-f91d-4aeb-9f63-70b5605dbcf4",
   "metadata": {},
   "outputs": [],
   "source": [
    "cvec_nb_rus = MultinomialNB() # instantiating the model\n",
    "cvec_nb_rus.fit(X_train_cvec_rus, y_train_cvec_rus) # fitting the model\n",
    "pred_cvec_nb_rus = cvec_nb_rus.predict(X_test_cvec) # generating the prediction"
   ]
  },
  {
   "cell_type": "code",
   "execution_count": 24,
   "id": "bb3232cc-1397-4d75-95e3-3f0fd9577848",
   "metadata": {},
   "outputs": [
    {
     "name": "stdout",
     "output_type": "stream",
     "text": [
      "[[51000 16929]\n",
      " [ 3133 10663]]\n",
      "\n",
      "\n",
      "              precision    recall  f1-score   support\n",
      "\n",
      "           0       0.94      0.75      0.84     67929\n",
      "           1       0.39      0.77      0.52     13796\n",
      "\n",
      "    accuracy                           0.75     81725\n",
      "   macro avg       0.66      0.76      0.68     81725\n",
      "weighted avg       0.85      0.75      0.78     81725\n",
      "\n"
     ]
    }
   ],
   "source": [
    "print_results(y_test,pred_cvec_nb_rus)\n",
    "\n",
    "df_accuracy_summary = pd.concat([df_accuracy_summary,\n",
    "                                 export_results(y_test,pred_cvec_nb_rus,\n",
    "                                                vectorizer='CVEC',model='Multinomial NB',comments='Balanced dataset (Random Undersampling)',\n",
    "                                                idno='1b')])"
   ]
  },
  {
   "cell_type": "markdown",
   "id": "56e1cecb-ada1-4c9c-955b-870cd93a28cf",
   "metadata": {},
   "source": [
    "Compared to the results from the untreated data setwe can see that the model performs slightly worse on the majority class, and performs much better on the minority class.\n",
    "\n",
    "However, when doing random undersampling we are in fact throwing away useful information by dropping the extra observations in the majority class. You can observe that there is a slight drop in the weighted average f1-score (from 0.81 to 0.78)."
   ]
  },
  {
   "cell_type": "markdown",
   "id": "5949ff59-27ec-4b9e-bd2e-81f47800adb4",
   "metadata": {
    "tags": []
   },
   "source": [
    "### (1c) CVEC + Multinomial NB | Random Oversampling"
   ]
  },
  {
   "cell_type": "markdown",
   "id": "5cb94555-ea64-4e4c-913a-12419a4b6a83",
   "metadata": {},
   "source": [
    "The simplest method to conduct oversampling is to do a random oversampling. This is done by sampling observations from the minority class (with replacement) Until the number of observation matches that of the majority class."
   ]
  },
  {
   "cell_type": "code",
   "execution_count": 25,
   "id": "95d2a2f5-e927-43a9-b60e-b3a04f29b467",
   "metadata": {},
   "outputs": [],
   "source": [
    "ros = imblearn.over_sampling.RandomOverSampler(random_state=42) # instantiating the random over-sampler\n",
    "X_train_cvec_ros, y_train_cvec_ros = ros.fit_resample(X_train_cvec, y_train) # conducting over-sampling of the MINORITY class in the TRAINING dataset only"
   ]
  },
  {
   "cell_type": "code",
   "execution_count": 26,
   "id": "d11bb9d2-401f-4147-af61-42b621d92d26",
   "metadata": {},
   "outputs": [],
   "source": [
    "cvec_nb_ros = MultinomialNB() # instantiating the model\n",
    "cvec_nb_ros.fit(X_train_cvec_ros, y_train_cvec_ros) # fitting the model\n",
    "pred_cvec_NB_ros = cvec_nb_ros.predict(X_test_cvec) # generating the prediction"
   ]
  },
  {
   "cell_type": "code",
   "execution_count": 27,
   "id": "805d2bba-47db-41f2-9e17-fd4f3181aaa1",
   "metadata": {},
   "outputs": [
    {
     "name": "stdout",
     "output_type": "stream",
     "text": [
      "[[54789 13140]\n",
      " [ 3788 10008]]\n",
      "\n",
      "\n",
      "              precision    recall  f1-score   support\n",
      "\n",
      "           0       0.94      0.81      0.87     67929\n",
      "           1       0.43      0.73      0.54     13796\n",
      "\n",
      "    accuracy                           0.79     81725\n",
      "   macro avg       0.68      0.77      0.70     81725\n",
      "weighted avg       0.85      0.79      0.81     81725\n",
      "\n"
     ]
    }
   ],
   "source": [
    "print_results(y_test,pred_cvec_NB_ros)\n",
    "\n",
    "df_accuracy_summary = pd.concat([df_accuracy_summary,\n",
    "                                 export_results(y_test,pred_cvec_NB_ros,\n",
    "                                                vectorizer='CVEC',model='Multinomial NB',comments='Balanced dataset (Random Oversampling)',\n",
    "                                                idno='1c')])"
   ]
  },
  {
   "cell_type": "markdown",
   "id": "75e916bd-c111-475a-beb8-b345cc3e6846",
   "metadata": {},
   "source": [
    "The performance of the model with the randomly oversampled dataset is similar to that from the randomly undersampled dataset. However, we can observe a minor improvement in the f1-score for both the minority and majority class. This is because we did not discard any useful information (i.e.: observations) like we did in the random undersampling."
   ]
  },
  {
   "cell_type": "markdown",
   "id": "5416fd6d-19fa-4608-a7f5-d3d44dde4efd",
   "metadata": {
    "tags": []
   },
   "source": [
    "### (1d) CVEC + Multinomial NB | SMOTE Oversampling"
   ]
  },
  {
   "cell_type": "markdown",
   "id": "44cef9a2-3703-44a7-860a-87173810b560",
   "metadata": {},
   "source": [
    "We will also attempt another method for oversampling, which is called the Synthetic Minority Oversampling Technique (or SMOTE in short). This type of oversampling it's done by creating synthetic data in between various existing data points [[source]](https://machinelearningmastery.com/smote-oversampling-for-imbalanced-classification/).\n",
    "\n",
    "Typically this type of oversampling would yield better metrics compared to the random oversampling [[source]](https://www.ncbi.nlm.nih.gov/pmc/articles/PMC3648438/). Certain types of models / applications (such as those in medical fields) strongly prefers not to have have synthetic or made-up observations. In this particular project, where we are generating models for applications in the advertising industry, there would be no such problem in generating these synthetic observations.  \n",
    "\n",
    "Furthermore, SMOTE oversampling requires us to make an assumption that the sample mean and variance is equal to that of the population (which could not always be said is true, especially for medical trials data). However, since we are sampling the entire population of the posts from the two subreddits, we know that the sample *is* equal to the population. As such, this synthetic oversampling technique would be suitable for our problem."
   ]
  },
  {
   "cell_type": "code",
   "execution_count": 28,
   "id": "692bd36d-d419-4285-be0f-7710947db150",
   "metadata": {},
   "outputs": [],
   "source": [
    "SMOTE = imblearn.over_sampling.SMOTE(n_jobs=-1) # instantiating the SMOTE over-sampler\n",
    "X_train_cvec_SMOTE, y_train_cvec_SMOTE = SMOTE.fit_resample(X_train_cvec, y_train) # conducting over-sampling of the MINORITY class in the TRAINING dataset only"
   ]
  },
  {
   "cell_type": "code",
   "execution_count": 29,
   "id": "e9f7b150-1e7a-4acc-8f84-8fb955835ef9",
   "metadata": {},
   "outputs": [],
   "source": [
    "cvec_nb_SMOTE = MultinomialNB() # instantiating the model\n",
    "cvec_nb_SMOTE.fit(X_train_cvec_SMOTE, y_train_cvec_SMOTE) # fitting the model\n",
    "pred_cvec_NB_SMOTE = cvec_nb_SMOTE.predict(X_test_cvec) # generating the prediction"
   ]
  },
  {
   "cell_type": "code",
   "execution_count": 30,
   "id": "d71a8c21-c89b-4bd5-a180-5f8f1b6a4090",
   "metadata": {},
   "outputs": [
    {
     "name": "stdout",
     "output_type": "stream",
     "text": [
      "[[61963  5966]\n",
      " [ 6838  6958]]\n",
      "\n",
      "\n",
      "              precision    recall  f1-score   support\n",
      "\n",
      "           0       0.90      0.91      0.91     67929\n",
      "           1       0.54      0.50      0.52     13796\n",
      "\n",
      "    accuracy                           0.84     81725\n",
      "   macro avg       0.72      0.71      0.71     81725\n",
      "weighted avg       0.84      0.84      0.84     81725\n",
      "\n"
     ]
    }
   ],
   "source": [
    "print_results(y_test,pred_cvec_NB_SMOTE)\n",
    "\n",
    "df_accuracy_summary = pd.concat([df_accuracy_summary,\n",
    "                                 export_results(y_test,pred_cvec_NB_SMOTE,\n",
    "                                                vectorizer='CVEC',model='Multinomial NB',comments='Balanced dataset (SMOTE Oversampling)',\n",
    "                                                idno='1d')])"
   ]
  },
  {
   "cell_type": "markdown",
   "id": "2f602381-b26a-4539-b586-c1a62cdf3042",
   "metadata": {},
   "source": [
    "The model which incorporates SMOTE Oversampling performs Similarly to those with random oversampling. There is a slight reduction in the f1-score for the minority/target class. However, this is more than made up by the increase in the f1-score for the majority class.\n",
    "\n",
    "Based on the weighted average f1-score, the Multinomial NB model with CVEC and SMOTE oversampling yielded the best performance metric.\n",
    "\n",
    "The interpretation of coefficients from the Multinomial NB model will be done in the final section."
   ]
  },
  {
   "cell_type": "markdown",
   "id": "17a9829c-b473-4e30-b8e3-eeaa00caf78e",
   "metadata": {},
   "source": [
    "## Multinomial NB with TF-IDF Vectorizer"
   ]
  },
  {
   "cell_type": "markdown",
   "id": "58a17cd6-3d4e-4a07-9b94-3b16c1fdd932",
   "metadata": {},
   "source": [
    "The following section and code box repeats the above experiment but with a TF-IDF vectorizer.\n",
    "\n",
    "The result of the various sampling method and vectorizer will be discussed in the next section."
   ]
  },
  {
   "cell_type": "markdown",
   "id": "3e807b4a-c6f1-4b00-99ae-af94cf2e9a41",
   "metadata": {
    "tags": []
   },
   "source": [
    "### (2a) TF-IDF + Multinomial NB"
   ]
  },
  {
   "cell_type": "code",
   "execution_count": 31,
   "id": "011583bb-1f13-4f3a-8a49-721d4dedb9e5",
   "metadata": {},
   "outputs": [],
   "source": [
    "tfidf_nb = MultinomialNB() # instantiating the model\n",
    "tfidf_nb.fit(X_train_tfidf, y_train) # fitting the model\n",
    "pred_tfidf_NB = tfidf_nb.predict(X_test_cvec) # generating the prediction"
   ]
  },
  {
   "cell_type": "code",
   "execution_count": 32,
   "id": "932685e5-4048-47e3-9c54-85784d54ab8f",
   "metadata": {},
   "outputs": [
    {
     "name": "stdout",
     "output_type": "stream",
     "text": [
      "[[67788   141]\n",
      " [12950   846]]\n",
      "\n",
      "\n",
      "              precision    recall  f1-score   support\n",
      "\n",
      "           0       0.84      1.00      0.91     67929\n",
      "           1       0.86      0.06      0.11     13796\n",
      "\n",
      "    accuracy                           0.84     81725\n",
      "   macro avg       0.85      0.53      0.51     81725\n",
      "weighted avg       0.84      0.84      0.78     81725\n",
      "\n"
     ]
    }
   ],
   "source": [
    "print_results(y_test,pred_tfidf_NB)\n",
    "\n",
    "df_accuracy_summary = pd.concat([df_accuracy_summary,\n",
    "                                 export_results(y_test,pred_tfidf_NB,\n",
    "                                                vectorizer='TF-IDF',model='Multinomial NB',comments='Imbalanced dataset',\n",
    "                                                idno='2a')])"
   ]
  },
  {
   "cell_type": "markdown",
   "id": "ad96d469-6e91-4d20-aac0-bcb1f3811140",
   "metadata": {
    "tags": []
   },
   "source": [
    "### (2b) TF-IDF + Multinomial NB | Random Undersampling"
   ]
  },
  {
   "cell_type": "code",
   "execution_count": 33,
   "id": "17d5a249-98f9-4df2-9f3a-68980b40408b",
   "metadata": {},
   "outputs": [],
   "source": [
    "rus = imblearn.under_sampling.RandomUnderSampler(random_state=42) # instantiating the random under-sampler\n",
    "X_train_tfidf_rus, y_train_tfidf_rus = rus.fit_resample(X_train_tfidf, y_train) # conducting under-sampling of the MAJORITY class in the TRAINING dataset only"
   ]
  },
  {
   "cell_type": "code",
   "execution_count": 34,
   "id": "581c322f-d18c-4a54-9c02-7e72cdf2eaa3",
   "metadata": {},
   "outputs": [],
   "source": [
    "tfidf_nb_rus = MultinomialNB() # instantiating the model\n",
    "tfidf_nb_rus.fit(X_train_tfidf_rus, y_train_tfidf_rus) # fitting the model\n",
    "pred_tfidf_nb_rus = tfidf_nb_rus.predict(X_test_tfidf) # generating the prediction"
   ]
  },
  {
   "cell_type": "code",
   "execution_count": 35,
   "id": "8668a6ff-295c-4bda-a33e-bb954065c1c9",
   "metadata": {},
   "outputs": [
    {
     "name": "stdout",
     "output_type": "stream",
     "text": [
      "[[49111 18818]\n",
      " [ 2811 10985]]\n",
      "\n",
      "\n",
      "              precision    recall  f1-score   support\n",
      "\n",
      "           0       0.95      0.72      0.82     67929\n",
      "           1       0.37      0.80      0.50     13796\n",
      "\n",
      "    accuracy                           0.74     81725\n",
      "   macro avg       0.66      0.76      0.66     81725\n",
      "weighted avg       0.85      0.74      0.77     81725\n",
      "\n"
     ]
    }
   ],
   "source": [
    "print_results(y_test,pred_tfidf_nb_rus)\n",
    "\n",
    "df_accuracy_summary = pd.concat([df_accuracy_summary,\n",
    "                                 export_results(y_test,pred_tfidf_nb_rus,\n",
    "                                                vectorizer='TF-IDF',model='Multinomial NB',comments='Balanced dataset (Random Undersampling)',\n",
    "                                                idno='2b')])"
   ]
  },
  {
   "cell_type": "markdown",
   "id": "82951735-ffc7-4967-bbe7-b2015bc7a738",
   "metadata": {
    "tags": []
   },
   "source": [
    "### (2c) TF-IDF + Multinomial NB | Random Oversampling"
   ]
  },
  {
   "cell_type": "code",
   "execution_count": 36,
   "id": "16081e86-9654-4387-9d84-d7db04a0c86f",
   "metadata": {},
   "outputs": [],
   "source": [
    "ros = imblearn.over_sampling.RandomOverSampler(random_state=42) # instantiating the random over-sampler\n",
    "X_train_tfidf_ros, y_train_tfidf_ros = ros.fit_resample(X_train_tfidf, y_train) # conducting over-sampling of the MINORITY class in the TRAINING dataset only"
   ]
  },
  {
   "cell_type": "code",
   "execution_count": 37,
   "id": "a83182de-1d6d-4447-895e-62e45d09d24f",
   "metadata": {},
   "outputs": [],
   "source": [
    "tfidf_nb_ros = MultinomialNB() # instantiating the model\n",
    "tfidf_nb_ros.fit(X_train_tfidf_ros, y_train_tfidf_ros) # fitting the model\n",
    "pred_tfidf_NB_ros = cvec_nb_ros.predict(X_test_tfidf) # generating the prediction"
   ]
  },
  {
   "cell_type": "code",
   "execution_count": 38,
   "id": "c1118c1b-52fb-4e24-842e-41514bd99b5a",
   "metadata": {},
   "outputs": [
    {
     "name": "stdout",
     "output_type": "stream",
     "text": [
      "[[55382 12547]\n",
      " [ 4173  9623]]\n",
      "\n",
      "\n",
      "              precision    recall  f1-score   support\n",
      "\n",
      "           0       0.93      0.82      0.87     67929\n",
      "           1       0.43      0.70      0.54     13796\n",
      "\n",
      "    accuracy                           0.80     81725\n",
      "   macro avg       0.68      0.76      0.70     81725\n",
      "weighted avg       0.85      0.80      0.81     81725\n",
      "\n"
     ]
    }
   ],
   "source": [
    "print_results(y_test,pred_tfidf_NB_ros)\n",
    "\n",
    "df_accuracy_summary = pd.concat([df_accuracy_summary,\n",
    "                                 export_results(y_test,pred_tfidf_NB_ros,\n",
    "                                                vectorizer='TF-IDF',model='Multinomial NB',comments='Balanced dataset (Random Oversampling)',\n",
    "                                                idno='2c')])"
   ]
  },
  {
   "cell_type": "markdown",
   "id": "d09b9d88-fcf7-4881-bd39-f75048d62e7c",
   "metadata": {
    "tags": []
   },
   "source": [
    "### (2d) TF-IDF + Multinomial NB | SMOTE Oversampling"
   ]
  },
  {
   "cell_type": "code",
   "execution_count": 39,
   "id": "94496099-c927-4f1c-b79c-5a9c58c0c59d",
   "metadata": {},
   "outputs": [],
   "source": [
    "SMOTE = imblearn.over_sampling.SMOTE(n_jobs=-1) # instantiating the SMOTE over-sampler\n",
    "X_train_tfidf_SMOTE, y_train_tfidf_SMOTE = SMOTE.fit_resample(X_train_tfidf, y_train) # conducting over-sampling of the MINORITY class in the TRAINING dataset only"
   ]
  },
  {
   "cell_type": "code",
   "execution_count": 40,
   "id": "35ec862b-e119-4b7d-98d4-dd31ddb72ece",
   "metadata": {},
   "outputs": [],
   "source": [
    "tfidf_nb_SMOTE = MultinomialNB() # instantiating the model\n",
    "tfidf_nb_SMOTE.fit(X_train_tfidf_SMOTE, y_train_tfidf_SMOTE) # fitting the model\n",
    "pred_tfidf_NB_SMOTE = tfidf_nb_SMOTE.predict(X_test_tfidf) # generating the prediction"
   ]
  },
  {
   "cell_type": "code",
   "execution_count": 41,
   "id": "7de93056-13b8-45bd-afb4-3e5d15ce2ed5",
   "metadata": {
    "tags": []
   },
   "outputs": [
    {
     "name": "stdout",
     "output_type": "stream",
     "text": [
      "[[59204  8725]\n",
      " [ 5229  8567]]\n",
      "\n",
      "\n",
      "              precision    recall  f1-score   support\n",
      "\n",
      "           0       0.92      0.87      0.89     67929\n",
      "           1       0.50      0.62      0.55     13796\n",
      "\n",
      "    accuracy                           0.83     81725\n",
      "   macro avg       0.71      0.75      0.72     81725\n",
      "weighted avg       0.85      0.83      0.84     81725\n",
      "\n"
     ]
    }
   ],
   "source": [
    "print_results(y_test,pred_tfidf_NB_SMOTE)\n",
    "\n",
    "df_accuracy_summary = pd.concat([df_accuracy_summary,\n",
    "                                 export_results(y_test,pred_tfidf_NB_SMOTE,\n",
    "                                                vectorizer='TF-IDF',model='Multinomial NB',comments='Balanced dataset (SMOTE Oversampling)',\n",
    "                                                idno='2d')])"
   ]
  },
  {
   "cell_type": "markdown",
   "id": "3d7f8c17-e360-41a3-b276-83ed1e694569",
   "metadata": {
    "tags": []
   },
   "source": [
    "## Comparison of Vectorizer and Sampling Method"
   ]
  },
  {
   "cell_type": "code",
   "execution_count": 42,
   "id": "ea22a535-66f3-41f0-bd14-ddb3b1301d2f",
   "metadata": {},
   "outputs": [
    {
     "data": {
      "text/html": [
       "<div>\n",
       "<style scoped>\n",
       "    .dataframe tbody tr th:only-of-type {\n",
       "        vertical-align: middle;\n",
       "    }\n",
       "\n",
       "    .dataframe tbody tr th {\n",
       "        vertical-align: top;\n",
       "    }\n",
       "\n",
       "    .dataframe thead th {\n",
       "        text-align: right;\n",
       "    }\n",
       "</style>\n",
       "<table border=\"1\" class=\"dataframe\">\n",
       "  <thead>\n",
       "    <tr style=\"text-align: right;\">\n",
       "      <th></th>\n",
       "      <th>vectorizer</th>\n",
       "      <th>comments</th>\n",
       "      <th>c1_f1</th>\n",
       "      <th>c0_f1</th>\n",
       "      <th>wt_avg_f1</th>\n",
       "    </tr>\n",
       "  </thead>\n",
       "  <tbody>\n",
       "    <tr>\n",
       "      <th>1a</th>\n",
       "      <td>CVEC</td>\n",
       "      <td>Imbalanced dataset</td>\n",
       "      <td>0.310907</td>\n",
       "      <td>0.917798</td>\n",
       "      <td>0.815348</td>\n",
       "    </tr>\n",
       "    <tr>\n",
       "      <th>1b</th>\n",
       "      <td>CVEC</td>\n",
       "      <td>Balanced dataset (Random Undersampling)</td>\n",
       "      <td>0.515270</td>\n",
       "      <td>0.835641</td>\n",
       "      <td>0.781559</td>\n",
       "    </tr>\n",
       "    <tr>\n",
       "      <th>1c</th>\n",
       "      <td>CVEC</td>\n",
       "      <td>Balanced dataset (Random Oversampling)</td>\n",
       "      <td>0.541793</td>\n",
       "      <td>0.866188</td>\n",
       "      <td>0.811427</td>\n",
       "    </tr>\n",
       "    <tr>\n",
       "      <th>1d</th>\n",
       "      <td>CVEC</td>\n",
       "      <td>Balanced dataset (SMOTE Oversampling)</td>\n",
       "      <td>0.520808</td>\n",
       "      <td>0.906356</td>\n",
       "      <td>0.841271</td>\n",
       "    </tr>\n",
       "    <tr>\n",
       "      <th>2a</th>\n",
       "      <td>TF-IDF</td>\n",
       "      <td>Imbalanced dataset</td>\n",
       "      <td>0.114456</td>\n",
       "      <td>0.911944</td>\n",
       "      <td>0.777320</td>\n",
       "    </tr>\n",
       "    <tr>\n",
       "      <th>2b</th>\n",
       "      <td>TF-IDF</td>\n",
       "      <td>Balanced dataset (Random Undersampling)</td>\n",
       "      <td>0.503911</td>\n",
       "      <td>0.819534</td>\n",
       "      <td>0.766254</td>\n",
       "    </tr>\n",
       "    <tr>\n",
       "      <th>2c</th>\n",
       "      <td>TF-IDF</td>\n",
       "      <td>Balanced dataset (Random Oversampling)</td>\n",
       "      <td>0.535116</td>\n",
       "      <td>0.868846</td>\n",
       "      <td>0.812509</td>\n",
       "    </tr>\n",
       "    <tr>\n",
       "      <th>2d</th>\n",
       "      <td>TF-IDF</td>\n",
       "      <td>Balanced dataset (SMOTE Oversampling)</td>\n",
       "      <td>0.551145</td>\n",
       "      <td>0.894577</td>\n",
       "      <td>0.836602</td>\n",
       "    </tr>\n",
       "  </tbody>\n",
       "</table>\n",
       "</div>"
      ],
      "text/plain": [
       "   vectorizer                                 comments     c1_f1     c0_f1  \\\n",
       "1a       CVEC                       Imbalanced dataset  0.310907  0.917798   \n",
       "1b       CVEC  Balanced dataset (Random Undersampling)  0.515270  0.835641   \n",
       "1c       CVEC   Balanced dataset (Random Oversampling)  0.541793  0.866188   \n",
       "1d       CVEC    Balanced dataset (SMOTE Oversampling)  0.520808  0.906356   \n",
       "2a     TF-IDF                       Imbalanced dataset  0.114456  0.911944   \n",
       "2b     TF-IDF  Balanced dataset (Random Undersampling)  0.503911  0.819534   \n",
       "2c     TF-IDF   Balanced dataset (Random Oversampling)  0.535116  0.868846   \n",
       "2d     TF-IDF    Balanced dataset (SMOTE Oversampling)  0.551145  0.894577   \n",
       "\n",
       "    wt_avg_f1  \n",
       "1a   0.815348  \n",
       "1b   0.781559  \n",
       "1c   0.811427  \n",
       "1d   0.841271  \n",
       "2a   0.777320  \n",
       "2b   0.766254  \n",
       "2c   0.812509  \n",
       "2d   0.836602  "
      ]
     },
     "execution_count": 42,
     "metadata": {},
     "output_type": "execute_result"
    }
   ],
   "source": [
    "df_accuracy_summary[['vectorizer','comments','c1_f1','c0_f1','wt_avg_f1']].loc['1a':'2d'] # displaying the relevant part of the summary table"
   ]
  },
  {
   "cell_type": "code",
   "execution_count": 43,
   "id": "a8f7e8da-575c-4f6c-ba6d-e67ae3a79398",
   "metadata": {},
   "outputs": [
    {
     "data": {
      "image/png": "[encoded data removed]",
      "text/plain": [
       "<Figure size 1200x600 with 2 Axes>"
      ]
     },
     "metadata": {},
     "output_type": "display_data"
    }
   ],
   "source": [
    "fig, (ax1, ax2) = plt.subplots(ncols=2, figsize=(12, 6), sharey=True, gridspec_kw={'wspace': 0})\n",
    "\n",
    "# draw subplot at the right\n",
    "sns.barplot(data=df_accuracy_summary.loc['1a':'2d'], \n",
    "            x='c1_f1', y='comments',hue='vectorizer',\n",
    "            orient='horizontal', dodge=True, ax=ax2)\n",
    "ax2.yaxis.set_label_position('right')\n",
    "ax2.tick_params(axis='y', labelright=True, right=True)\n",
    "ax2.set_title('  '+'r/stocks', loc='left')\n",
    "ax2.set(ylabel='',xlabel='f1-score (r/stocks)')\n",
    "\n",
    "# draw subplot at the left\n",
    "sns.barplot(data=df_accuracy_summary.loc['1a':'2d'], \n",
    "            x='c0_f1', y='comments',hue='vectorizer',\n",
    "            orient='horizontal', dodge=True, ax=ax1)\n",
    "\n",
    "# use the same scale left and right\n",
    "xmax = max(ax1.get_xlim()[1], ax2.get_xlim()[1])\n",
    "ax1.set_xlim(xmax=xmax)\n",
    "ax2.set_xlim(xmax=xmax)\n",
    "\n",
    "ax1.invert_xaxis()  # reverse the direction\n",
    "ax1.tick_params(labelleft=False, left=False)\n",
    "ax1.set_title('r/wsb'+'  ', loc='right')\n",
    "ax1.set(ylabel='',xlabel='f1-score (r/wsb)')\n",
    "ax1.legend_.remove() # remove the legend; the legend +will be in ax2\n",
    "\n",
    "plt.tight_layout()\n",
    "plt.show()"
   ]
  },
  {
   "cell_type": "markdown",
   "id": "1a2d2b65-e8b7-4f60-82ea-f4377457c34f",
   "metadata": {},
   "source": [
    "The figure and table above shows the f1-score for both the target/minority class and the majority class, based on the predictions from models with various vectorizer and sampling methods.\n",
    "- We can see that the model trained on the imbalanced dataset resulted in best performance best on the majority class and worst on the minority class.\n",
    "- Using various a sampling technique resulted in a more balanced prediction accuracu between the majority and minority class.\n",
    "- Using either CVEC and TF-IDF resulted in similar performance across the board.\n",
    "- The model which performs best for both classes (based on the weighted average f1-score) is the Multinomial NB model with Count Vectorizer and SMOTE Oversampling.\n",
    "    - As such, both the Count Vectorizer and SMOTE Oversampling will be the default vectorizer and sampling method used for the rest of the modeling."
   ]
  },
  {
   "cell_type": "markdown",
   "id": "bde730fa-4602-4f3c-ad2f-52c7db88abf6",
   "metadata": {
    "tags": []
   },
   "source": [
    "## (3) Logistic Regression"
   ]
  },
  {
   "cell_type": "code",
   "execution_count": 44,
   "id": "ea39ead4-63df-4009-bdd6-c779b3805c8c",
   "metadata": {},
   "outputs": [
    {
     "data": {
      "text/html": [
       "<style>#sk-container-id-1 {color: black;background-color: white;}#sk-container-id-1 pre{padding: 0;}#sk-container-id-1 div.sk-toggleable {background-color: white;}#sk-container-id-1 label.sk-toggleable__label {cursor: pointer;display: block;width: 100%;margin-bottom: 0;padding: 0.3em;box-sizing: border-box;text-align: center;}#sk-container-id-1 label.sk-toggleable__label-arrow:before {content: \"▸\";float: left;margin-right: 0.25em;color: #696969;}#sk-container-id-1 label.sk-toggleable__label-arrow:hover:before {color: black;}#sk-container-id-1 div.sk-estimator:hover label.sk-toggleable__label-arrow:before {color: black;}#sk-container-id-1 div.sk-toggleable__content {max-height: 0;max-width: 0;overflow: hidden;text-align: left;background-color: #f0f8ff;}#sk-container-id-1 div.sk-toggleable__content pre {margin: 0.2em;color: black;border-radius: 0.25em;background-color: #f0f8ff;}#sk-container-id-1 input.sk-toggleable__control:checked~div.sk-toggleable__content {max-height: 200px;max-width: 100%;overflow: auto;}#sk-container-id-1 input.sk-toggleable__control:checked~label.sk-toggleable__label-arrow:before {content: \"▾\";}#sk-container-id-1 div.sk-estimator input.sk-toggleable__control:checked~label.sk-toggleable__label {background-color: #d4ebff;}#sk-container-id-1 div.sk-label input.sk-toggleable__control:checked~label.sk-toggleable__label {background-color: #d4ebff;}#sk-container-id-1 input.sk-hidden--visually {border: 0;clip: rect(1px 1px 1px 1px);clip: rect(1px, 1px, 1px, 1px);height: 1px;margin: -1px;overflow: hidden;padding: 0;position: absolute;width: 1px;}#sk-container-id-1 div.sk-estimator {font-family: monospace;background-color: #f0f8ff;border: 1px dotted black;border-radius: 0.25em;box-sizing: border-box;margin-bottom: 0.5em;}#sk-container-id-1 div.sk-estimator:hover {background-color: #d4ebff;}#sk-container-id-1 div.sk-parallel-item::after {content: \"\";width: 100%;border-bottom: 1px solid gray;flex-grow: 1;}#sk-container-id-1 div.sk-label:hover label.sk-toggleable__label {background-color: #d4ebff;}#sk-container-id-1 div.sk-serial::before {content: \"\";position: absolute;border-left: 1px solid gray;box-sizing: border-box;top: 0;bottom: 0;left: 50%;z-index: 0;}#sk-container-id-1 div.sk-serial {display: flex;flex-direction: column;align-items: center;background-color: white;padding-right: 0.2em;padding-left: 0.2em;position: relative;}#sk-container-id-1 div.sk-item {position: relative;z-index: 1;}#sk-container-id-1 div.sk-parallel {display: flex;align-items: stretch;justify-content: center;background-color: white;position: relative;}#sk-container-id-1 div.sk-item::before, #sk-container-id-1 div.sk-parallel-item::before {content: \"\";position: absolute;border-left: 1px solid gray;box-sizing: border-box;top: 0;bottom: 0;left: 50%;z-index: -1;}#sk-container-id-1 div.sk-parallel-item {display: flex;flex-direction: column;z-index: 1;position: relative;background-color: white;}#sk-container-id-1 div.sk-parallel-item:first-child::after {align-self: flex-end;width: 50%;}#sk-container-id-1 div.sk-parallel-item:last-child::after {align-self: flex-start;width: 50%;}#sk-container-id-1 div.sk-parallel-item:only-child::after {width: 0;}#sk-container-id-1 div.sk-dashed-wrapped {border: 1px dashed gray;margin: 0 0.4em 0.5em 0.4em;box-sizing: border-box;padding-bottom: 0.4em;background-color: white;}#sk-container-id-1 div.sk-label label {font-family: monospace;font-weight: bold;display: inline-block;line-height: 1.2em;}#sk-container-id-1 div.sk-label-container {text-align: center;}#sk-container-id-1 div.sk-container {/* jupyter's `normalize.less` sets `[hidden] { display: none; }` but bootstrap.min.css set `[hidden] { display: none !important; }` so we also need the `!important` here to be able to override the default hidden behavior on the sphinx rendered scikit-learn.org. See: https://github.com/scikit-learn/scikit-learn/issues/21755 */display: inline-block !important;position: relative;}#sk-container-id-1 div.sk-text-repr-fallback {display: none;}</style><div id=\"sk-container-id-1\" class=\"sk-top-container\"><div class=\"sk-text-repr-fallback\"><pre>LogisticRegression(C=359.38136638046257, penalty=&#x27;l1&#x27;, random_state=42,\n",
       "                   solver=&#x27;liblinear&#x27;)</pre><b>In a Jupyter environment, please rerun this cell to show the HTML representation or trust the notebook. <br />On GitHub, the HTML representation is unable to render, please try loading this page with nbviewer.org.</b></div><div class=\"sk-container\" hidden><div class=\"sk-item\"><div class=\"sk-estimator sk-toggleable\"><input class=\"sk-toggleable__control sk-hidden--visually\" id=\"sk-estimator-id-1\" type=\"checkbox\" checked><label for=\"sk-estimator-id-1\" class=\"sk-toggleable__label sk-toggleable__label-arrow\">LogisticRegression</label><div class=\"sk-toggleable__content\"><pre>LogisticRegression(C=359.38136638046257, penalty=&#x27;l1&#x27;, random_state=42,\n",
       "                   solver=&#x27;liblinear&#x27;)</pre></div></div></div></div></div>"
      ],
      "text/plain": [
       "LogisticRegression(C=359.38136638046257, penalty='l1', random_state=42,\n",
       "                   solver='liblinear')"
      ]
     },
     "execution_count": 44,
     "metadata": {},
     "output_type": "execute_result"
    }
   ],
   "source": [
    "# cvec_logreg_SMOTE = GridSearchCV(linear_model.LogisticRegression(penalty='l1',solver='liblinear',random_state=42), # instantiating the gridsearch for the logistic regression model\n",
    "#                                  param_grid={'C':1/np.logspace(-3,1,10)}, # setting the search grid for 'C' (i.e.: the regularization strength 1/alpha)\n",
    "#                                  scoring='f1', # setting the scoring method\n",
    "#                                  verbose=3,n_jobs=-1, # setting the verbosity of the report, as well as the number of threads to be used to maximum\n",
    "#                                 )\n",
    "\n",
    "# based on the gridsearch above, the best parameter is: {'C': 359.38136638046257} which obtained a CV score of 0.8298082801257396\n",
    "\n",
    "\n",
    "# print(f\"Best Parameter: {cvec_logreg_SMOTE.best_params_}\") # displaying the best parameter\n",
    "# print(f\"Best Score: {cvec_logreg_SMOTE.best_score_}\") # displaying the best CV score\n",
    "\n",
    "cvec_logreg_SMOTE = linear_model.LogisticRegression(penalty='l1',solver='liblinear',random_state=42,C=359.38136638046257)\n",
    "\n",
    "cvec_logreg_SMOTE.fit(X_train_cvec_SMOTE,y_train_cvec_SMOTE) # fitting the model"
   ]
  },
  {
   "cell_type": "code",
   "execution_count": 45,
   "id": "f278c17c-a880-45ff-969d-83059b0eafc3",
   "metadata": {},
   "outputs": [
    {
     "data": {
      "text/html": [
       "<style>#sk-container-id-2 {color: black;background-color: white;}#sk-container-id-2 pre{padding: 0;}#sk-container-id-2 div.sk-toggleable {background-color: white;}#sk-container-id-2 label.sk-toggleable__label {cursor: pointer;display: block;width: 100%;margin-bottom: 0;padding: 0.3em;box-sizing: border-box;text-align: center;}#sk-container-id-2 label.sk-toggleable__label-arrow:before {content: \"▸\";float: left;margin-right: 0.25em;color: #696969;}#sk-container-id-2 label.sk-toggleable__label-arrow:hover:before {color: black;}#sk-container-id-2 div.sk-estimator:hover label.sk-toggleable__label-arrow:before {color: black;}#sk-container-id-2 div.sk-toggleable__content {max-height: 0;max-width: 0;overflow: hidden;text-align: left;background-color: #f0f8ff;}#sk-container-id-2 div.sk-toggleable__content pre {margin: 0.2em;color: black;border-radius: 0.25em;background-color: #f0f8ff;}#sk-container-id-2 input.sk-toggleable__control:checked~div.sk-toggleable__content {max-height: 200px;max-width: 100%;overflow: auto;}#sk-container-id-2 input.sk-toggleable__control:checked~label.sk-toggleable__label-arrow:before {content: \"▾\";}#sk-container-id-2 div.sk-estimator input.sk-toggleable__control:checked~label.sk-toggleable__label {background-color: #d4ebff;}#sk-container-id-2 div.sk-label input.sk-toggleable__control:checked~label.sk-toggleable__label {background-color: #d4ebff;}#sk-container-id-2 input.sk-hidden--visually {border: 0;clip: rect(1px 1px 1px 1px);clip: rect(1px, 1px, 1px, 1px);height: 1px;margin: -1px;overflow: hidden;padding: 0;position: absolute;width: 1px;}#sk-container-id-2 div.sk-estimator {font-family: monospace;background-color: #f0f8ff;border: 1px dotted black;border-radius: 0.25em;box-sizing: border-box;margin-bottom: 0.5em;}#sk-container-id-2 div.sk-estimator:hover {background-color: #d4ebff;}#sk-container-id-2 div.sk-parallel-item::after {content: \"\";width: 100%;border-bottom: 1px solid gray;flex-grow: 1;}#sk-container-id-2 div.sk-label:hover label.sk-toggleable__label {background-color: #d4ebff;}#sk-container-id-2 div.sk-serial::before {content: \"\";position: absolute;border-left: 1px solid gray;box-sizing: border-box;top: 0;bottom: 0;left: 50%;z-index: 0;}#sk-container-id-2 div.sk-serial {display: flex;flex-direction: column;align-items: center;background-color: white;padding-right: 0.2em;padding-left: 0.2em;position: relative;}#sk-container-id-2 div.sk-item {position: relative;z-index: 1;}#sk-container-id-2 div.sk-parallel {display: flex;align-items: stretch;justify-content: center;background-color: white;position: relative;}#sk-container-id-2 div.sk-item::before, #sk-container-id-2 div.sk-parallel-item::before {content: \"\";position: absolute;border-left: 1px solid gray;box-sizing: border-box;top: 0;bottom: 0;left: 50%;z-index: -1;}#sk-container-id-2 div.sk-parallel-item {display: flex;flex-direction: column;z-index: 1;position: relative;background-color: white;}#sk-container-id-2 div.sk-parallel-item:first-child::after {align-self: flex-end;width: 50%;}#sk-container-id-2 div.sk-parallel-item:last-child::after {align-self: flex-start;width: 50%;}#sk-container-id-2 div.sk-parallel-item:only-child::after {width: 0;}#sk-container-id-2 div.sk-dashed-wrapped {border: 1px dashed gray;margin: 0 0.4em 0.5em 0.4em;box-sizing: border-box;padding-bottom: 0.4em;background-color: white;}#sk-container-id-2 div.sk-label label {font-family: monospace;font-weight: bold;display: inline-block;line-height: 1.2em;}#sk-container-id-2 div.sk-label-container {text-align: center;}#sk-container-id-2 div.sk-container {/* jupyter's `normalize.less` sets `[hidden] { display: none; }` but bootstrap.min.css set `[hidden] { display: none !important; }` so we also need the `!important` here to be able to override the default hidden behavior on the sphinx rendered scikit-learn.org. See: https://github.com/scikit-learn/scikit-learn/issues/21755 */display: inline-block !important;position: relative;}#sk-container-id-2 div.sk-text-repr-fallback {display: none;}</style><div id=\"sk-container-id-2\" class=\"sk-top-container\"><div class=\"sk-text-repr-fallback\"><pre>LogisticRegression(C=359.38136638046257, penalty=&#x27;l1&#x27;, random_state=42,\n",
       "                   solver=&#x27;liblinear&#x27;)</pre><b>In a Jupyter environment, please rerun this cell to show the HTML representation or trust the notebook. <br />On GitHub, the HTML representation is unable to render, please try loading this page with nbviewer.org.</b></div><div class=\"sk-container\" hidden><div class=\"sk-item\"><div class=\"sk-estimator sk-toggleable\"><input class=\"sk-toggleable__control sk-hidden--visually\" id=\"sk-estimator-id-2\" type=\"checkbox\" checked><label for=\"sk-estimator-id-2\" class=\"sk-toggleable__label sk-toggleable__label-arrow\">LogisticRegression</label><div class=\"sk-toggleable__content\"><pre>LogisticRegression(C=359.38136638046257, penalty=&#x27;l1&#x27;, random_state=42,\n",
       "                   solver=&#x27;liblinear&#x27;)</pre></div></div></div></div></div>"
      ],
      "text/plain": [
       "LogisticRegression(C=359.38136638046257, penalty='l1', random_state=42,\n",
       "                   solver='liblinear')"
      ]
     },
     "execution_count": 45,
     "metadata": {},
     "output_type": "execute_result"
    }
   ],
   "source": [
    "# cvec_logreg_SMOTE = GridSearchCV(linear_model.LogisticRegression(penalty='l1',solver='liblinear',random_state=42), # instantiating the gridsearch for the logistic regression model\n",
    "#                                  param_grid={'C':1/np.logspace(-3,1,10)}, # setting the search grid for 'C' (i.e.: the regularization strength 1/alpha)\n",
    "#                                  scoring='f1', # setting the scoring method\n",
    "#                                  verbose=3,n_jobs=-1, # setting the verbosity of the report, as well as the number of threads to be used to maximum\n",
    "#                                 )\n",
    "\n",
    "# based on the gridsearch above, the best parameter is: {'C': 359.38136638046257} which obtained a CV score of 0.8298082801257396\n",
    "\n",
    "\n",
    "# print(f\"Best Parameter: {cvec_logreg_SMOTE.best_params_}\") # displaying the best parameter\n",
    "# print(f\"Best Score: {cvec_logreg_SMOTE.best_score_}\") # displaying the best CV score\n",
    "\n",
    "cvec_logreg_SMOTE = linear_model.LogisticRegression(penalty='l1',solver='liblinear',random_state=42,C=359.38136638046257)\n",
    "\n",
    "cvec_logreg_SMOTE.fit(X_train_cvec_SMOTE,y_train_cvec_SMOTE) # fitting the model"
   ]
  },
  {
   "cell_type": "code",
   "execution_count": 46,
   "id": "e77bbedf-1eb0-4bbf-89b9-47c266978fce",
   "metadata": {},
   "outputs": [],
   "source": [
    "pred_cvec_logreg_SMOTE = cvec_logreg_SMOTE.predict(X_test_cvec) # generating the predictions"
   ]
  },
  {
   "cell_type": "code",
   "execution_count": 47,
   "id": "8f1dadde-a237-4670-996e-49f9a213a73f",
   "metadata": {},
   "outputs": [
    {
     "name": "stdout",
     "output_type": "stream",
     "text": [
      "[[57722 10207]\n",
      " [ 7141  6655]]\n",
      "\n",
      "\n",
      "              precision    recall  f1-score   support\n",
      "\n",
      "           0       0.89      0.85      0.87     67929\n",
      "           1       0.39      0.48      0.43     13796\n",
      "\n",
      "    accuracy                           0.79     81725\n",
      "   macro avg       0.64      0.67      0.65     81725\n",
      "weighted avg       0.81      0.79      0.80     81725\n",
      "\n"
     ]
    }
   ],
   "source": [
    "print_results(y_test,pred_cvec_logreg_SMOTE)\n",
    "\n",
    "df_accuracy_summary = pd.concat([df_accuracy_summary,\n",
    "                                 export_results(y_test,pred_cvec_logreg_SMOTE,\n",
    "                                                vectorizer='CVEC',model='Logistic Regression',comments='Balanced dataset (SMOTE Oversampling)',\n",
    "                                                idno='3')])"
   ]
  },
  {
   "cell_type": "markdown",
   "id": "6885df9e-e5a4-4e91-966c-731e43330510",
   "metadata": {
    "tags": []
   },
   "source": [
    "### Interpretation of Coefficients"
   ]
  },
  {
   "cell_type": "markdown",
   "id": "722d801f-5b4d-4696-83dd-46d0091770c4",
   "metadata": {},
   "source": [
    "We can interpret the coefficients of the logistic regression model to see which of the n-grams are the most related to each of the subreddits."
   ]
  },
  {
   "cell_type": "code",
   "execution_count": 48,
   "id": "ea7c6ed5-614a-4196-9ca0-f9ea2017c78d",
   "metadata": {},
   "outputs": [
    {
     "name": "stdout",
     "output_type": "stream",
     "text": [
      "n-grams related to r/stocks\n"
     ]
    },
    {
     "data": {
      "text/html": [
       "<div>\n",
       "<style scoped>\n",
       "    .dataframe tbody tr th:only-of-type {\n",
       "        vertical-align: middle;\n",
       "    }\n",
       "\n",
       "    .dataframe tbody tr th {\n",
       "        vertical-align: top;\n",
       "    }\n",
       "\n",
       "    .dataframe thead th {\n",
       "        text-align: right;\n",
       "    }\n",
       "</style>\n",
       "<table border=\"1\" class=\"dataframe\">\n",
       "  <thead>\n",
       "    <tr style=\"text-align: right;\">\n",
       "      <th></th>\n",
       "      <th>coef</th>\n",
       "    </tr>\n",
       "  </thead>\n",
       "  <tbody>\n",
       "    <tr>\n",
       "      <th>body dick</th>\n",
       "      <td>47.001827</td>\n",
       "    </tr>\n",
       "    <tr>\n",
       "      <th>tdoc talk</th>\n",
       "      <td>46.780733</td>\n",
       "    </tr>\n",
       "    <tr>\n",
       "      <th>isn funny</th>\n",
       "      <td>43.978312</td>\n",
       "    </tr>\n",
       "    <tr>\n",
       "      <th>boy glad</th>\n",
       "      <td>38.320677</td>\n",
       "    </tr>\n",
       "    <tr>\n",
       "      <th>today jim</th>\n",
       "      <td>36.301259</td>\n",
       "    </tr>\n",
       "    <tr>\n",
       "      <th>bitcoin</th>\n",
       "      <td>35.297137</td>\n",
       "    </tr>\n",
       "    <tr>\n",
       "      <th>stocks real</th>\n",
       "      <td>34.602307</td>\n",
       "    </tr>\n",
       "    <tr>\n",
       "      <th>gov shutdown</th>\n",
       "      <td>34.145469</td>\n",
       "    </tr>\n",
       "    <tr>\n",
       "      <th>hit time high</th>\n",
       "      <td>33.462778</td>\n",
       "    </tr>\n",
       "    <tr>\n",
       "      <th>family life</th>\n",
       "      <td>33.324115</td>\n",
       "    </tr>\n",
       "  </tbody>\n",
       "</table>\n",
       "</div>"
      ],
      "text/plain": [
       "                    coef\n",
       "body dick      47.001827\n",
       "tdoc talk      46.780733\n",
       "isn funny      43.978312\n",
       "boy glad       38.320677\n",
       "today jim      36.301259\n",
       "bitcoin        35.297137\n",
       "stocks real    34.602307\n",
       "gov shutdown   34.145469\n",
       "hit time high  33.462778\n",
       "family life    33.324115"
      ]
     },
     "metadata": {},
     "output_type": "display_data"
    },
    {
     "name": "stdout",
     "output_type": "stream",
     "text": [
      "\n",
      "\n",
      "n-grams related to r/wsb\n"
     ]
    },
    {
     "data": {
      "text/html": [
       "<div>\n",
       "<style scoped>\n",
       "    .dataframe tbody tr th:only-of-type {\n",
       "        vertical-align: middle;\n",
       "    }\n",
       "\n",
       "    .dataframe tbody tr th {\n",
       "        vertical-align: top;\n",
       "    }\n",
       "\n",
       "    .dataframe thead th {\n",
       "        text-align: right;\n",
       "    }\n",
       "</style>\n",
       "<table border=\"1\" class=\"dataframe\">\n",
       "  <thead>\n",
       "    <tr style=\"text-align: right;\">\n",
       "      <th></th>\n",
       "      <th>coef</th>\n",
       "    </tr>\n",
       "  </thead>\n",
       "  <tbody>\n",
       "    <tr>\n",
       "      <th>stocks benefit epic</th>\n",
       "      <td>-27.149191</td>\n",
       "    </tr>\n",
       "    <tr>\n",
       "      <th>term dividend stocks</th>\n",
       "      <td>-26.125038</td>\n",
       "    </tr>\n",
       "    <tr>\n",
       "      <th>good platform buy</th>\n",
       "      <td>-25.389976</td>\n",
       "    </tr>\n",
       "    <tr>\n",
       "      <th>ttm charging</th>\n",
       "      <td>-24.349166</td>\n",
       "    </tr>\n",
       "    <tr>\n",
       "      <th>app invest stocks</th>\n",
       "      <td>-24.139413</td>\n",
       "    </tr>\n",
       "    <tr>\n",
       "      <th>redux</th>\n",
       "      <td>-24.066178</td>\n",
       "    </tr>\n",
       "    <tr>\n",
       "      <th>starting advice beginner</th>\n",
       "      <td>-23.968586</td>\n",
       "    </tr>\n",
       "    <tr>\n",
       "      <th>increased arcadeland</th>\n",
       "      <td>-23.412561</td>\n",
       "    </tr>\n",
       "    <tr>\n",
       "      <th>25 wealthsimple</th>\n",
       "      <td>-22.516532</td>\n",
       "    </tr>\n",
       "    <tr>\n",
       "      <th>sectors invested</th>\n",
       "      <td>-22.515973</td>\n",
       "    </tr>\n",
       "  </tbody>\n",
       "</table>\n",
       "</div>"
      ],
      "text/plain": [
       "                               coef\n",
       "stocks benefit epic      -27.149191\n",
       "term dividend stocks     -26.125038\n",
       "good platform buy        -25.389976\n",
       "ttm charging             -24.349166\n",
       "app invest stocks        -24.139413\n",
       "redux                    -24.066178\n",
       "starting advice beginner -23.968586\n",
       "increased arcadeland     -23.412561\n",
       "25 wealthsimple          -22.516532\n",
       "sectors invested         -22.515973"
      ]
     },
     "metadata": {},
     "output_type": "display_data"
    }
   ],
   "source": [
    "# casting the coefficient (and it's labels) to a dataframe\n",
    "cvec_logreg_SMOTE_coeffs_df = pd.DataFrame(cvec_logreg_SMOTE.coef_[0],index=cvec.get_feature_names_out(),columns=['coef'])\n",
    "print('n-grams related to r/stocks')\n",
    "display(cvec_logreg_SMOTE_coeffs_df.sort_values('coef',ascending=False).head(10)) # displaying the top ten positive coefficients\n",
    "print('\\n')\n",
    "print('n-grams related to r/wsb')\n",
    "display(cvec_logreg_SMOTE_coeffs_df.sort_values('coef',ascending=True).head(10)) # displaying the top ten negative coefficients"
   ]
  },
  {
   "cell_type": "markdown",
   "id": "fd55bec3-0dda-497c-a781-348868ca145d",
   "metadata": {},
   "source": [
    "The result shown above is somewhat unexpected, as it doesn't match the result obtained in the preliminary EDA (see notebook 2).\n",
    "\n",
    "However, we can see that the ngram is more related to stocks here those more related to cryptocurrency (doge, bitcoin crypto). On the other hand, the n-grams related to WSB are even more random, though we can see several commonly-repated phrases (e.g.: yolo).\n",
    "\n",
    "When we manually look for the coefficient of the n-grams from notebook 2, we can see that these n-grams still have the correct sign (i.e.: positive for r/stocks and negative for r/wsb) despite having a smaller magnitude."
   ]
  },
  {
   "cell_type": "code",
   "execution_count": 49,
   "id": "30bf4e3d-153a-4672-a171-40ca6367ccd3",
   "metadata": {},
   "outputs": [
    {
     "data": {
      "text/html": [
       "<div>\n",
       "<style scoped>\n",
       "    .dataframe tbody tr th:only-of-type {\n",
       "        vertical-align: middle;\n",
       "    }\n",
       "\n",
       "    .dataframe tbody tr th {\n",
       "        vertical-align: top;\n",
       "    }\n",
       "\n",
       "    .dataframe thead th {\n",
       "        text-align: right;\n",
       "    }\n",
       "</style>\n",
       "<table border=\"1\" class=\"dataframe\">\n",
       "  <thead>\n",
       "    <tr style=\"text-align: right;\">\n",
       "      <th></th>\n",
       "      <th>coef</th>\n",
       "    </tr>\n",
       "  </thead>\n",
       "  <tbody>\n",
       "    <tr>\n",
       "      <th>gme</th>\n",
       "      <td>-5.237397</td>\n",
       "    </tr>\n",
       "    <tr>\n",
       "      <th>yolo</th>\n",
       "      <td>-7.273103</td>\n",
       "    </tr>\n",
       "    <tr>\n",
       "      <th>apes</th>\n",
       "      <td>-12.286384</td>\n",
       "    </tr>\n",
       "    <tr>\n",
       "      <th>wsb</th>\n",
       "      <td>-14.262672</td>\n",
       "    </tr>\n",
       "    <tr>\n",
       "      <th>clov</th>\n",
       "      <td>-6.760210</td>\n",
       "    </tr>\n",
       "    <tr>\n",
       "      <th>going moon</th>\n",
       "      <td>-9.020488</td>\n",
       "    </tr>\n",
       "    <tr>\n",
       "      <th>life savings</th>\n",
       "      <td>0.385321</td>\n",
       "    </tr>\n",
       "    <tr>\n",
       "      <th>short sellers</th>\n",
       "      <td>-5.443369</td>\n",
       "    </tr>\n",
       "    <tr>\n",
       "      <th>buy buy buy</th>\n",
       "      <td>-5.648132</td>\n",
       "    </tr>\n",
       "  </tbody>\n",
       "</table>\n",
       "</div>"
      ],
      "text/plain": [
       "                    coef\n",
       "gme            -5.237397\n",
       "yolo           -7.273103\n",
       "apes          -12.286384\n",
       "wsb           -14.262672\n",
       "clov           -6.760210\n",
       "going moon     -9.020488\n",
       "life savings    0.385321\n",
       "short sellers  -5.443369\n",
       "buy buy buy    -5.648132"
      ]
     },
     "metadata": {},
     "output_type": "display_data"
    },
    {
     "data": {
      "text/html": [
       "<div>\n",
       "<style scoped>\n",
       "    .dataframe tbody tr th:only-of-type {\n",
       "        vertical-align: middle;\n",
       "    }\n",
       "\n",
       "    .dataframe tbody tr th {\n",
       "        vertical-align: top;\n",
       "    }\n",
       "\n",
       "    .dataframe thead th {\n",
       "        text-align: right;\n",
       "    }\n",
       "</style>\n",
       "<table border=\"1\" class=\"dataframe\">\n",
       "  <thead>\n",
       "    <tr style=\"text-align: right;\">\n",
       "      <th></th>\n",
       "      <th>coef</th>\n",
       "    </tr>\n",
       "  </thead>\n",
       "  <tbody>\n",
       "    <tr>\n",
       "      <th>beginner</th>\n",
       "      <td>0.569143</td>\n",
       "    </tr>\n",
       "    <tr>\n",
       "      <th>index</th>\n",
       "      <td>2.774659</td>\n",
       "    </tr>\n",
       "    <tr>\n",
       "      <th>etf</th>\n",
       "      <td>2.862410</td>\n",
       "    </tr>\n",
       "    <tr>\n",
       "      <th>etfs</th>\n",
       "      <td>2.419544</td>\n",
       "    </tr>\n",
       "    <tr>\n",
       "      <th>long term</th>\n",
       "      <td>7.474466</td>\n",
       "    </tr>\n",
       "    <tr>\n",
       "      <th>index fund</th>\n",
       "      <td>1.956142</td>\n",
       "    </tr>\n",
       "    <tr>\n",
       "      <th>investing stocks</th>\n",
       "      <td>1.999085</td>\n",
       "    </tr>\n",
       "    <tr>\n",
       "      <th>dividend stock</th>\n",
       "      <td>6.691500</td>\n",
       "    </tr>\n",
       "    <tr>\n",
       "      <th>dollar cost averaging</th>\n",
       "      <td>0.000000</td>\n",
       "    </tr>\n",
       "  </tbody>\n",
       "</table>\n",
       "</div>"
      ],
      "text/plain": [
       "                           coef\n",
       "beginner               0.569143\n",
       "index                  2.774659\n",
       "etf                    2.862410\n",
       "etfs                   2.419544\n",
       "long term              7.474466\n",
       "index fund             1.956142\n",
       "investing stocks       1.999085\n",
       "dividend stock         6.691500\n",
       "dollar cost averaging  0.000000"
      ]
     },
     "metadata": {},
     "output_type": "display_data"
    }
   ],
   "source": [
    "display(cvec_logreg_SMOTE_coeffs_df.loc[['gme','yolo','apes','wsb','clov','going moon','life savings','short sellers','buy buy buy']])\n",
    "display(cvec_logreg_SMOTE_coeffs_df.loc[['beginner','index','etf','etfs','long term','index fund','investing stocks','dividend stock','dollar cost averaging']])"
   ]
  },
  {
   "cell_type": "markdown",
   "id": "e3ce0729-4b33-4442-8c43-360ecab53345",
   "metadata": {},
   "source": [
    "### Number of Non-Zero Coefficients"
   ]
  },
  {
   "cell_type": "code",
   "execution_count": 50,
   "id": "97c1ffcb-41ac-45e4-b739-f45399401a41",
   "metadata": {},
   "outputs": [
    {
     "data": {
      "text/plain": [
       "172048"
      ]
     },
     "execution_count": 50,
     "metadata": {},
     "output_type": "execute_result"
    }
   ],
   "source": [
    "# Display number of non-null coefficients\n",
    "cvec_logreg_SMOTE_coeffs_df['coef'].astype(bool).sum(axis=0)"
   ]
  },
  {
   "cell_type": "code",
   "execution_count": 51,
   "id": "89785b5a-9d96-4674-9998-28dcf8271161",
   "metadata": {},
   "outputs": [
    {
     "data": {
      "text/plain": [
       "0.14591579445522015"
      ]
     },
     "execution_count": 51,
     "metadata": {},
     "output_type": "execute_result"
    }
   ],
   "source": [
    "# display ratio of non non coefficients against total number of coefficients\n",
    "cvec_logreg_SMOTE_coeffs_df['coef'].astype(bool).sum(axis=0) / cvec_logreg_SMOTE_coeffs_df['coef'].shape[0]"
   ]
  },
  {
   "cell_type": "markdown",
   "id": "263adec3-e4c9-4efe-a6dd-72b5f2a2efa1",
   "metadata": {},
   "source": [
    "The calculations above shows that the regularization method used in the logistic regression has eliminated a large majority of the n-grams.\n",
    "\n",
    "In fact, only about 16% of the n-grams were deemed significant in the logistic regression model."
   ]
  },
  {
   "cell_type": "markdown",
   "id": "4786fa9e-8698-44c2-b15d-bd3afd4b0b42",
   "metadata": {
    "tags": []
   },
   "source": [
    "## (4) Random Forest Classifier"
   ]
  },
  {
   "cell_type": "markdown",
   "id": "028fed2b-b4c3-4f36-94c3-b55d74e7ba3c",
   "metadata": {},
   "source": [
    "We have also trained two more complex models, namely: the Random Forest Classifier and the AdaBoost Classifier."
   ]
  },
  {
   "cell_type": "code",
   "execution_count": 52,
   "id": "7a4deb18-4c61-481e-84af-aac24c36b3b3",
   "metadata": {
    "tags": []
   },
   "outputs": [],
   "source": [
    "cvec_rfc_SMOTE = ensemble.RandomForestClassifier(n_estimators=1000, max_depth=100, min_samples_leaf=1, min_samples_split=0.5, # The hyperparameters are chosen based on the best result from the randomized search shown below\n",
    "                                                 random_state=42,n_jobs=-1)\n",
    "cvec_rfc_SMOTE.fit(X_train_cvec_SMOTE, y_train_cvec_SMOTE) # fitting the model\n",
    "pred_cvec_rfc_SMOTE = cvec_rfc_SMOTE.predict(X_test_cvec) # generating the prediction"
   ]
  },
  {
   "cell_type": "code",
   "execution_count": 53,
   "id": "96bf7473-f0eb-4611-b64a-308a7c3fda56",
   "metadata": {},
   "outputs": [
    {
     "name": "stdout",
     "output_type": "stream",
     "text": [
      "[[46782 21147]\n",
      " [ 5110  8686]]\n",
      "\n",
      "\n",
      "              precision    recall  f1-score   support\n",
      "\n",
      "           0       0.90      0.69      0.78     67929\n",
      "           1       0.29      0.63      0.40     13796\n",
      "\n",
      "    accuracy                           0.68     81725\n",
      "   macro avg       0.60      0.66      0.59     81725\n",
      "weighted avg       0.80      0.68      0.72     81725\n",
      "\n"
     ]
    }
   ],
   "source": [
    "print_results(y_test,pred_cvec_rfc_SMOTE)\n",
    "\n",
    "df_accuracy_summary = pd.concat([df_accuracy_summary,\n",
    "                                 export_results(y_test,pred_cvec_rfc_SMOTE,\n",
    "                                                vectorizer='CVEC',model='Random Forest Classifier',comments='Balanced dataset (SMOTE Oversampling)',\n",
    "                                                idno='4')])"
   ]
  },
  {
   "cell_type": "markdown",
   "id": "b55e3d2a-3e00-49e9-ab21-d3e734b14336",
   "metadata": {},
   "source": [
    "Surprisingly the RFC Model performed worse on classifying both the majority and the minority class, compared to the multinomial NB model."
   ]
  },
  {
   "cell_type": "code",
   "execution_count": 54,
   "id": "b7c52684-2f18-4e43-b7d4-6df7424e706f",
   "metadata": {},
   "outputs": [],
   "source": [
    "# The lines of code below are used to find the optimal hyperparameters for the random forest classifier\n",
    "\n",
    "# # defining the search space for the RFC randomized search\n",
    "# cvec_rfc_SMOTE_search_space =  {'n_estimators':[100,500,750,1000],\n",
    "#                                'max_depth':[5,10,50,100],\n",
    "#                                'min_samples_split':[0.1,0.5,1],\n",
    "#                                'min_samples_leaf':[0.1,0.5,1]}\n",
    "\n",
    "# # conducting randomized search to find the optimum parameters for RFC\n",
    "# cvec_rfc_SMOTE_randomsearch = RandomizedSearchCV(estimator=ensemble.RandomForestClassifier(random_state=42,n_jobs=-1),\n",
    "#                                                  param_distributions=cvec_rfc_SMOTE_search_space,\n",
    "#                                                  n_iter=70, scoring='f1_weighted',cv=4, # Setting up 4-fold cross validation for a random 70 parameters combination\n",
    "#                                                  n_jobs=-1,random_state=42)\n",
    "# cvec_rfc_SMOTE_randomsearch.fit(X_train_cvec_SMOTE, y_train_cvec_SMOTE) # fitting the model\n",
    "\n",
    "# pred_cvec_rfc_SMOTE_randomsearch = cvec_rfc_SMOTE_randomsearch.predict(X_test_cvec) # generating the prediction\n",
    "\n",
    "# print_results(y_test,pred_cvec_rfc_SMOTE_randomsearch)\n",
    "\n",
    "# print(cvec_rfc_SMOTE_randomsearch.best_params_)"
   ]
  },
  {
   "cell_type": "markdown",
   "id": "f595e00e-2d5f-47a4-8093-aae09eedc8c7",
   "metadata": {
    "tags": []
   },
   "source": [
    "## (5) AdaBoost Classifier"
   ]
  },
  {
   "cell_type": "code",
   "execution_count": 55,
   "id": "3b390633-2461-42cd-b6ba-98b15d48070f",
   "metadata": {},
   "outputs": [],
   "source": [
    "cvec_adaboost_SMOTE = ensemble.AdaBoostClassifier(n_estimators=1000, learning_rate=1, # The hyperparameters are chosen based on the best result from the randomized search shown below\n",
    "                                                  random_state=42)\n",
    "cvec_adaboost_SMOTE.fit(X_train_cvec_SMOTE, y_train_cvec_SMOTE) # fitting the model\n",
    "pred_cvec_adaboost_SMOTE = cvec_adaboost_SMOTE.predict(X_test_cvec) # generating the prediction"
   ]
  },
  {
   "cell_type": "code",
   "execution_count": 56,
   "id": "b52698ac-bfe6-4337-8553-db2c3c1922bd",
   "metadata": {},
   "outputs": [
    {
     "name": "stdout",
     "output_type": "stream",
     "text": [
      "[[49659 18270]\n",
      " [ 5008  8788]]\n",
      "\n",
      "\n",
      "              precision    recall  f1-score   support\n",
      "\n",
      "           0       0.91      0.73      0.81     67929\n",
      "           1       0.32      0.64      0.43     13796\n",
      "\n",
      "    accuracy                           0.72     81725\n",
      "   macro avg       0.62      0.68      0.62     81725\n",
      "weighted avg       0.81      0.72      0.75     81725\n",
      "\n"
     ]
    }
   ],
   "source": [
    "print_results(y_test,pred_cvec_adaboost_SMOTE)\n",
    "\n",
    "df_accuracy_summary = pd.concat([df_accuracy_summary,\n",
    "                                 export_results(y_test,pred_cvec_adaboost_SMOTE, \n",
    "                                                vectorizer='CVEC',model='AdaBoost Classifier',comments='Balanced dataset (SMOTE Oversampling)',\n",
    "                                                idno='5')])"
   ]
  },
  {
   "cell_type": "markdown",
   "id": "aef16f2b-93cd-43dd-b609-bce0bab0493b",
   "metadata": {},
   "source": [
    "Again, similar to the RFC Model, the AdaBoost model also performed worse on classifying both the majority and the minority class|, compared to the multinomial NB model."
   ]
  },
  {
   "cell_type": "code",
   "execution_count": 57,
   "id": "d1163840-fedd-45e6-9d77-d08b349ccc9d",
   "metadata": {},
   "outputs": [],
   "source": [
    "# # The lines of code below are used to find the optimal hyperparameters for the random forest classifier\n",
    "\n",
    "# # defining the search space for the AdaBoost randomized search\n",
    "# cvec_adaboost_SMOTE_search_space = {'n_estimators':[50,100,500,1000],\n",
    "#                                     'learning_rate':[0.1,0.5,1,5,10]}\n",
    "\n",
    "# # conducting randomized search to find the optimum parameters for RFC\n",
    "# cvec_adaboost_SMOTE_randomsearch = RandomizedSearchCV(estimator=ensemble.AdaBoostClassifier(random_state=42),\n",
    "#                                                  param_distributions=cvec_adaboost_SMOTE_search_space, \n",
    "#                                                  n_iter=10, scoring='f1_weighted',cv=4, # Setting up 4-fold cross validation for a random 70 parameters combination\n",
    "#                                                  n_jobs=-1,random_state=42)\n",
    "\n",
    "# cvec_adaboost_SMOTE_randomsearch.fit(X_train_cvec_short_SMOTE, y_train_cvec_short_SMOTE) # fitting the model\n",
    "\n",
    "# pred_cvec_adaboost_SMOTE_randomsearch = cvec_adaboost_SMOTE_randomsearch.predict(X_test_cvec_short) # generating the prediction\n",
    "\n",
    "# print_results(y_test,pred_cvec_adaboost_SMOTE_randomsearch)\n",
    "\n",
    "# print(cvec_adaboost_SMOTE_randomsearch.best_params_)"
   ]
  },
  {
   "cell_type": "markdown",
   "id": "67e97e27-0014-4c80-ad3b-66a6edb6889a",
   "metadata": {
    "tags": []
   },
   "source": [
    "# Summary of Models"
   ]
  },
  {
   "cell_type": "code",
   "execution_count": 58,
   "id": "ea33af2f-fb17-42c3-8b60-6ca199632d4a",
   "metadata": {},
   "outputs": [],
   "source": [
    "df_accuracy_summary.index.name='id'"
   ]
  },
  {
   "cell_type": "code",
   "execution_count": 59,
   "id": "0e30e2dc-ba3d-4d70-addc-31bc281d2b45",
   "metadata": {},
   "outputs": [
    {
     "data": {
      "text/html": [
       "<div>\n",
       "<style scoped>\n",
       "    .dataframe tbody tr th:only-of-type {\n",
       "        vertical-align: middle;\n",
       "    }\n",
       "\n",
       "    .dataframe tbody tr th {\n",
       "        vertical-align: top;\n",
       "    }\n",
       "\n",
       "    .dataframe thead th {\n",
       "        text-align: right;\n",
       "    }\n",
       "</style>\n",
       "<table border=\"1\" class=\"dataframe\">\n",
       "  <thead>\n",
       "    <tr style=\"text-align: right;\">\n",
       "      <th></th>\n",
       "      <th>vectorizer</th>\n",
       "      <th>model</th>\n",
       "      <th>comments</th>\n",
       "      <th>accuracy</th>\n",
       "      <th>c1_precision</th>\n",
       "      <th>c1_recall</th>\n",
       "      <th>c1_f1</th>\n",
       "      <th>c0_f1</th>\n",
       "      <th>macro_avg_f1</th>\n",
       "      <th>wt_avg_f1</th>\n",
       "    </tr>\n",
       "    <tr>\n",
       "      <th>id</th>\n",
       "      <th></th>\n",
       "      <th></th>\n",
       "      <th></th>\n",
       "      <th></th>\n",
       "      <th></th>\n",
       "      <th></th>\n",
       "      <th></th>\n",
       "      <th></th>\n",
       "      <th></th>\n",
       "      <th></th>\n",
       "    </tr>\n",
       "  </thead>\n",
       "  <tbody>\n",
       "    <tr>\n",
       "      <th>0a</th>\n",
       "      <td>N/A</td>\n",
       "      <td>Predict Majority Class</td>\n",
       "      <td>Baseline Model</td>\n",
       "      <td>0.831</td>\n",
       "      <td>0.000</td>\n",
       "      <td>0.000</td>\n",
       "      <td>0.000</td>\n",
       "      <td>0.908</td>\n",
       "      <td>0.454</td>\n",
       "      <td>0.755</td>\n",
       "    </tr>\n",
       "    <tr>\n",
       "      <th>0b</th>\n",
       "      <td>N/A</td>\n",
       "      <td>Predict Target Class</td>\n",
       "      <td>Baseline Model</td>\n",
       "      <td>0.169</td>\n",
       "      <td>0.169</td>\n",
       "      <td>1.000</td>\n",
       "      <td>0.289</td>\n",
       "      <td>0.000</td>\n",
       "      <td>0.144</td>\n",
       "      <td>0.049</td>\n",
       "    </tr>\n",
       "    <tr>\n",
       "      <th>1a</th>\n",
       "      <td>CVEC</td>\n",
       "      <td>Multinomial NB</td>\n",
       "      <td>Imbalanced dataset</td>\n",
       "      <td>0.853</td>\n",
       "      <td>0.747</td>\n",
       "      <td>0.196</td>\n",
       "      <td>0.311</td>\n",
       "      <td>0.918</td>\n",
       "      <td>0.614</td>\n",
       "      <td>0.815</td>\n",
       "    </tr>\n",
       "    <tr>\n",
       "      <th>1b</th>\n",
       "      <td>CVEC</td>\n",
       "      <td>Multinomial NB</td>\n",
       "      <td>Balanced dataset (Random Undersampling)</td>\n",
       "      <td>0.755</td>\n",
       "      <td>0.386</td>\n",
       "      <td>0.773</td>\n",
       "      <td>0.515</td>\n",
       "      <td>0.836</td>\n",
       "      <td>0.675</td>\n",
       "      <td>0.782</td>\n",
       "    </tr>\n",
       "    <tr>\n",
       "      <th>1c</th>\n",
       "      <td>CVEC</td>\n",
       "      <td>Multinomial NB</td>\n",
       "      <td>Balanced dataset (Random Oversampling)</td>\n",
       "      <td>0.793</td>\n",
       "      <td>0.432</td>\n",
       "      <td>0.725</td>\n",
       "      <td>0.542</td>\n",
       "      <td>0.866</td>\n",
       "      <td>0.704</td>\n",
       "      <td>0.811</td>\n",
       "    </tr>\n",
       "    <tr>\n",
       "      <th>1d</th>\n",
       "      <td>CVEC</td>\n",
       "      <td>Multinomial NB</td>\n",
       "      <td>Balanced dataset (SMOTE Oversampling)</td>\n",
       "      <td>0.843</td>\n",
       "      <td>0.538</td>\n",
       "      <td>0.504</td>\n",
       "      <td>0.521</td>\n",
       "      <td>0.906</td>\n",
       "      <td>0.714</td>\n",
       "      <td>0.841</td>\n",
       "    </tr>\n",
       "    <tr>\n",
       "      <th>2a</th>\n",
       "      <td>TF-IDF</td>\n",
       "      <td>Multinomial NB</td>\n",
       "      <td>Imbalanced dataset</td>\n",
       "      <td>0.840</td>\n",
       "      <td>0.857</td>\n",
       "      <td>0.061</td>\n",
       "      <td>0.114</td>\n",
       "      <td>0.912</td>\n",
       "      <td>0.513</td>\n",
       "      <td>0.777</td>\n",
       "    </tr>\n",
       "    <tr>\n",
       "      <th>2b</th>\n",
       "      <td>TF-IDF</td>\n",
       "      <td>Multinomial NB</td>\n",
       "      <td>Balanced dataset (Random Undersampling)</td>\n",
       "      <td>0.735</td>\n",
       "      <td>0.369</td>\n",
       "      <td>0.796</td>\n",
       "      <td>0.504</td>\n",
       "      <td>0.820</td>\n",
       "      <td>0.662</td>\n",
       "      <td>0.766</td>\n",
       "    </tr>\n",
       "    <tr>\n",
       "      <th>2c</th>\n",
       "      <td>TF-IDF</td>\n",
       "      <td>Multinomial NB</td>\n",
       "      <td>Balanced dataset (Random Oversampling)</td>\n",
       "      <td>0.795</td>\n",
       "      <td>0.434</td>\n",
       "      <td>0.698</td>\n",
       "      <td>0.535</td>\n",
       "      <td>0.869</td>\n",
       "      <td>0.702</td>\n",
       "      <td>0.813</td>\n",
       "    </tr>\n",
       "    <tr>\n",
       "      <th>2d</th>\n",
       "      <td>TF-IDF</td>\n",
       "      <td>Multinomial NB</td>\n",
       "      <td>Balanced dataset (SMOTE Oversampling)</td>\n",
       "      <td>0.829</td>\n",
       "      <td>0.495</td>\n",
       "      <td>0.621</td>\n",
       "      <td>0.551</td>\n",
       "      <td>0.895</td>\n",
       "      <td>0.723</td>\n",
       "      <td>0.837</td>\n",
       "    </tr>\n",
       "    <tr>\n",
       "      <th>3</th>\n",
       "      <td>CVEC</td>\n",
       "      <td>Logistic Regression</td>\n",
       "      <td>Balanced dataset (SMOTE Oversampling)</td>\n",
       "      <td>0.788</td>\n",
       "      <td>0.395</td>\n",
       "      <td>0.482</td>\n",
       "      <td>0.434</td>\n",
       "      <td>0.869</td>\n",
       "      <td>0.652</td>\n",
       "      <td>0.796</td>\n",
       "    </tr>\n",
       "    <tr>\n",
       "      <th>4</th>\n",
       "      <td>CVEC</td>\n",
       "      <td>Random Forest Classifier</td>\n",
       "      <td>Balanced dataset (SMOTE Oversampling)</td>\n",
       "      <td>0.679</td>\n",
       "      <td>0.291</td>\n",
       "      <td>0.630</td>\n",
       "      <td>0.398</td>\n",
       "      <td>0.781</td>\n",
       "      <td>0.590</td>\n",
       "      <td>0.716</td>\n",
       "    </tr>\n",
       "    <tr>\n",
       "      <th>5</th>\n",
       "      <td>CVEC</td>\n",
       "      <td>AdaBoost Classifier</td>\n",
       "      <td>Balanced dataset (SMOTE Oversampling)</td>\n",
       "      <td>0.715</td>\n",
       "      <td>0.325</td>\n",
       "      <td>0.637</td>\n",
       "      <td>0.430</td>\n",
       "      <td>0.810</td>\n",
       "      <td>0.620</td>\n",
       "      <td>0.746</td>\n",
       "    </tr>\n",
       "  </tbody>\n",
       "</table>\n",
       "</div>"
      ],
      "text/plain": [
       "   vectorizer                     model  \\\n",
       "id                                        \n",
       "0a        N/A    Predict Majority Class   \n",
       "0b        N/A      Predict Target Class   \n",
       "1a       CVEC            Multinomial NB   \n",
       "1b       CVEC            Multinomial NB   \n",
       "1c       CVEC            Multinomial NB   \n",
       "1d       CVEC            Multinomial NB   \n",
       "2a     TF-IDF            Multinomial NB   \n",
       "2b     TF-IDF            Multinomial NB   \n",
       "2c     TF-IDF            Multinomial NB   \n",
       "2d     TF-IDF            Multinomial NB   \n",
       "3        CVEC       Logistic Regression   \n",
       "4        CVEC  Random Forest Classifier   \n",
       "5        CVEC       AdaBoost Classifier   \n",
       "\n",
       "                                   comments  accuracy  c1_precision  \\\n",
       "id                                                                    \n",
       "0a                           Baseline Model     0.831         0.000   \n",
       "0b                           Baseline Model     0.169         0.169   \n",
       "1a                       Imbalanced dataset     0.853         0.747   \n",
       "1b  Balanced dataset (Random Undersampling)     0.755         0.386   \n",
       "1c   Balanced dataset (Random Oversampling)     0.793         0.432   \n",
       "1d    Balanced dataset (SMOTE Oversampling)     0.843         0.538   \n",
       "2a                       Imbalanced dataset     0.840         0.857   \n",
       "2b  Balanced dataset (Random Undersampling)     0.735         0.369   \n",
       "2c   Balanced dataset (Random Oversampling)     0.795         0.434   \n",
       "2d    Balanced dataset (SMOTE Oversampling)     0.829         0.495   \n",
       "3     Balanced dataset (SMOTE Oversampling)     0.788         0.395   \n",
       "4     Balanced dataset (SMOTE Oversampling)     0.679         0.291   \n",
       "5     Balanced dataset (SMOTE Oversampling)     0.715         0.325   \n",
       "\n",
       "    c1_recall  c1_f1  c0_f1  macro_avg_f1  wt_avg_f1  \n",
       "id                                                    \n",
       "0a      0.000  0.000  0.908         0.454      0.755  \n",
       "0b      1.000  0.289  0.000         0.144      0.049  \n",
       "1a      0.196  0.311  0.918         0.614      0.815  \n",
       "1b      0.773  0.515  0.836         0.675      0.782  \n",
       "1c      0.725  0.542  0.866         0.704      0.811  \n",
       "1d      0.504  0.521  0.906         0.714      0.841  \n",
       "2a      0.061  0.114  0.912         0.513      0.777  \n",
       "2b      0.796  0.504  0.820         0.662      0.766  \n",
       "2c      0.698  0.535  0.869         0.702      0.813  \n",
       "2d      0.621  0.551  0.895         0.723      0.837  \n",
       "3       0.482  0.434  0.869         0.652      0.796  \n",
       "4       0.630  0.398  0.781         0.590      0.716  \n",
       "5       0.637  0.430  0.810         0.620      0.746  "
      ]
     },
     "execution_count": 59,
     "metadata": {},
     "output_type": "execute_result"
    }
   ],
   "source": [
    "df_accuracy_summary.round(3)"
   ]
  },
  {
   "cell_type": "markdown",
   "id": "62df6323-5037-42c5-a8ed-dfc33bef9c74",
   "metadata": {},
   "source": [
    "The table above displays the accuracy metric Of all the different models tested in this study. \n",
    "- The baseline models performs poorly on generating a balanced prediction. This resulted in a low f1-score for either/both of the majority and minority class\n",
    "- The Multinomial NB model with Count Vectorizer performed best out of all the models tested\n",
    "    - Training the model on an imbalanced dataset resulted in low prediction accuracy for the minority class\n",
    "    - Using sampling techniques such as random undersampling, random oversampling, and SMOTE oversampling resulted in significantly improved accuray in predicting the minority class\n",
    "    - The best sampling technique were found to be SMOTE oversampling\n",
    "- The performance of Multinomial MB model with TF-IDF is similar to the one with Count Vectorizer\n",
    "- The Count Vectorizer with SMOTE oversampling performed the best based on the accuracy metric. As such, this combination of vectorizer and sampling method will be used to build the other more complex models.\n",
    "- The Logistic Regression model performed slightly worse compared to the Multinomial NB model\n",
    "    - Through Regularization, the LogReg model eliminated about 85% of the n-grams in its final model\n",
    "    - The coefficients of the LogReg model were analyzed and compared to those found during the EDA phase\n",
    "- Both the Random Forest Classifier and AdaBoost classifier performed significantly worse compared to the Multinomial NB models\n",
    "\n",
    "As such, we can conclude that the best model for classifying r/wsb and r/stock subreddit (for advertising purposes) would be the Multinomial NB model with Count Vectorizer and SMOTE oversampling."
   ]
  },
  {
   "cell_type": "markdown",
   "id": "acd8a89c-9732-4cb5-b163-cd9372f257a3",
   "metadata": {
    "tags": []
   },
   "source": [
    "# Variations on Final Model"
   ]
  },
  {
   "cell_type": "markdown",
   "id": "663c4f78-67aa-40c4-a2e2-6b04c12443c6",
   "metadata": {},
   "source": [
    "In this section, we will investigate the impact of several text preprocessing methods, as well as varying different vectorizer parameters on the prediction accuracy of the proposed model.\n",
    "\n",
    "The following variations are made to the final model:\n",
    "- Classifying only posts with more than three or five words\n",
    "- Converting emoji into text data\n",
    "- Combining selftext and title\n",
    "- Changing n-gram range to only consider up to 1-gram and 2-gram\n",
    "- Reducing features considered in the word vectorizer to 10, 5, and 1% of the default"
   ]
  },
  {
   "cell_type": "markdown",
   "id": "a3004ed1-c65e-4c0a-98b2-6ed518a59f9b",
   "metadata": {},
   "source": [
    "## Defining Functions"
   ]
  },
  {
   "cell_type": "code",
   "execution_count": 60,
   "id": "96622d18-f78b-4c31-9117-8fd378c68d93",
   "metadata": {},
   "outputs": [],
   "source": [
    "# creating a function to run the full classification model and generating the accuracy metrics\n",
    "\n",
    "def run_full_analysis(df_test,comment_str,\n",
    "                      vectorizer=CountVectorizer(stop_words = 'english',ngram_range=(1,3))):\n",
    "    \n",
    "    # splitting the dataframe to X and y\n",
    "    X = df_test['title']\n",
    "    y = df_test['subreddit_stocks']\n",
    "\n",
    "    # conduct train-test split\n",
    "    X_train, X_test, y_train, y_test = train_test_split(X, y,\n",
    "                                                        test_size=0.3,\n",
    "                                                        random_state=42,\n",
    "                                                        stratify=y) # not really required for balanced response values, but no harm to just include by default\n",
    "\n",
    "    # Instantiating the CountVectorizer, use english stopwords, and include n-grams ranging from 1 to 3\n",
    "    cvec = vectorizer \n",
    "\n",
    "    # Fit-transform our CountVectorizer on the training data and transform testing data.\n",
    "    X_train_cvec = cvec.fit_transform(X_train)\n",
    "    X_test_cvec = cvec.transform(X_test)\n",
    "\n",
    "    SMOTE = imblearn.over_sampling.SMOTE(n_jobs=-1) # instantiating the SMOTE over-sampler\n",
    "    X_train_cvec_SMOTE, y_train_cvec_SMOTE = SMOTE.fit_resample(X_train_cvec, y_train) # conducting over-sampling of the MINORITY class in the TRAINING dataset only\n",
    "\n",
    "    cvec_nb_SMOTE = MultinomialNB() # instantiating the model\n",
    "    cvec_nb_SMOTE.fit(X_train_cvec_SMOTE, y_train_cvec_SMOTE) # fitting the model\n",
    "    pred_cvec_NB_SMOTE = cvec_nb_SMOTE.predict(X_test_cvec) # generating the prediction\n",
    "\n",
    "    return export_results(y_test,pred_cvec_NB_SMOTE,comments=comment_str).drop(['vectorizer','model'],axis=1)"
   ]
  },
  {
   "cell_type": "markdown",
   "id": "aacdc8e9-4a75-4f5a-b57f-4fea8d6813ad",
   "metadata": {},
   "source": [
    "## Baseline (Final) Model"
   ]
  },
  {
   "cell_type": "code",
   "execution_count": 61,
   "id": "f4de8845-66bf-4697-95ba-fb20301bb8c6",
   "metadata": {},
   "outputs": [
    {
     "data": {
      "text/html": [
       "<div>\n",
       "<style scoped>\n",
       "    .dataframe tbody tr th:only-of-type {\n",
       "        vertical-align: middle;\n",
       "    }\n",
       "\n",
       "    .dataframe tbody tr th {\n",
       "        vertical-align: top;\n",
       "    }\n",
       "\n",
       "    .dataframe thead th {\n",
       "        text-align: right;\n",
       "    }\n",
       "</style>\n",
       "<table border=\"1\" class=\"dataframe\">\n",
       "  <thead>\n",
       "    <tr style=\"text-align: right;\">\n",
       "      <th></th>\n",
       "      <th>comments</th>\n",
       "      <th>accuracy</th>\n",
       "      <th>c1_precision</th>\n",
       "      <th>c1_recall</th>\n",
       "      <th>c1_f1</th>\n",
       "      <th>c0_f1</th>\n",
       "      <th>macro_avg_f1</th>\n",
       "      <th>wt_avg_f1</th>\n",
       "    </tr>\n",
       "  </thead>\n",
       "  <tbody>\n",
       "    <tr>\n",
       "      <th></th>\n",
       "      <td>Final model (Multi-NB, CVEC, SMOTE)</td>\n",
       "      <td>0.843634</td>\n",
       "      <td>0.539483</td>\n",
       "      <td>0.503624</td>\n",
       "      <td>0.520937</td>\n",
       "      <td>0.906569</td>\n",
       "      <td>0.713753</td>\n",
       "      <td>0.841471</td>\n",
       "    </tr>\n",
       "  </tbody>\n",
       "</table>\n",
       "</div>"
      ],
      "text/plain": [
       "                             comments  accuracy  c1_precision  c1_recall  \\\n",
       "  Final model (Multi-NB, CVEC, SMOTE)  0.843634      0.539483   0.503624   \n",
       "\n",
       "     c1_f1     c0_f1  macro_avg_f1  wt_avg_f1  \n",
       "  0.520937  0.906569      0.713753   0.841471  "
      ]
     },
     "execution_count": 61,
     "metadata": {},
     "output_type": "execute_result"
    }
   ],
   "source": [
    "# normal run\n",
    "run1 = run_full_analysis(df,'Final model (Multi-NB, CVEC, SMOTE)')\n",
    "run1"
   ]
  },
  {
   "cell_type": "markdown",
   "id": "47e4cd54-5f5e-4a10-aa20-6ca7151b7a90",
   "metadata": {},
   "source": [
    "## Consider only posts with n or more words"
   ]
  },
  {
   "cell_type": "markdown",
   "id": "b77eb26c-cea3-4722-8f66-1afd44d74c73",
   "metadata": {},
   "source": [
    "Very short Reddit posts with low word counts might introduce a lot of noise to the data set. Therefore in this series of experiments we attempt to only consider posts with 3 and 10 words or more."
   ]
  },
  {
   "cell_type": "code",
   "execution_count": 62,
   "id": "0a46f70e-66fe-4732-bd05-a377e829bf8a",
   "metadata": {},
   "outputs": [
    {
     "data": {
      "text/html": [
       "<div>\n",
       "<style scoped>\n",
       "    .dataframe tbody tr th:only-of-type {\n",
       "        vertical-align: middle;\n",
       "    }\n",
       "\n",
       "    .dataframe tbody tr th {\n",
       "        vertical-align: top;\n",
       "    }\n",
       "\n",
       "    .dataframe thead th {\n",
       "        text-align: right;\n",
       "    }\n",
       "</style>\n",
       "<table border=\"1\" class=\"dataframe\">\n",
       "  <thead>\n",
       "    <tr style=\"text-align: right;\">\n",
       "      <th></th>\n",
       "      <th>comments</th>\n",
       "      <th>accuracy</th>\n",
       "      <th>c1_precision</th>\n",
       "      <th>c1_recall</th>\n",
       "      <th>c1_f1</th>\n",
       "      <th>c0_f1</th>\n",
       "      <th>macro_avg_f1</th>\n",
       "      <th>wt_avg_f1</th>\n",
       "    </tr>\n",
       "  </thead>\n",
       "  <tbody>\n",
       "    <tr>\n",
       "      <th></th>\n",
       "      <td>only consider posts with 3 words or more</td>\n",
       "      <td>0.845252</td>\n",
       "      <td>0.576208</td>\n",
       "      <td>0.486079</td>\n",
       "      <td>0.52732</td>\n",
       "      <td>0.907482</td>\n",
       "      <td>0.717401</td>\n",
       "      <td>0.839972</td>\n",
       "    </tr>\n",
       "  </tbody>\n",
       "</table>\n",
       "</div>"
      ],
      "text/plain": [
       "                                  comments  accuracy  c1_precision  c1_recall  \\\n",
       "  only consider posts with 3 words or more  0.845252      0.576208   0.486079   \n",
       "\n",
       "    c1_f1     c0_f1  macro_avg_f1  wt_avg_f1  \n",
       "  0.52732  0.907482      0.717401   0.839972  "
      ]
     },
     "execution_count": 62,
     "metadata": {},
     "output_type": "execute_result"
    }
   ],
   "source": [
    "# select only 3 words or more\n",
    "df2 = df[df['title_word_len']>=3]\n",
    "\n",
    "run2 = run_full_analysis(df2,'only consider posts with 3 words or more')\n",
    "run2"
   ]
  },
  {
   "cell_type": "code",
   "execution_count": 63,
   "id": "e609ac01-73eb-4819-897b-b0d8b009a984",
   "metadata": {},
   "outputs": [
    {
     "data": {
      "text/html": [
       "<div>\n",
       "<style scoped>\n",
       "    .dataframe tbody tr th:only-of-type {\n",
       "        vertical-align: middle;\n",
       "    }\n",
       "\n",
       "    .dataframe tbody tr th {\n",
       "        vertical-align: top;\n",
       "    }\n",
       "\n",
       "    .dataframe thead th {\n",
       "        text-align: right;\n",
       "    }\n",
       "</style>\n",
       "<table border=\"1\" class=\"dataframe\">\n",
       "  <thead>\n",
       "    <tr style=\"text-align: right;\">\n",
       "      <th></th>\n",
       "      <th>comments</th>\n",
       "      <th>accuracy</th>\n",
       "      <th>c1_precision</th>\n",
       "      <th>c1_recall</th>\n",
       "      <th>c1_f1</th>\n",
       "      <th>c0_f1</th>\n",
       "      <th>macro_avg_f1</th>\n",
       "      <th>wt_avg_f1</th>\n",
       "    </tr>\n",
       "  </thead>\n",
       "  <tbody>\n",
       "    <tr>\n",
       "      <th></th>\n",
       "      <td>only consider posts with 10 words or more</td>\n",
       "      <td>0.864353</td>\n",
       "      <td>0.679019</td>\n",
       "      <td>0.289126</td>\n",
       "      <td>0.405563</td>\n",
       "      <td>0.923441</td>\n",
       "      <td>0.664502</td>\n",
       "      <td>0.840557</td>\n",
       "    </tr>\n",
       "  </tbody>\n",
       "</table>\n",
       "</div>"
      ],
      "text/plain": [
       "                                   comments  accuracy  c1_precision  \\\n",
       "  only consider posts with 10 words or more  0.864353      0.679019   \n",
       "\n",
       "  c1_recall     c1_f1     c0_f1  macro_avg_f1  wt_avg_f1  \n",
       "   0.289126  0.405563  0.923441      0.664502   0.840557  "
      ]
     },
     "execution_count": 63,
     "metadata": {},
     "output_type": "execute_result"
    }
   ],
   "source": [
    "# select only 10 words or more\n",
    "df3 = df[df['title_word_len']>=10]\n",
    "\n",
    "run3 = run_full_analysis(df3,'only consider posts with 10 words or more')\n",
    "run3"
   ]
  },
  {
   "cell_type": "markdown",
   "id": "8f116471-2d2c-4470-b83b-4fafba01ac78",
   "metadata": {},
   "source": [
    "The models with minimum word count performed better on classifying the majority class (r/wsb) but performs worse on classifying the minority class (r/stocks).\n",
    "\n",
    "Overall there's a very slight reduction in the weighted average f1-score. This is caused by the fact that we are dropping significant amounts of information by only considering post with a minimum number of words."
   ]
  },
  {
   "cell_type": "markdown",
   "id": "05ba46cd-f82b-40ef-9f8e-82633013c737",
   "metadata": {},
   "source": [
    "## Converting Emojis into Text"
   ]
  },
  {
   "cell_type": "markdown",
   "id": "115922af-2b74-4ac8-94b6-37785573c359",
   "metadata": {},
   "source": [
    "The count of vectorizer does not convert emoji into text and discards emojis entirely. We can use the demojize function In order to convert the emojis into text."
   ]
  },
  {
   "cell_type": "code",
   "execution_count": 64,
   "id": "c1dad0dc-ace4-4c8d-b6a8-1e2ea130ab1b",
   "metadata": {},
   "outputs": [
    {
     "data": {
      "text/html": [
       "<div>\n",
       "<style scoped>\n",
       "    .dataframe tbody tr th:only-of-type {\n",
       "        vertical-align: middle;\n",
       "    }\n",
       "\n",
       "    .dataframe tbody tr th {\n",
       "        vertical-align: top;\n",
       "    }\n",
       "\n",
       "    .dataframe thead th {\n",
       "        text-align: right;\n",
       "    }\n",
       "</style>\n",
       "<table border=\"1\" class=\"dataframe\">\n",
       "  <thead>\n",
       "    <tr style=\"text-align: right;\">\n",
       "      <th></th>\n",
       "      <th>comments</th>\n",
       "      <th>accuracy</th>\n",
       "      <th>c1_precision</th>\n",
       "      <th>c1_recall</th>\n",
       "      <th>c1_f1</th>\n",
       "      <th>c0_f1</th>\n",
       "      <th>macro_avg_f1</th>\n",
       "      <th>wt_avg_f1</th>\n",
       "    </tr>\n",
       "  </thead>\n",
       "  <tbody>\n",
       "    <tr>\n",
       "      <th></th>\n",
       "      <td>converting emoji into text</td>\n",
       "      <td>0.844258</td>\n",
       "      <td>0.54072</td>\n",
       "      <td>0.51399</td>\n",
       "      <td>0.527016</td>\n",
       "      <td>0.906782</td>\n",
       "      <td>0.716899</td>\n",
       "      <td>0.842674</td>\n",
       "    </tr>\n",
       "  </tbody>\n",
       "</table>\n",
       "</div>"
      ],
      "text/plain": [
       "                    comments  accuracy  c1_precision  c1_recall     c1_f1  \\\n",
       "  converting emoji into text  0.844258       0.54072    0.51399  0.527016   \n",
       "\n",
       "     c0_f1  macro_avg_f1  wt_avg_f1  \n",
       "  0.906782      0.716899   0.842674  "
      ]
     },
     "execution_count": 64,
     "metadata": {},
     "output_type": "execute_result"
    }
   ],
   "source": [
    "# using emoji info\n",
    "df4 = df.copy()\n",
    "df4['title'] = df4['title'].apply(demojize)\n",
    "\n",
    "run4 = run_full_analysis(df4,'converting emoji into text')\n",
    "run4"
   ]
  },
  {
   "cell_type": "markdown",
   "id": "59504907-fdac-4ce5-8df6-46216db69756",
   "metadata": {},
   "source": [
    "Converting emojis into text resulted in a very slight improvement in predicting both the minority and majority class."
   ]
  },
  {
   "cell_type": "markdown",
   "id": "5878a5f9-4f31-4797-8cd1-c1721b921ad3",
   "metadata": {},
   "source": [
    "## Combining Selftext and Title"
   ]
  },
  {
   "cell_type": "code",
   "execution_count": 65,
   "id": "dea42ca0-dd33-46ac-a808-f2833322e69e",
   "metadata": {},
   "outputs": [
    {
     "data": {
      "text/html": [
       "<div>\n",
       "<style scoped>\n",
       "    .dataframe tbody tr th:only-of-type {\n",
       "        vertical-align: middle;\n",
       "    }\n",
       "\n",
       "    .dataframe tbody tr th {\n",
       "        vertical-align: top;\n",
       "    }\n",
       "\n",
       "    .dataframe thead th {\n",
       "        text-align: right;\n",
       "    }\n",
       "</style>\n",
       "<table border=\"1\" class=\"dataframe\">\n",
       "  <thead>\n",
       "    <tr style=\"text-align: right;\">\n",
       "      <th></th>\n",
       "      <th>comments</th>\n",
       "      <th>accuracy</th>\n",
       "      <th>c1_precision</th>\n",
       "      <th>c1_recall</th>\n",
       "      <th>c1_f1</th>\n",
       "      <th>c0_f1</th>\n",
       "      <th>macro_avg_f1</th>\n",
       "      <th>wt_avg_f1</th>\n",
       "    </tr>\n",
       "  </thead>\n",
       "  <tbody>\n",
       "    <tr>\n",
       "      <th></th>\n",
       "      <td>combining title and selftext</td>\n",
       "      <td>0.832903</td>\n",
       "      <td>0.505214</td>\n",
       "      <td>0.491664</td>\n",
       "      <td>0.498347</td>\n",
       "      <td>0.899756</td>\n",
       "      <td>0.699052</td>\n",
       "      <td>0.831994</td>\n",
       "    </tr>\n",
       "  </tbody>\n",
       "</table>\n",
       "</div>"
      ],
      "text/plain": [
       "                      comments  accuracy  c1_precision  c1_recall     c1_f1  \\\n",
       "  combining title and selftext  0.832903      0.505214   0.491664  0.498347   \n",
       "\n",
       "     c0_f1  macro_avg_f1  wt_avg_f1  \n",
       "  0.899756      0.699052   0.831994  "
      ]
     },
     "execution_count": 65,
     "metadata": {},
     "output_type": "execute_result"
    }
   ],
   "source": [
    "# combine selftext and title\n",
    "\n",
    "# clear empty and removed selftexts, and replacing them with an empty string\n",
    "df5 = df.copy()\n",
    "df5['selftext'].replace('[removed]','',inplace=True)\n",
    "df5['selftext'] = df5['selftext'].fillna('')\n",
    "\n",
    "df5['title'] = df5['title'] + \" | \" + df5['selftext'] # combine selftext and title\n",
    "\n",
    "run5 = run_full_analysis(df5,'combining title and selftext')\n",
    "run5"
   ]
  },
  {
   "cell_type": "markdown",
   "id": "928c83da-393d-45b2-8745-7066c1850e54",
   "metadata": {},
   "source": [
    "Adding in selftext to the title for the classification resulted in a slightly worse performance for both minority and majority class. This could be due to the fact that the selftext added extra noise to the classification model."
   ]
  },
  {
   "cell_type": "markdown",
   "id": "01697110-ce46-4a19-bdd8-1d2d84b8bbc5",
   "metadata": {},
   "source": [
    "## Chaning n-gram Range"
   ]
  },
  {
   "cell_type": "code",
   "execution_count": 66,
   "id": "90382aff-5a48-4d0f-90f3-36b58d967b75",
   "metadata": {},
   "outputs": [
    {
     "data": {
      "text/html": [
       "<div>\n",
       "<style scoped>\n",
       "    .dataframe tbody tr th:only-of-type {\n",
       "        vertical-align: middle;\n",
       "    }\n",
       "\n",
       "    .dataframe tbody tr th {\n",
       "        vertical-align: top;\n",
       "    }\n",
       "\n",
       "    .dataframe thead th {\n",
       "        text-align: right;\n",
       "    }\n",
       "</style>\n",
       "<table border=\"1\" class=\"dataframe\">\n",
       "  <thead>\n",
       "    <tr style=\"text-align: right;\">\n",
       "      <th></th>\n",
       "      <th>comments</th>\n",
       "      <th>accuracy</th>\n",
       "      <th>c1_precision</th>\n",
       "      <th>c1_recall</th>\n",
       "      <th>c1_f1</th>\n",
       "      <th>c0_f1</th>\n",
       "      <th>macro_avg_f1</th>\n",
       "      <th>wt_avg_f1</th>\n",
       "    </tr>\n",
       "  </thead>\n",
       "  <tbody>\n",
       "    <tr>\n",
       "      <th></th>\n",
       "      <td>change n-gram range to (1,1)</td>\n",
       "      <td>0.797149</td>\n",
       "      <td>0.431787</td>\n",
       "      <td>0.638228</td>\n",
       "      <td>0.515093</td>\n",
       "      <td>0.871749</td>\n",
       "      <td>0.693421</td>\n",
       "      <td>0.811542</td>\n",
       "    </tr>\n",
       "  </tbody>\n",
       "</table>\n",
       "</div>"
      ],
      "text/plain": [
       "                      comments  accuracy  c1_precision  c1_recall     c1_f1  \\\n",
       "  change n-gram range to (1,1)  0.797149      0.431787   0.638228  0.515093   \n",
       "\n",
       "     c0_f1  macro_avg_f1  wt_avg_f1  \n",
       "  0.871749      0.693421   0.811542  "
      ]
     },
     "execution_count": 66,
     "metadata": {},
     "output_type": "execute_result"
    }
   ],
   "source": [
    "# change n-gram range to (1,1)\n",
    "\n",
    "run6 = run_full_analysis(df,'change n-gram range to (1,1)',\n",
    "                         vectorizer=CountVectorizer(stop_words = 'english',ngram_range=(1,1)))\n",
    "run6"
   ]
  },
  {
   "cell_type": "code",
   "execution_count": 67,
   "id": "860d1715-b3d2-404c-bfcf-ff1b207abea7",
   "metadata": {},
   "outputs": [
    {
     "data": {
      "text/html": [
       "<div>\n",
       "<style scoped>\n",
       "    .dataframe tbody tr th:only-of-type {\n",
       "        vertical-align: middle;\n",
       "    }\n",
       "\n",
       "    .dataframe tbody tr th {\n",
       "        vertical-align: top;\n",
       "    }\n",
       "\n",
       "    .dataframe thead th {\n",
       "        text-align: right;\n",
       "    }\n",
       "</style>\n",
       "<table border=\"1\" class=\"dataframe\">\n",
       "  <thead>\n",
       "    <tr style=\"text-align: right;\">\n",
       "      <th></th>\n",
       "      <th>comments</th>\n",
       "      <th>accuracy</th>\n",
       "      <th>c1_precision</th>\n",
       "      <th>c1_recall</th>\n",
       "      <th>c1_f1</th>\n",
       "      <th>c0_f1</th>\n",
       "      <th>macro_avg_f1</th>\n",
       "      <th>wt_avg_f1</th>\n",
       "    </tr>\n",
       "  </thead>\n",
       "  <tbody>\n",
       "    <tr>\n",
       "      <th></th>\n",
       "      <td>change n-gram range to (1,2)</td>\n",
       "      <td>0.831398</td>\n",
       "      <td>0.500545</td>\n",
       "      <td>0.565454</td>\n",
       "      <td>0.531023</td>\n",
       "      <td>0.897225</td>\n",
       "      <td>0.714124</td>\n",
       "      <td>0.835406</td>\n",
       "    </tr>\n",
       "  </tbody>\n",
       "</table>\n",
       "</div>"
      ],
      "text/plain": [
       "                      comments  accuracy  c1_precision  c1_recall     c1_f1  \\\n",
       "  change n-gram range to (1,2)  0.831398      0.500545   0.565454  0.531023   \n",
       "\n",
       "     c0_f1  macro_avg_f1  wt_avg_f1  \n",
       "  0.897225      0.714124   0.835406  "
      ]
     },
     "execution_count": 67,
     "metadata": {},
     "output_type": "execute_result"
    }
   ],
   "source": [
    "# change n-gram range to (1,2)\n",
    "\n",
    "run7 = run_full_analysis(df,'change n-gram range to (1,2)',\n",
    "                         vectorizer=CountVectorizer(stop_words = 'english',ngram_range=(1,2)))\n",
    "run7"
   ]
  },
  {
   "cell_type": "markdown",
   "id": "27b0d2d6-feed-42b4-9f9f-2d92ae794162",
   "metadata": {},
   "source": [
    "Reducing the n-gram range to (1,1) resulted in a drop of accuracy for both the majority and minority class.\n",
    "\n",
    "Reducing the n-gram range to (1,2) resulted in a drop of accuracy for the majority class, and a slight increase in accuracy minority class.\n",
    "\n",
    "However, the overall weighted average f1-score for the models with reduced n-gram range is lower than that of the default setting."
   ]
  },
  {
   "cell_type": "markdown",
   "id": "d5220474-226d-4d3b-8b99-04772a6aff25",
   "metadata": {},
   "source": [
    "## Reducing the Maximum Number of Features"
   ]
  },
  {
   "cell_type": "markdown",
   "id": "44d6c5c8-be58-43ae-b56a-4e5d2e7e74e5",
   "metadata": {},
   "source": [
    "By default, the Count Vectorizer considers all the possible combinations of n-grams (or features) present in the corpus. \n",
    "\n",
    "However, it is possible to specify to allowable number of features in the count vectorizer setting. This could be done in order to reduce the dimension of the trainingdata set to speed up the training process."
   ]
  },
  {
   "cell_type": "code",
   "execution_count": 68,
   "id": "3c0435c9-5e91-44ed-9099-bbf30ead10c6",
   "metadata": {},
   "outputs": [
    {
     "data": {
      "text/html": [
       "<div>\n",
       "<style scoped>\n",
       "    .dataframe tbody tr th:only-of-type {\n",
       "        vertical-align: middle;\n",
       "    }\n",
       "\n",
       "    .dataframe tbody tr th {\n",
       "        vertical-align: top;\n",
       "    }\n",
       "\n",
       "    .dataframe thead th {\n",
       "        text-align: right;\n",
       "    }\n",
       "</style>\n",
       "<table border=\"1\" class=\"dataframe\">\n",
       "  <thead>\n",
       "    <tr style=\"text-align: right;\">\n",
       "      <th></th>\n",
       "      <th>comments</th>\n",
       "      <th>accuracy</th>\n",
       "      <th>c1_precision</th>\n",
       "      <th>c1_recall</th>\n",
       "      <th>c1_f1</th>\n",
       "      <th>c0_f1</th>\n",
       "      <th>macro_avg_f1</th>\n",
       "      <th>wt_avg_f1</th>\n",
       "    </tr>\n",
       "  </thead>\n",
       "  <tbody>\n",
       "    <tr>\n",
       "      <th></th>\n",
       "      <td>change max-features to 118167 (10% of default)</td>\n",
       "      <td>0.81521</td>\n",
       "      <td>0.464817</td>\n",
       "      <td>0.625326</td>\n",
       "      <td>0.533255</td>\n",
       "      <td>0.8848</td>\n",
       "      <td>0.709028</td>\n",
       "      <td>0.825456</td>\n",
       "    </tr>\n",
       "  </tbody>\n",
       "</table>\n",
       "</div>"
      ],
      "text/plain": [
       "                                        comments  accuracy  c1_precision  \\\n",
       "  change max-features to 118167 (10% of default)   0.81521      0.464817   \n",
       "\n",
       "  c1_recall     c1_f1   c0_f1  macro_avg_f1  wt_avg_f1  \n",
       "   0.625326  0.533255  0.8848      0.709028   0.825456  "
      ]
     },
     "execution_count": 68,
     "metadata": {},
     "output_type": "execute_result"
    }
   ],
   "source": [
    "# change max-features to 118167 (10% of default)\n",
    "\n",
    "run8 = run_full_analysis(df,'change max-features to 118167 (10% of default)',\n",
    "                         vectorizer=CountVectorizer(stop_words = 'english',ngram_range=(1,3),max_features=118168))\n",
    "run8"
   ]
  },
  {
   "cell_type": "code",
   "execution_count": 69,
   "id": "394ba77f-94af-4629-8e17-02f771311986",
   "metadata": {},
   "outputs": [
    {
     "data": {
      "text/html": [
       "<div>\n",
       "<style scoped>\n",
       "    .dataframe tbody tr th:only-of-type {\n",
       "        vertical-align: middle;\n",
       "    }\n",
       "\n",
       "    .dataframe tbody tr th {\n",
       "        vertical-align: top;\n",
       "    }\n",
       "\n",
       "    .dataframe thead th {\n",
       "        text-align: right;\n",
       "    }\n",
       "</style>\n",
       "<table border=\"1\" class=\"dataframe\">\n",
       "  <thead>\n",
       "    <tr style=\"text-align: right;\">\n",
       "      <th></th>\n",
       "      <th>comments</th>\n",
       "      <th>accuracy</th>\n",
       "      <th>c1_precision</th>\n",
       "      <th>c1_recall</th>\n",
       "      <th>c1_f1</th>\n",
       "      <th>c0_f1</th>\n",
       "      <th>macro_avg_f1</th>\n",
       "      <th>wt_avg_f1</th>\n",
       "    </tr>\n",
       "  </thead>\n",
       "  <tbody>\n",
       "    <tr>\n",
       "      <th></th>\n",
       "      <td>change max-features to 59083 (5% of default)</td>\n",
       "      <td>0.81483</td>\n",
       "      <td>0.463765</td>\n",
       "      <td>0.62018</td>\n",
       "      <td>0.530687</td>\n",
       "      <td>0.884661</td>\n",
       "      <td>0.707674</td>\n",
       "      <td>0.824907</td>\n",
       "    </tr>\n",
       "  </tbody>\n",
       "</table>\n",
       "</div>"
      ],
      "text/plain": [
       "                                      comments  accuracy  c1_precision  \\\n",
       "  change max-features to 59083 (5% of default)   0.81483      0.463765   \n",
       "\n",
       "  c1_recall     c1_f1     c0_f1  macro_avg_f1  wt_avg_f1  \n",
       "    0.62018  0.530687  0.884661      0.707674   0.824907  "
      ]
     },
     "execution_count": 69,
     "metadata": {},
     "output_type": "execute_result"
    }
   ],
   "source": [
    "# change max-features to 59083 (5% of default)\n",
    "\n",
    "run9 = run_full_analysis(df,'change max-features to 59083 (5% of default)',\n",
    "                         vectorizer=CountVectorizer(stop_words = 'english',ngram_range=(1,3),max_features=59083))\n",
    "run9"
   ]
  },
  {
   "cell_type": "code",
   "execution_count": 70,
   "id": "238f49cc-e706-4c17-8a6b-29ebe374d8ef",
   "metadata": {},
   "outputs": [
    {
     "data": {
      "text/html": [
       "<div>\n",
       "<style scoped>\n",
       "    .dataframe tbody tr th:only-of-type {\n",
       "        vertical-align: middle;\n",
       "    }\n",
       "\n",
       "    .dataframe tbody tr th {\n",
       "        vertical-align: top;\n",
       "    }\n",
       "\n",
       "    .dataframe thead th {\n",
       "        text-align: right;\n",
       "    }\n",
       "</style>\n",
       "<table border=\"1\" class=\"dataframe\">\n",
       "  <thead>\n",
       "    <tr style=\"text-align: right;\">\n",
       "      <th></th>\n",
       "      <th>comments</th>\n",
       "      <th>accuracy</th>\n",
       "      <th>c1_precision</th>\n",
       "      <th>c1_recall</th>\n",
       "      <th>c1_f1</th>\n",
       "      <th>c0_f1</th>\n",
       "      <th>macro_avg_f1</th>\n",
       "      <th>wt_avg_f1</th>\n",
       "    </tr>\n",
       "  </thead>\n",
       "  <tbody>\n",
       "    <tr>\n",
       "      <th></th>\n",
       "      <td>change max-features to 11817 (1% of default)</td>\n",
       "      <td>0.810743</td>\n",
       "      <td>0.454297</td>\n",
       "      <td>0.601986</td>\n",
       "      <td>0.517817</td>\n",
       "      <td>0.882267</td>\n",
       "      <td>0.700042</td>\n",
       "      <td>0.820744</td>\n",
       "    </tr>\n",
       "  </tbody>\n",
       "</table>\n",
       "</div>"
      ],
      "text/plain": [
       "                                      comments  accuracy  c1_precision  \\\n",
       "  change max-features to 11817 (1% of default)  0.810743      0.454297   \n",
       "\n",
       "  c1_recall     c1_f1     c0_f1  macro_avg_f1  wt_avg_f1  \n",
       "   0.601986  0.517817  0.882267      0.700042   0.820744  "
      ]
     },
     "execution_count": 70,
     "metadata": {},
     "output_type": "execute_result"
    }
   ],
   "source": [
    "# change max-features to 11817 (1% of default)\n",
    "\n",
    "run10 = run_full_analysis(df,'change max-features to 11817 (1% of default)',\n",
    "                         vectorizer=CountVectorizer(stop_words = 'english',ngram_range=(1,3),max_features=11817))\n",
    "run10"
   ]
  },
  {
   "cell_type": "markdown",
   "id": "a9cb2c79-9555-4e3d-b9cb-0d4636148534",
   "metadata": {},
   "source": [
    "As expected imposing a maximum limit on the number of features resulted in a slight drop in overall accuracy. Again this is because we are Reducing the number of training information available to the model.\n",
    "\n",
    "However we can see that there is only a slight reduction in prediction accuracy (In fact there is a very slight increase in prediction accuracy for the minority class). Therefore, it might be a good idea to reduce the number of features used When conducting hyperparameter tuning for the various models."
   ]
  },
  {
   "cell_type": "markdown",
   "id": "48b37064-8ab5-45cb-919f-5c0d14b59e66",
   "metadata": {},
   "source": [
    "## Summary of Variations"
   ]
  },
  {
   "cell_type": "code",
   "execution_count": 71,
   "id": "19a027e6-bf0a-48e8-b9a3-b47066fa84cd",
   "metadata": {},
   "outputs": [
    {
     "data": {
      "text/html": [
       "<div>\n",
       "<style scoped>\n",
       "    .dataframe tbody tr th:only-of-type {\n",
       "        vertical-align: middle;\n",
       "    }\n",
       "\n",
       "    .dataframe tbody tr th {\n",
       "        vertical-align: top;\n",
       "    }\n",
       "\n",
       "    .dataframe thead th {\n",
       "        text-align: right;\n",
       "    }\n",
       "</style>\n",
       "<table border=\"1\" class=\"dataframe\">\n",
       "  <thead>\n",
       "    <tr style=\"text-align: right;\">\n",
       "      <th></th>\n",
       "      <th>comments</th>\n",
       "      <th>accuracy</th>\n",
       "      <th>c1_precision</th>\n",
       "      <th>c1_recall</th>\n",
       "      <th>c1_f1</th>\n",
       "      <th>c0_f1</th>\n",
       "      <th>macro_avg_f1</th>\n",
       "      <th>wt_avg_f1</th>\n",
       "    </tr>\n",
       "  </thead>\n",
       "  <tbody>\n",
       "    <tr>\n",
       "      <th></th>\n",
       "      <td>Final model (Multi-NB, CVEC, SMOTE)</td>\n",
       "      <td>0.844</td>\n",
       "      <td>0.539</td>\n",
       "      <td>0.504</td>\n",
       "      <td>0.521</td>\n",
       "      <td>0.907</td>\n",
       "      <td>0.714</td>\n",
       "      <td>0.841</td>\n",
       "    </tr>\n",
       "    <tr>\n",
       "      <th></th>\n",
       "      <td>only consider posts with 3 words or more</td>\n",
       "      <td>0.845</td>\n",
       "      <td>0.576</td>\n",
       "      <td>0.486</td>\n",
       "      <td>0.527</td>\n",
       "      <td>0.907</td>\n",
       "      <td>0.717</td>\n",
       "      <td>0.840</td>\n",
       "    </tr>\n",
       "    <tr>\n",
       "      <th></th>\n",
       "      <td>only consider posts with 10 words or more</td>\n",
       "      <td>0.864</td>\n",
       "      <td>0.679</td>\n",
       "      <td>0.289</td>\n",
       "      <td>0.406</td>\n",
       "      <td>0.923</td>\n",
       "      <td>0.665</td>\n",
       "      <td>0.841</td>\n",
       "    </tr>\n",
       "    <tr>\n",
       "      <th></th>\n",
       "      <td>converting emoji into text</td>\n",
       "      <td>0.844</td>\n",
       "      <td>0.541</td>\n",
       "      <td>0.514</td>\n",
       "      <td>0.527</td>\n",
       "      <td>0.907</td>\n",
       "      <td>0.717</td>\n",
       "      <td>0.843</td>\n",
       "    </tr>\n",
       "    <tr>\n",
       "      <th></th>\n",
       "      <td>combining title and selftext</td>\n",
       "      <td>0.833</td>\n",
       "      <td>0.505</td>\n",
       "      <td>0.492</td>\n",
       "      <td>0.498</td>\n",
       "      <td>0.900</td>\n",
       "      <td>0.699</td>\n",
       "      <td>0.832</td>\n",
       "    </tr>\n",
       "    <tr>\n",
       "      <th></th>\n",
       "      <td>change n-gram range to (1,1)</td>\n",
       "      <td>0.797</td>\n",
       "      <td>0.432</td>\n",
       "      <td>0.638</td>\n",
       "      <td>0.515</td>\n",
       "      <td>0.872</td>\n",
       "      <td>0.693</td>\n",
       "      <td>0.812</td>\n",
       "    </tr>\n",
       "    <tr>\n",
       "      <th></th>\n",
       "      <td>change n-gram range to (1,2)</td>\n",
       "      <td>0.831</td>\n",
       "      <td>0.501</td>\n",
       "      <td>0.565</td>\n",
       "      <td>0.531</td>\n",
       "      <td>0.897</td>\n",
       "      <td>0.714</td>\n",
       "      <td>0.835</td>\n",
       "    </tr>\n",
       "    <tr>\n",
       "      <th></th>\n",
       "      <td>change max-features to 118167 (10% of default)</td>\n",
       "      <td>0.815</td>\n",
       "      <td>0.465</td>\n",
       "      <td>0.625</td>\n",
       "      <td>0.533</td>\n",
       "      <td>0.885</td>\n",
       "      <td>0.709</td>\n",
       "      <td>0.825</td>\n",
       "    </tr>\n",
       "    <tr>\n",
       "      <th></th>\n",
       "      <td>change max-features to 59083 (5% of default)</td>\n",
       "      <td>0.815</td>\n",
       "      <td>0.464</td>\n",
       "      <td>0.620</td>\n",
       "      <td>0.531</td>\n",
       "      <td>0.885</td>\n",
       "      <td>0.708</td>\n",
       "      <td>0.825</td>\n",
       "    </tr>\n",
       "    <tr>\n",
       "      <th></th>\n",
       "      <td>change max-features to 11817 (1% of default)</td>\n",
       "      <td>0.811</td>\n",
       "      <td>0.454</td>\n",
       "      <td>0.602</td>\n",
       "      <td>0.518</td>\n",
       "      <td>0.882</td>\n",
       "      <td>0.700</td>\n",
       "      <td>0.821</td>\n",
       "    </tr>\n",
       "  </tbody>\n",
       "</table>\n",
       "</div>"
      ],
      "text/plain": [
       "                                        comments  accuracy  c1_precision  \\\n",
       "             Final model (Multi-NB, CVEC, SMOTE)     0.844         0.539   \n",
       "        only consider posts with 3 words or more     0.845         0.576   \n",
       "       only consider posts with 10 words or more     0.864         0.679   \n",
       "                      converting emoji into text     0.844         0.541   \n",
       "                    combining title and selftext     0.833         0.505   \n",
       "                    change n-gram range to (1,1)     0.797         0.432   \n",
       "                    change n-gram range to (1,2)     0.831         0.501   \n",
       "  change max-features to 118167 (10% of default)     0.815         0.465   \n",
       "    change max-features to 59083 (5% of default)     0.815         0.464   \n",
       "    change max-features to 11817 (1% of default)     0.811         0.454   \n",
       "\n",
       "  c1_recall  c1_f1  c0_f1  macro_avg_f1  wt_avg_f1  \n",
       "      0.504  0.521  0.907         0.714      0.841  \n",
       "      0.486  0.527  0.907         0.717      0.840  \n",
       "      0.289  0.406  0.923         0.665      0.841  \n",
       "      0.514  0.527  0.907         0.717      0.843  \n",
       "      0.492  0.498  0.900         0.699      0.832  \n",
       "      0.638  0.515  0.872         0.693      0.812  \n",
       "      0.565  0.531  0.897         0.714      0.835  \n",
       "      0.625  0.533  0.885         0.709      0.825  \n",
       "      0.620  0.531  0.885         0.708      0.825  \n",
       "      0.602  0.518  0.882         0.700      0.821  "
      ]
     },
     "execution_count": 71,
     "metadata": {},
     "output_type": "execute_result"
    }
   ],
   "source": [
    "pd.concat([run1,run2,run3,run4,run5,run6,run7,run8,run9,run10]).round(3)"
   ]
  },
  {
   "cell_type": "markdown",
   "id": "08386cde-d8c0-4e7a-8c3b-f8052e3c78b9",
   "metadata": {},
   "source": [
    "The table above summarizes the prediction accuracy of the final model with various adjustments made to the text preprocessing and the count vectorizer parameters.\n",
    "\n",
    "The model with default parameters (considering all words in the title, with an n-gram range of (1,3) and using all features) performs the best out of all the different variations tested in this study (with the exception of that with adding in the emoji data).\n",
    "\n",
    "As such, further studies could be done in order to assess the tradeoff between processing time and slight benefits incurred when converting the emoji data into text. \n",
    "\n",
    "However, for this study we will retain the initial vectorizer parameters and text processing as the finalized model."
   ]
  },
  {
   "cell_type": "markdown",
   "id": "eac8801f-b0a0-4bb5-b5fa-973fcbb49e15",
   "metadata": {},
   "source": [
    "# Final Model"
   ]
  },
  {
   "cell_type": "markdown",
   "id": "65fd57dc-652a-47b3-b4ed-8a99f4a07e1b",
   "metadata": {},
   "source": [
    "The final model chosen for the classification problem is the Multinomial NB model with count vectorizer and SMOTE oversampling.\n",
    "\n",
    "The model is able to achieve 0.54 precision and 0.51 recall, which resulted in an f1-score of 0.52 for the target class. All this while maintaining a respectable f1-score of 0.91 for the other class."
   ]
  },
  {
   "cell_type": "markdown",
   "id": "6fb2d64d-03a5-44a8-bcdc-6676812e4a9d",
   "metadata": {},
   "source": [
    "## Interpretation of Coefficient"
   ]
  },
  {
   "cell_type": "markdown",
   "id": "61af6d7b-e24a-4db4-a596-3dd723b4ac6d",
   "metadata": {},
   "source": [
    "The benefit of using Multinomial NB is that we are able to interpret the cofficients and see which words have the highest odds of appearing in either of the class. The odds ratio can be obtained by extracting the probability of occurence of each feature in each class."
   ]
  },
  {
   "cell_type": "code",
   "execution_count": 72,
   "id": "e4216cd2-b185-455d-9479-a5218a2bb862",
   "metadata": {},
   "outputs": [],
   "source": [
    "# getting the feature log-probability from the Multinomail NB model class\n",
    "feature_log_prob_0_df = pd.DataFrame(cvec_nb_SMOTE.feature_log_prob_[0], index=cvec.get_feature_names_out())\n",
    "feature_log_prob_1_df = pd.DataFrame(cvec_nb_SMOTE.feature_log_prob_[1], index=cvec.get_feature_names_out())\n",
    "\n",
    "# combining the two dataframes and setting the correctt axis names\n",
    "feature_log_prob_df = pd.concat([feature_log_prob_0_df,feature_log_prob_1_df],axis=1)\n",
    "feature_log_prob_df.columns = ['feature_log_prob_in_c0','feature_log_in_c0']\n",
    "\n",
    "# converting the feature log probability to the feature probability by taking the exponent\n",
    "feature_log_prob_df[['feature_prob_in_c0','feature_prob_in_c1']] = feature_log_prob_df.apply(np.exp)\n",
    "\n",
    "# calculating the odds ratio of each feature being in either class\n",
    "feature_log_prob_df['odds_ratio_of_c1'] = feature_log_prob_df['feature_prob_in_c1'] / feature_log_prob_df['feature_prob_in_c0']\n",
    "feature_log_prob_df['odds_ratio_of_c0'] = feature_log_prob_df['feature_prob_in_c0'] / feature_log_prob_df['feature_prob_in_c1']"
   ]
  },
  {
   "cell_type": "code",
   "execution_count": 73,
   "id": "0ea1964e-700e-4c25-9450-8592812f04dd",
   "metadata": {},
   "outputs": [
    {
     "data": {
      "text/html": [
       "<div>\n",
       "<style scoped>\n",
       "    .dataframe tbody tr th:only-of-type {\n",
       "        vertical-align: middle;\n",
       "    }\n",
       "\n",
       "    .dataframe tbody tr th {\n",
       "        vertical-align: top;\n",
       "    }\n",
       "\n",
       "    .dataframe thead th {\n",
       "        text-align: right;\n",
       "    }\n",
       "</style>\n",
       "<table border=\"1\" class=\"dataframe\">\n",
       "  <thead>\n",
       "    <tr style=\"text-align: right;\">\n",
       "      <th></th>\n",
       "      <th>feature_log_prob_in_c0</th>\n",
       "      <th>feature_log_in_c0</th>\n",
       "      <th>feature_prob_in_c0</th>\n",
       "      <th>feature_prob_in_c1</th>\n",
       "      <th>odds_ratio_of_c1</th>\n",
       "      <th>odds_ratio_of_c0</th>\n",
       "    </tr>\n",
       "  </thead>\n",
       "  <tbody>\n",
       "    <tr>\n",
       "      <th>stocks daily discussion</th>\n",
       "      <td>-15.034001</td>\n",
       "      <td>-7.588368</td>\n",
       "      <td>2.956762e-07</td>\n",
       "      <td>0.000506</td>\n",
       "      <td>1712.368826</td>\n",
       "      <td>0.000584</td>\n",
       "    </tr>\n",
       "    <tr>\n",
       "      <th>discussion amp</th>\n",
       "      <td>-15.034001</td>\n",
       "      <td>-8.049675</td>\n",
       "      <td>2.956762e-07</td>\n",
       "      <td>0.000319</td>\n",
       "      <td>1079.578554</td>\n",
       "      <td>0.000926</td>\n",
       "    </tr>\n",
       "    <tr>\n",
       "      <th>daily discussion amp</th>\n",
       "      <td>-15.034001</td>\n",
       "      <td>-8.049675</td>\n",
       "      <td>2.956762e-07</td>\n",
       "      <td>0.000319</td>\n",
       "      <td>1079.578554</td>\n",
       "      <td>0.000926</td>\n",
       "    </tr>\n",
       "    <tr>\n",
       "      <th>thread meme</th>\n",
       "      <td>-15.034001</td>\n",
       "      <td>-8.063986</td>\n",
       "      <td>2.956762e-07</td>\n",
       "      <td>0.000315</td>\n",
       "      <td>1064.238184</td>\n",
       "      <td>0.000940</td>\n",
       "    </tr>\n",
       "    <tr>\n",
       "      <th>thread meme stocks</th>\n",
       "      <td>-15.034001</td>\n",
       "      <td>-8.063986</td>\n",
       "      <td>2.956762e-07</td>\n",
       "      <td>0.000315</td>\n",
       "      <td>1064.238184</td>\n",
       "      <td>0.000940</td>\n",
       "    </tr>\n",
       "    <tr>\n",
       "      <th>stocks daily thread</th>\n",
       "      <td>-15.034001</td>\n",
       "      <td>-8.202938</td>\n",
       "      <td>2.956762e-07</td>\n",
       "      <td>0.000274</td>\n",
       "      <td>926.174852</td>\n",
       "      <td>0.001080</td>\n",
       "    </tr>\n",
       "    <tr>\n",
       "      <th>daily thread meme</th>\n",
       "      <td>-15.034001</td>\n",
       "      <td>-8.202938</td>\n",
       "      <td>2.956762e-07</td>\n",
       "      <td>0.000274</td>\n",
       "      <td>926.174852</td>\n",
       "      <td>0.001080</td>\n",
       "    </tr>\n",
       "    <tr>\n",
       "      <th>market recap today</th>\n",
       "      <td>-15.034001</td>\n",
       "      <td>-8.505219</td>\n",
       "      <td>2.956762e-07</td>\n",
       "      <td>0.000202</td>\n",
       "      <td>684.564021</td>\n",
       "      <td>0.001461</td>\n",
       "    </tr>\n",
       "    <tr>\n",
       "      <th>stocks daily</th>\n",
       "      <td>-13.647707</td>\n",
       "      <td>-7.156018</td>\n",
       "      <td>1.182705e-06</td>\n",
       "      <td>0.000780</td>\n",
       "      <td>659.635920</td>\n",
       "      <td>0.001516</td>\n",
       "    </tr>\n",
       "    <tr>\n",
       "      <th>amp options trading</th>\n",
       "      <td>-15.034001</td>\n",
       "      <td>-9.099751</td>\n",
       "      <td>2.956762e-07</td>\n",
       "      <td>0.000112</td>\n",
       "      <td>377.756617</td>\n",
       "      <td>0.002647</td>\n",
       "    </tr>\n",
       "  </tbody>\n",
       "</table>\n",
       "</div>"
      ],
      "text/plain": [
       "                         feature_log_prob_in_c0  feature_log_in_c0  \\\n",
       "stocks daily discussion              -15.034001          -7.588368   \n",
       "discussion amp                       -15.034001          -8.049675   \n",
       "daily discussion amp                 -15.034001          -8.049675   \n",
       "thread meme                          -15.034001          -8.063986   \n",
       "thread meme stocks                   -15.034001          -8.063986   \n",
       "stocks daily thread                  -15.034001          -8.202938   \n",
       "daily thread meme                    -15.034001          -8.202938   \n",
       "market recap today                   -15.034001          -8.505219   \n",
       "stocks daily                         -13.647707          -7.156018   \n",
       "amp options trading                  -15.034001          -9.099751   \n",
       "\n",
       "                         feature_prob_in_c0  feature_prob_in_c1  \\\n",
       "stocks daily discussion        2.956762e-07            0.000506   \n",
       "discussion amp                 2.956762e-07            0.000319   \n",
       "daily discussion amp           2.956762e-07            0.000319   \n",
       "thread meme                    2.956762e-07            0.000315   \n",
       "thread meme stocks             2.956762e-07            0.000315   \n",
       "stocks daily thread            2.956762e-07            0.000274   \n",
       "daily thread meme              2.956762e-07            0.000274   \n",
       "market recap today             2.956762e-07            0.000202   \n",
       "stocks daily                   1.182705e-06            0.000780   \n",
       "amp options trading            2.956762e-07            0.000112   \n",
       "\n",
       "                         odds_ratio_of_c1  odds_ratio_of_c0  \n",
       "stocks daily discussion       1712.368826          0.000584  \n",
       "discussion amp                1079.578554          0.000926  \n",
       "daily discussion amp          1079.578554          0.000926  \n",
       "thread meme                   1064.238184          0.000940  \n",
       "thread meme stocks            1064.238184          0.000940  \n",
       "stocks daily thread            926.174852          0.001080  \n",
       "daily thread meme              926.174852          0.001080  \n",
       "market recap today             684.564021          0.001461  \n",
       "stocks daily                   659.635920          0.001516  \n",
       "amp options trading            377.756617          0.002647  "
      ]
     },
     "metadata": {},
     "output_type": "display_data"
    }
   ],
   "source": [
    "# sorting the values based on the odds ratio of the feature being in class 1 (minority class, or r/stocks)\n",
    "feature_log_prob_df = feature_log_prob_df.sort_values('odds_ratio_of_c1',ascending=False)\n",
    "\n",
    "# displaying the top ten features that are most likely to appear in class 1 (r/stocks)\n",
    "display(feature_log_prob_df.head(10))"
   ]
  },
  {
   "cell_type": "code",
   "execution_count": 74,
   "id": "8b1737f2-f9f3-438e-8109-4c2fbac50d07",
   "metadata": {},
   "outputs": [
    {
     "data": {
      "text/html": [
       "<div>\n",
       "<style scoped>\n",
       "    .dataframe tbody tr th:only-of-type {\n",
       "        vertical-align: middle;\n",
       "    }\n",
       "\n",
       "    .dataframe tbody tr th {\n",
       "        vertical-align: top;\n",
       "    }\n",
       "\n",
       "    .dataframe thead th {\n",
       "        text-align: right;\n",
       "    }\n",
       "</style>\n",
       "<table border=\"1\" class=\"dataframe\">\n",
       "  <thead>\n",
       "    <tr style=\"text-align: right;\">\n",
       "      <th></th>\n",
       "      <th>feature_log_prob_in_c0</th>\n",
       "      <th>feature_log_in_c0</th>\n",
       "      <th>feature_prob_in_c0</th>\n",
       "      <th>feature_prob_in_c1</th>\n",
       "      <th>odds_ratio_of_c1</th>\n",
       "      <th>odds_ratio_of_c0</th>\n",
       "    </tr>\n",
       "  </thead>\n",
       "  <tbody>\n",
       "    <tr>\n",
       "      <th>retards</th>\n",
       "      <td>-8.274746</td>\n",
       "      <td>-14.382954</td>\n",
       "      <td>0.000255</td>\n",
       "      <td>5.669728e-07</td>\n",
       "      <td>0.002225</td>\n",
       "      <td>449.532827</td>\n",
       "    </tr>\n",
       "    <tr>\n",
       "      <th>loss porn</th>\n",
       "      <td>-8.300599</td>\n",
       "      <td>-13.689807</td>\n",
       "      <td>0.000248</td>\n",
       "      <td>1.133946e-06</td>\n",
       "      <td>0.004566</td>\n",
       "      <td>219.029916</td>\n",
       "    </tr>\n",
       "    <tr>\n",
       "      <th>retard</th>\n",
       "      <td>-8.363235</td>\n",
       "      <td>-13.689807</td>\n",
       "      <td>0.000233</td>\n",
       "      <td>1.133946e-06</td>\n",
       "      <td>0.004861</td>\n",
       "      <td>205.731671</td>\n",
       "    </tr>\n",
       "    <tr>\n",
       "      <th>retarded</th>\n",
       "      <td>-8.577231</td>\n",
       "      <td>-13.689807</td>\n",
       "      <td>0.000188</td>\n",
       "      <td>1.133946e-06</td>\n",
       "      <td>0.006021</td>\n",
       "      <td>166.097686</td>\n",
       "    </tr>\n",
       "    <tr>\n",
       "      <th>degenerates</th>\n",
       "      <td>-9.278259</td>\n",
       "      <td>-14.382954</td>\n",
       "      <td>0.000093</td>\n",
       "      <td>5.669728e-07</td>\n",
       "      <td>0.006068</td>\n",
       "      <td>164.793937</td>\n",
       "    </tr>\n",
       "    <tr>\n",
       "      <th>boyfriend</th>\n",
       "      <td>-9.402789</td>\n",
       "      <td>-14.382954</td>\n",
       "      <td>0.000082</td>\n",
       "      <td>5.669728e-07</td>\n",
       "      <td>0.006873</td>\n",
       "      <td>145.498444</td>\n",
       "    </tr>\n",
       "    <tr>\n",
       "      <th>porn</th>\n",
       "      <td>-7.929857</td>\n",
       "      <td>-12.773517</td>\n",
       "      <td>0.000360</td>\n",
       "      <td>2.834864e-06</td>\n",
       "      <td>0.007878</td>\n",
       "      <td>126.933051</td>\n",
       "    </tr>\n",
       "    <tr>\n",
       "      <th>memes</th>\n",
       "      <td>-9.587263</td>\n",
       "      <td>-14.382954</td>\n",
       "      <td>0.000069</td>\n",
       "      <td>5.669728e-07</td>\n",
       "      <td>0.008265</td>\n",
       "      <td>120.987954</td>\n",
       "    </tr>\n",
       "    <tr>\n",
       "      <th>wife boyfriend</th>\n",
       "      <td>-9.668025</td>\n",
       "      <td>-14.382954</td>\n",
       "      <td>0.000063</td>\n",
       "      <td>5.669728e-07</td>\n",
       "      <td>0.008960</td>\n",
       "      <td>111.600957</td>\n",
       "    </tr>\n",
       "    <tr>\n",
       "      <th>gain porn</th>\n",
       "      <td>-9.740696</td>\n",
       "      <td>-14.382954</td>\n",
       "      <td>0.000059</td>\n",
       "      <td>5.669728e-07</td>\n",
       "      <td>0.009636</td>\n",
       "      <td>103.778460</td>\n",
       "    </tr>\n",
       "  </tbody>\n",
       "</table>\n",
       "</div>"
      ],
      "text/plain": [
       "                feature_log_prob_in_c0  feature_log_in_c0  feature_prob_in_c0  \\\n",
       "retards                      -8.274746         -14.382954            0.000255   \n",
       "loss porn                    -8.300599         -13.689807            0.000248   \n",
       "retard                       -8.363235         -13.689807            0.000233   \n",
       "retarded                     -8.577231         -13.689807            0.000188   \n",
       "degenerates                  -9.278259         -14.382954            0.000093   \n",
       "boyfriend                    -9.402789         -14.382954            0.000082   \n",
       "porn                         -7.929857         -12.773517            0.000360   \n",
       "memes                        -9.587263         -14.382954            0.000069   \n",
       "wife boyfriend               -9.668025         -14.382954            0.000063   \n",
       "gain porn                    -9.740696         -14.382954            0.000059   \n",
       "\n",
       "                feature_prob_in_c1  odds_ratio_of_c1  odds_ratio_of_c0  \n",
       "retards               5.669728e-07          0.002225        449.532827  \n",
       "loss porn             1.133946e-06          0.004566        219.029916  \n",
       "retard                1.133946e-06          0.004861        205.731671  \n",
       "retarded              1.133946e-06          0.006021        166.097686  \n",
       "degenerates           5.669728e-07          0.006068        164.793937  \n",
       "boyfriend             5.669728e-07          0.006873        145.498444  \n",
       "porn                  2.834864e-06          0.007878        126.933051  \n",
       "memes                 5.669728e-07          0.008265        120.987954  \n",
       "wife boyfriend        5.669728e-07          0.008960        111.600957  \n",
       "gain porn             5.669728e-07          0.009636        103.778460  "
      ]
     },
     "metadata": {},
     "output_type": "display_data"
    }
   ],
   "source": [
    "# sorting the values based on the odds ratio of the feature being in class 1 (minority class, or r/stocks)\n",
    "feature_log_prob_df = feature_log_prob_df.sort_values('odds_ratio_of_c0',ascending=False)\n",
    "\n",
    "# displaying the top ten features that are most likely to appear in class 1 (r/stocks)\n",
    "display(feature_log_prob_df.head(10))"
   ]
  },
  {
   "cell_type": "code",
   "execution_count": 75,
   "id": "3b04a880-1575-4a95-8e61-cb7febc69b88",
   "metadata": {},
   "outputs": [
    {
     "data": {
      "text/html": [
       "<div>\n",
       "<style scoped>\n",
       "    .dataframe tbody tr th:only-of-type {\n",
       "        vertical-align: middle;\n",
       "    }\n",
       "\n",
       "    .dataframe tbody tr th {\n",
       "        vertical-align: top;\n",
       "    }\n",
       "\n",
       "    .dataframe thead th {\n",
       "        text-align: right;\n",
       "    }\n",
       "</style>\n",
       "<table border=\"1\" class=\"dataframe\">\n",
       "  <thead>\n",
       "    <tr style=\"text-align: right;\">\n",
       "      <th></th>\n",
       "      <th>index</th>\n",
       "      <th>feature_log_prob_in_c0</th>\n",
       "      <th>feature_log_in_c0</th>\n",
       "      <th>odds_ratio_of_c1</th>\n",
       "      <th>odds_ratio_of_c0</th>\n",
       "    </tr>\n",
       "  </thead>\n",
       "  <tbody>\n",
       "    <tr>\n",
       "      <th>0</th>\n",
       "      <td>retards</td>\n",
       "      <td>-8.275</td>\n",
       "      <td>-14.383</td>\n",
       "      <td>0.002</td>\n",
       "      <td>449.533</td>\n",
       "    </tr>\n",
       "    <tr>\n",
       "      <th>1</th>\n",
       "      <td>loss porn</td>\n",
       "      <td>-8.301</td>\n",
       "      <td>-13.690</td>\n",
       "      <td>0.005</td>\n",
       "      <td>219.030</td>\n",
       "    </tr>\n",
       "    <tr>\n",
       "      <th>2</th>\n",
       "      <td>retard</td>\n",
       "      <td>-8.363</td>\n",
       "      <td>-13.690</td>\n",
       "      <td>0.005</td>\n",
       "      <td>205.732</td>\n",
       "    </tr>\n",
       "    <tr>\n",
       "      <th>3</th>\n",
       "      <td>retarded</td>\n",
       "      <td>-8.577</td>\n",
       "      <td>-13.690</td>\n",
       "      <td>0.006</td>\n",
       "      <td>166.098</td>\n",
       "    </tr>\n",
       "    <tr>\n",
       "      <th>4</th>\n",
       "      <td>degenerates</td>\n",
       "      <td>-9.278</td>\n",
       "      <td>-14.383</td>\n",
       "      <td>0.006</td>\n",
       "      <td>164.794</td>\n",
       "    </tr>\n",
       "    <tr>\n",
       "      <th>5</th>\n",
       "      <td>boyfriend</td>\n",
       "      <td>-9.403</td>\n",
       "      <td>-14.383</td>\n",
       "      <td>0.007</td>\n",
       "      <td>145.498</td>\n",
       "    </tr>\n",
       "    <tr>\n",
       "      <th>6</th>\n",
       "      <td>porn</td>\n",
       "      <td>-7.930</td>\n",
       "      <td>-12.774</td>\n",
       "      <td>0.008</td>\n",
       "      <td>126.933</td>\n",
       "    </tr>\n",
       "    <tr>\n",
       "      <th>7</th>\n",
       "      <td>memes</td>\n",
       "      <td>-9.587</td>\n",
       "      <td>-14.383</td>\n",
       "      <td>0.008</td>\n",
       "      <td>120.988</td>\n",
       "    </tr>\n",
       "    <tr>\n",
       "      <th>8</th>\n",
       "      <td>wife boyfriend</td>\n",
       "      <td>-9.668</td>\n",
       "      <td>-14.383</td>\n",
       "      <td>0.009</td>\n",
       "      <td>111.601</td>\n",
       "    </tr>\n",
       "    <tr>\n",
       "      <th>9</th>\n",
       "      <td>gain porn</td>\n",
       "      <td>-9.741</td>\n",
       "      <td>-14.383</td>\n",
       "      <td>0.010</td>\n",
       "      <td>103.778</td>\n",
       "    </tr>\n",
       "    <tr>\n",
       "      <th>10</th>\n",
       "      <td>discussion amp options</td>\n",
       "      <td>-15.034</td>\n",
       "      <td>-9.100</td>\n",
       "      <td>377.757</td>\n",
       "      <td>0.003</td>\n",
       "    </tr>\n",
       "    <tr>\n",
       "      <th>11</th>\n",
       "      <td>stocks daily</td>\n",
       "      <td>-13.648</td>\n",
       "      <td>-7.156</td>\n",
       "      <td>659.636</td>\n",
       "      <td>0.002</td>\n",
       "    </tr>\n",
       "    <tr>\n",
       "      <th>12</th>\n",
       "      <td>market recap today</td>\n",
       "      <td>-15.034</td>\n",
       "      <td>-8.505</td>\n",
       "      <td>684.564</td>\n",
       "      <td>0.001</td>\n",
       "    </tr>\n",
       "    <tr>\n",
       "      <th>13</th>\n",
       "      <td>daily thread meme</td>\n",
       "      <td>-15.034</td>\n",
       "      <td>-8.203</td>\n",
       "      <td>926.175</td>\n",
       "      <td>0.001</td>\n",
       "    </tr>\n",
       "    <tr>\n",
       "      <th>14</th>\n",
       "      <td>stocks daily thread</td>\n",
       "      <td>-15.034</td>\n",
       "      <td>-8.203</td>\n",
       "      <td>926.175</td>\n",
       "      <td>0.001</td>\n",
       "    </tr>\n",
       "    <tr>\n",
       "      <th>15</th>\n",
       "      <td>thread meme stocks</td>\n",
       "      <td>-15.034</td>\n",
       "      <td>-8.064</td>\n",
       "      <td>1064.238</td>\n",
       "      <td>0.001</td>\n",
       "    </tr>\n",
       "    <tr>\n",
       "      <th>16</th>\n",
       "      <td>thread meme</td>\n",
       "      <td>-15.034</td>\n",
       "      <td>-8.064</td>\n",
       "      <td>1064.238</td>\n",
       "      <td>0.001</td>\n",
       "    </tr>\n",
       "    <tr>\n",
       "      <th>17</th>\n",
       "      <td>daily discussion amp</td>\n",
       "      <td>-15.034</td>\n",
       "      <td>-8.050</td>\n",
       "      <td>1079.579</td>\n",
       "      <td>0.001</td>\n",
       "    </tr>\n",
       "    <tr>\n",
       "      <th>18</th>\n",
       "      <td>discussion amp</td>\n",
       "      <td>-15.034</td>\n",
       "      <td>-8.050</td>\n",
       "      <td>1079.579</td>\n",
       "      <td>0.001</td>\n",
       "    </tr>\n",
       "    <tr>\n",
       "      <th>19</th>\n",
       "      <td>stocks daily discussion</td>\n",
       "      <td>-15.034</td>\n",
       "      <td>-7.588</td>\n",
       "      <td>1712.369</td>\n",
       "      <td>0.001</td>\n",
       "    </tr>\n",
       "  </tbody>\n",
       "</table>\n",
       "</div>"
      ],
      "text/plain": [
       "                      index  feature_log_prob_in_c0  feature_log_in_c0  \\\n",
       "0                   retards                  -8.275            -14.383   \n",
       "1                 loss porn                  -8.301            -13.690   \n",
       "2                    retard                  -8.363            -13.690   \n",
       "3                  retarded                  -8.577            -13.690   \n",
       "4               degenerates                  -9.278            -14.383   \n",
       "5                 boyfriend                  -9.403            -14.383   \n",
       "6                      porn                  -7.930            -12.774   \n",
       "7                     memes                  -9.587            -14.383   \n",
       "8            wife boyfriend                  -9.668            -14.383   \n",
       "9                 gain porn                  -9.741            -14.383   \n",
       "10   discussion amp options                 -15.034             -9.100   \n",
       "11             stocks daily                 -13.648             -7.156   \n",
       "12       market recap today                 -15.034             -8.505   \n",
       "13        daily thread meme                 -15.034             -8.203   \n",
       "14      stocks daily thread                 -15.034             -8.203   \n",
       "15       thread meme stocks                 -15.034             -8.064   \n",
       "16              thread meme                 -15.034             -8.064   \n",
       "17     daily discussion amp                 -15.034             -8.050   \n",
       "18           discussion amp                 -15.034             -8.050   \n",
       "19  stocks daily discussion                 -15.034             -7.588   \n",
       "\n",
       "    odds_ratio_of_c1  odds_ratio_of_c0  \n",
       "0              0.002           449.533  \n",
       "1              0.005           219.030  \n",
       "2              0.005           205.732  \n",
       "3              0.006           166.098  \n",
       "4              0.006           164.794  \n",
       "5              0.007           145.498  \n",
       "6              0.008           126.933  \n",
       "7              0.008           120.988  \n",
       "8              0.009           111.601  \n",
       "9              0.010           103.778  \n",
       "10           377.757             0.003  \n",
       "11           659.636             0.002  \n",
       "12           684.564             0.001  \n",
       "13           926.175             0.001  \n",
       "14           926.175             0.001  \n",
       "15          1064.238             0.001  \n",
       "16          1064.238             0.001  \n",
       "17          1079.579             0.001  \n",
       "18          1079.579             0.001  \n",
       "19          1712.369             0.001  "
      ]
     },
     "execution_count": 75,
     "metadata": {},
     "output_type": "execute_result"
    }
   ],
   "source": [
    "feature_log_prob_df_filtered = pd.concat([feature_log_prob_df.head(10),feature_log_prob_df.tail(10)])\n",
    "feature_log_prob_df_filtered.reset_index(inplace=True)\n",
    "feature_log_prob_df_filtered.round(3).drop(['feature_prob_in_c0','feature_prob_in_c1'],axis=1)"
   ]
  },
  {
   "cell_type": "code",
   "execution_count": 76,
   "id": "f333c48b-225f-49e2-b2ce-be3164947a8f",
   "metadata": {},
   "outputs": [
    {
     "data": {
      "image/png": "[encoded data removed]",
      "text/plain": [
       "<Figure size 1000x600 with 2 Axes>"
      ]
     },
     "metadata": {},
     "output_type": "display_data"
    }
   ],
   "source": [
    "# Setting up the subplots\n",
    "fig, (ax1, ax2) = plt.subplots(ncols=2, figsize=(10, 6), sharey=True, gridspec_kw={'wspace': 0})\n",
    "\n",
    "# draw stocks subplot at the right\n",
    "sns.barplot(data=feature_log_prob_df_filtered, x='odds_ratio_of_c1', y='index',\n",
    "            orient='horizontal', dodge=True, ax=ax2, palette=sns.light_palette(yellow, n_colors=20, reverse=False), linewidth=0)\n",
    "ax2.yaxis.set_label_position('right')\n",
    "ax2.tick_params(axis='y', labelright=True, right=True)\n",
    "ax2.set_title('  '+'r/stocks', loc='left')\n",
    "ax2.set_ylabel('n-gram')\n",
    "ax2.set(xlabel='odds ratio of \\n occuring in r/stocks')\n",
    "\n",
    "# draw wsb subplot at the left\n",
    "sns.barplot(data=feature_log_prob_df_filtered, x='odds_ratio_of_c0', y='index',\n",
    "            orient='horizontal', dodge=True, ax=ax1, palette=sns.light_palette(red, n_colors=20, reverse=True), linewidth=0)\n",
    "\n",
    "# optionally use the same scale left and right\n",
    "xmax = max(ax1.get_xlim()[1], ax2.get_xlim()[1])\n",
    "ax1.set_xlim(xmax=xmax)\n",
    "ax2.set_xlim(xmax=xmax)\n",
    "\n",
    "ax1.invert_xaxis()  # reverse the direction of the left subpot\n",
    "ax1.tick_params(labelleft=False, left=False)\n",
    "ax1.set_ylabel('')\n",
    "ax1.set_title('r/wsb'+'  ', loc='right')\n",
    "ax1.set(xlabel='odds ratio of \\n occuring in r/wsb')\n",
    "\n",
    "plt.tight_layout()\n",
    "plt.show()"
   ]
  },
  {
   "cell_type": "markdown",
   "id": "2c7da650-dc97-4030-9eeb-2f05dcd494ef",
   "metadata": {},
   "source": [
    "The tables above shows the top 10 features that has the highest odds ratio of being in either class.\n",
    "- The features with the highest odds ratio of appearing in r/stocks is \"stocks daily discussion\", \"thread meme\", and \"thread meme stocks\".\n",
    "    - These are phrases related to discussion threads that are commonly posted in r/stocks\n",
    "    - e.g.: there is a daily discussion thread for discussing general stocks (r/stocks Daily Discussion & Technical Tuesdays, r/stocks Daily Discussion & Fundamentals Fridays) or meme stocks (r/stocks Weekly Thread on Meme Stocks)\n",
    "    - In fact, most of the the top 10 features in the r/stocks are those related to the common discussion thread\n",
    "    - As such, our model will be predisposed to be (accurately) predicting common discussion threads in r/stocks\n",
    "        - This is not such a bad thing, since these daily discussion threads are typically visited often by the users, typically with quite high comment counts (albeit with not high scores)\n",
    "- The features with the highest odds ratio of appearing in r/wsb are those words typically used by members of r/wsb (who typically calls themselves degenerates)\n",
    "    - Some of the top features includes phrases such as:\n",
    "        - \"retard(s)\" - another term for the members of r/wsb call each other, an anagram of traders [[source]](https://news.ycombinator.com/item?id=25939120)\n",
    "        - \"loss (or gain) porn\" - where members would post the outcome of a highly risky play which resulted in massive wins or a complete wipeout of their account\n",
    "        - \"diamond hands\" - which is a term for someone who has a high-risk tolerance for high volatility stocks or assets that they own"
   ]
  },
  {
   "cell_type": "markdown",
   "id": "adbf15cd-6824-4aa8-8090-14f9cf68c311",
   "metadata": {
    "tags": []
   },
   "source": [
    "# On the Generalizability of Model"
   ]
  },
  {
   "cell_type": "markdown",
   "id": "0ed57278-d535-423d-b76d-2d78a25172e0",
   "metadata": {},
   "source": [
    "Up to this point, we have used one year worth of data for both the training and testing data set. However, in reality when the model is put into production, we will be using a prebuilt model to predict posts in realtime. We can assume that the model is refreshed monthly.\n",
    "\n",
    "Therefore it will be interesting to see the performance of a model obtained by train on one month worth of data in classifying posts from an entirely different month."
   ]
  },
  {
   "cell_type": "markdown",
   "id": "e55c7ae2-0f8e-4ad1-9241-b9d5074a2466",
   "metadata": {
    "tags": []
   },
   "source": [
    "## Monthly Variations in predictive power"
   ]
  },
  {
   "cell_type": "code",
   "execution_count": 77,
   "id": "5feaece5-90a1-4e0e-8ec7-2cb8d2d105aa",
   "metadata": {},
   "outputs": [],
   "source": [
    "g = df.groupby(pd.Grouper(key='created', freq='M')) # groupby 'created' column by month\n",
    "df_month = [group for _,group in g] # separate groups to a list of dataframes with list comprehension\n",
    "# the resulting list will contain 12 dataframes for the twelve months, with df_month[0] being the posts created between 08/2022 and 09/2022"
   ]
  },
  {
   "cell_type": "code",
   "execution_count": 78,
   "id": "141efc94-beb5-411c-a101-c2a89d5f5048",
   "metadata": {},
   "outputs": [],
   "source": [
    "months_dict = {x:df_month[x]['created'].iloc[0].to_period('M') for x in range(13)} # create dictionary that contains the string representation of each month in df_month"
   ]
  },
  {
   "cell_type": "code",
   "execution_count": 79,
   "id": "92a3cd65-9520-4a9f-9ffb-3a8835d1debe",
   "metadata": {},
   "outputs": [],
   "source": [
    "# mlflow.autolog(disable=True) # temoporarily disable mlflow autologging feature\n",
    "\n",
    "# instantiate dataframe to contain all the test results\n",
    "monthly_test_df = pd.DataFrame()\n",
    "\n",
    "for train_month in range(12): # looping through each of the month for training data\n",
    "    \n",
    "    # define the training data\n",
    "    X_train = df_month[train_month]['title']\n",
    "    y_train = df_month[train_month]['subreddit_stocks']\n",
    "    \n",
    "    # vectorizing words\n",
    "    cvec = CountVectorizer(stop_words = 'english',ngram_range=(1,3)) # Instantiating the CountVectorizer, use english stopwords, and include n-grams ranging from 1 to 3\n",
    "    X_train_cvec = cvec.fit_transform(X_train)\n",
    "    \n",
    "    # over-samplling TEST dataset using SMOTE\n",
    "    SMOTE = imblearn.over_sampling.SMOTE(n_jobs=-1) # instantiating the SMOTE over-sampler\n",
    "    X_train_cvec_SMOTE, y_train_cvec_SMOTE = SMOTE.fit_resample(X_train_cvec, y_train) # conducting over-sampling of the MINORITY class in the TRAINING dataset only\n",
    "    \n",
    "    # training the multinomialNB model on the TEST dataset\n",
    "    cvec_nb_SMOTE = MultinomialNB() # instantiating the model\n",
    "    cvec_nb_SMOTE.fit(X_train_cvec_SMOTE, y_train_cvec_SMOTE) # fitting the model\n",
    "    \n",
    "    \n",
    "    \n",
    "    for test_month in range (12): # looping from current month to the 12th month for testing data\n",
    "        \n",
    "        if train_month == test_month: continue # skips calculating if it's the same month. this will be calculated in a later loop\n",
    "        \n",
    "        # print status (optional, can comment out)\n",
    "        # print(f\"Training on {months_dict[train_month]} | Testing on {months_dict[test_month]}\")\n",
    "        \n",
    "        # define the test data\n",
    "        X_test = df_month[test_month]['title']\n",
    "        y_test = df_month[test_month]['subreddit_stocks']\n",
    "        \n",
    "        X_test_cvec = cvec.transform(X_test)\n",
    "\n",
    "        # generating predictions\n",
    "        pred_cvec_NB_SMOTE = cvec_nb_SMOTE.predict(X_test_cvec) # generating the prediction\n",
    "\n",
    "        # return summary sheet\n",
    "        month_result =  export_results(y_test,pred_cvec_NB_SMOTE,idno='')\n",
    "        \n",
    "        # adding the training and testing month detail to the dataframe row\n",
    "        month_result['training_month'] = months_dict[train_month]\n",
    "        month_result['testing_month'] = months_dict[test_month]\n",
    "        \n",
    "        # adding the result row from the month to the monthly_test_df\n",
    "        monthly_test_df = pd.concat([monthly_test_df,month_result])       \n",
    "\n",
    "        \n",
    "        \n",
    "        \n",
    "        \n",
    "for train_month in range(12): # when predicting itself (i.e. it's own month, we cannot use the whole month as the training est, as such, we will do a train-test split here)\n",
    "    \n",
    "    # define the training data\n",
    "    X = df_month[train_month]['title']\n",
    "    y = df_month[train_month]['subreddit_stocks']\n",
    "    \n",
    "    # conduct train-test split\n",
    "    X_train, X_test, y_train, y_test = train_test_split(X, y,\n",
    "                                                        test_size=0.3,\n",
    "                                                        random_state=42,\n",
    "                                                        stratify=y)\n",
    "    \n",
    "    # vectorizing words\n",
    "    cvec = CountVectorizer(stop_words = 'english',ngram_range=(1,3)) # Instantiating the CountVectorizer, use english stopwords, and include n-grams ranging from 1 to 3\n",
    "    X_train_cvec = cvec.fit_transform(X_train)\n",
    "    X_test_cvec = cvec.transform(X_test)\n",
    "    \n",
    "    # over-samplling TEST dataset using SMOTE\n",
    "    SMOTE = imblearn.over_sampling.SMOTE(n_jobs=-1) # instantiating the SMOTE over-sampler\n",
    "    X_train_cvec_SMOTE, y_train_cvec_SMOTE = SMOTE.fit_resample(X_train_cvec, y_train) # conducting over-sampling of the MINORITY class in the TRAINING dataset only\n",
    "    \n",
    "    # training the multinomialNB model on the TEST dataset\n",
    "    cvec_nb_SMOTE = MultinomialNB() # instantiating the model\n",
    "    cvec_nb_SMOTE.fit(X_train_cvec_SMOTE, y_train_cvec_SMOTE) # fitting the model\n",
    "    \n",
    "    \n",
    "    # generating predictions\n",
    "    pred_cvec_NB_SMOTE = cvec_nb_SMOTE.predict(X_test_cvec) # generating the prediction\n",
    "\n",
    "    # return summary sheet\n",
    "    month_result =  export_results(y_test,pred_cvec_NB_SMOTE,idno='')\n",
    "\n",
    "    # adding the training and testing month detail to the dataframe row\n",
    "    month_result['training_month'] = months_dict[train_month]\n",
    "    month_result['testing_month'] = months_dict[train_month]\n",
    "\n",
    "    # adding the result row from the month to the monthly_test_df\n",
    "    monthly_test_df = pd.concat([monthly_test_df,month_result])       \n",
    "\n",
    "        \n",
    "        \n",
    "# mlflow.autolog(disable=False) # re-enable mlflow autologging feature"
   ]
  },
  {
   "cell_type": "code",
   "execution_count": 80,
   "id": "17487a38-b59b-4074-8e8a-637318158f33",
   "metadata": {},
   "outputs": [
    {
     "data": {
      "image/png": "[encoded data removed]",
      "text/plain": [
       "<Figure size 1000x800 with 2 Axes>"
      ]
     },
     "metadata": {},
     "output_type": "display_data"
    }
   ],
   "source": [
    "monthly_test_accuracy = monthly_test_df.pivot_table(values='c1_f1',\n",
    "                                                            columns='testing_month',index='training_month')\n",
    "\n",
    "plt.figure(figsize=(10,8))\n",
    "sns.heatmap(monthly_test_accuracy,annot=True,fmt='.3f',cmap='coolwarm_r',annot_kws={'fontsize':'x-small'})\n",
    "plt.tight_layout()"
   ]
  },
  {
   "cell_type": "markdown",
   "id": "b1fc745b-60ae-46cd-b743-864f8fe9345f",
   "metadata": {},
   "source": [
    "The heatmap above shows the f1-score of the model when predicting the target class based on various training and testing month.\n",
    "- The best model performs best when predicting the post from the month in which the model is also being trained on.\n",
    "    - However this is not a realistic case that will happen in actual production code\n",
    "    - The more realistic case is where A model train on one month's data is being used to predict post coming in from a different month\n",
    "- There is a significant and consistent drop (of around 0.05) when the model is predicting the post coming from a different month\n",
    "    - There is a very slight (but inconsistent) drop of performance as the model predicts posts coming from the months that are further away from which the model is being trained on\n",
    "    - This indicates a clear presence of \"data drift\". This is where the underlying distribution shifts over time of the data shifts over time.\n",
    "        - Such data drift is actually quite expected in data obtained from / relating to social media, because these types of data are typically quite susceptible to periodical changes in trends and topics\n",
    "        - For our particular example, the data drift could arise from the subreddits discussing different types of stocks at different periods of time (e.g.: discussion of GME which peaks in early 2021 and BBBY in late 2022)"
   ]
  },
  {
   "cell_type": "markdown",
   "id": "1e2f933b-1b6e-44ac-b200-b828f2feacde",
   "metadata": {
    "tags": []
   },
   "source": [
    "## Using Cumulative Data for Training"
   ]
  },
  {
   "cell_type": "markdown",
   "id": "a4ea0af4-fecc-44e9-a14f-e8f9e6f8e983",
   "metadata": {},
   "source": [
    "One potential method to improve on the prediction model above is to train the model on cumulative data. This means training the model on data obtained from all the previous months and using it to predict the posts in the upcoming months."
   ]
  },
  {
   "cell_type": "code",
   "execution_count": 81,
   "id": "0d2ec5b6-f541-4218-b1b2-6edecd58a186",
   "metadata": {},
   "outputs": [],
   "source": [
    "def get_cum_df(df_group,start,end):\n",
    "    output_df = pd.DataFrame()\n",
    "    \n",
    "    if start == end: return df_group[start]\n",
    "    \n",
    "    for i in range(start,end+1):\n",
    "        output_df = pd.concat([output_df,df_group[i]])\n",
    "        \n",
    "    return output_df"
   ]
  },
  {
   "cell_type": "code",
   "execution_count": null,
   "id": "574df5b1-1751-4ade-a5c5-4461525594eb",
   "metadata": {},
   "outputs": [],
   "source": [
    "# mlflow.autolog(disable=True) # temoporarily disable mlflow autologging feature\n",
    "\n",
    "# instantiate dataframe to contain all the test results\n",
    "cum_monthly_test_df = pd.DataFrame()\n",
    "\n",
    "for train_month in range(12): # looping through each of the month for training data\n",
    "    \n",
    "    # define the training data\n",
    "    X_train = get_cum_df(df_month,0,train_month)['title']\n",
    "    y_train = get_cum_df(df_month,0,train_month)['subreddit_stocks']\n",
    "    \n",
    "    \n",
    "    # vectorizing words\n",
    "    cvec = CountVectorizer(stop_words = 'english',ngram_range=(1,3)) # Instantiating the CountVectorizer, use english stopwords, and include n-grams ranging from 1 to 3\n",
    "    X_train_cvec = cvec.fit_transform(X_train)\n",
    "    \n",
    "    # over-samplling TEST dataset using SMOTE\n",
    "    SMOTE = imblearn.over_sampling.SMOTE(n_jobs=-1) # instantiating the SMOTE over-sampler\n",
    "    X_train_cvec_SMOTE, y_train_cvec_SMOTE = SMOTE.fit_resample(X_train_cvec, y_train) # conducting over-sampling of the MINORITY class in the TRAINING dataset only\n",
    "    \n",
    "    # training the multinomialNB model on the TEST dataset\n",
    "    cvec_nb_SMOTE = MultinomialNB() # instantiating the model\n",
    "    cvec_nb_SMOTE.fit(X_train_cvec_SMOTE, y_train_cvec_SMOTE) # fitting the model\n",
    "    \n",
    "    \n",
    "    \n",
    "    for test_month in range (train_month+1,12): # looping from current month to the 12th month for testing data\n",
    "        \n",
    "        if train_month == test_month: continue # skips calculating if it's the same month. this will be calculated in a later loop\n",
    "        \n",
    "        # print status (optional, can comment out)\n",
    "        # print(f\"Training on {months_dict[train_month]} | Testing on {months_dict[test_month]}\")\n",
    "        \n",
    "        # define the test data\n",
    "        X_test = df_month[test_month]['title']\n",
    "        y_test = df_month[test_month]['subreddit_stocks']\n",
    "        \n",
    "        X_test_cvec = cvec.transform(X_test)\n",
    "\n",
    "        # generating predictions\n",
    "        pred_cvec_NB_SMOTE = cvec_nb_SMOTE.predict(X_test_cvec) # generating the prediction\n",
    "\n",
    "        # return summary sheet\n",
    "        month_result =  export_results(y_test,pred_cvec_NB_SMOTE,idno='')\n",
    "        \n",
    "        # adding the training and testing month detail to the dataframe row\n",
    "        month_result['training_month'] = months_dict[train_month]\n",
    "        month_result['testing_month'] = months_dict[test_month]\n",
    "        \n",
    "        # adding the result row from the month to the monthly_test_df\n",
    "        cum_monthly_test_df = pd.concat([cum_monthly_test_df,month_result])\n",
    "        \n",
    "        \n",
    "        \n",
    "for train_month in range(12): # when predicting itself (i.e. it's own month, we cannot use the whole month as the training est, as such, we will do a train-test split here)\n",
    "    \n",
    "    # define the training data\n",
    "    X = df_month[train_month]['title']\n",
    "    y = df_month[train_month]['subreddit_stocks']\n",
    "    \n",
    "    \n",
    "    # conduct train-test split\n",
    "    X_train, X_test, y_train, y_test = train_test_split(X, y,\n",
    "                                                        test_size=0.3,\n",
    "                                                        random_state=42,\n",
    "                                                        stratify=y)\n",
    "    if train_month > 0:\n",
    "        # getting the previous months' X and y\n",
    "        X_train_prev_mo = get_cum_df(df_month,0,train_month-1)['title']\n",
    "        y_train_prev_mo = get_cum_df(df_month,0,train_month-1)['subreddit_stocks']\n",
    "        # combining the previous months' X and y with a PART of this months' data\n",
    "        X_train = pd.concat([X_train,X_train_prev_mo],axis=0)\n",
    "        y_train = pd.concat([y_train,y_train_prev_mo],axis=0)\n",
    "    \n",
    "    # vectorizing words\n",
    "    cvec = CountVectorizer(stop_words = 'english',ngram_range=(1,3)) # Instantiating the CountVectorizer, use english stopwords, and include n-grams ranging from 1 to 3\n",
    "    X_train_cvec = cvec.fit_transform(X_train)\n",
    "    X_test_cvec = cvec.transform(X_test)\n",
    "    \n",
    "    # over-samplling TEST dataset using SMOTE\n",
    "    SMOTE = imblearn.over_sampling.SMOTE(n_jobs=-1) # instantiating the SMOTE over-sampler\n",
    "    X_train_cvec_SMOTE, y_train_cvec_SMOTE = SMOTE.fit_resample(X_train_cvec, y_train) # conducting over-sampling of the MINORITY class in the TRAINING dataset only\n",
    "    \n",
    "    # training the multinomialNB model on the TEST dataset\n",
    "    cvec_nb_SMOTE = MultinomialNB() # instantiating the model\n",
    "    cvec_nb_SMOTE.fit(X_train_cvec_SMOTE, y_train_cvec_SMOTE) # fitting the model\n",
    "    \n",
    "    \n",
    "    # generating predictions\n",
    "    pred_cvec_NB_SMOTE = cvec_nb_SMOTE.predict(X_test_cvec) # generating the prediction\n",
    "\n",
    "    # return summary sheet\n",
    "    month_result =  export_results(y_test,pred_cvec_NB_SMOTE,idno='')\n",
    "\n",
    "    # adding the training and testing month detail to the dataframe row\n",
    "    month_result['training_month'] = months_dict[train_month]\n",
    "    month_result['testing_month'] = months_dict[train_month]\n",
    "\n",
    "    # adding the result row from the month to the monthly_test_df\n",
    "    cum_monthly_test_df = pd.concat([cum_monthly_test_df,month_result])       \n",
    "        \n",
    "\n",
    "        \n",
    "# mlflow.autolog(disable=False) # re-enable mlflow autologging feature"
   ]
  },
  {
   "cell_type": "code",
   "execution_count": null,
   "id": "bcdae2fa-7b01-4a0b-ba60-d983a6a8ae9f",
   "metadata": {
    "tags": []
   },
   "outputs": [],
   "source": [
    "cum_monthly_test_accuracy = cum_monthly_test_df.pivot_table(values='c1_f1',\n",
    "                                                            columns='testing_month',index='training_month')\n",
    "\n",
    "plt.figure(figsize=(10,8))\n",
    "sns.heatmap(cum_monthly_test_accuracy,annot=True,fmt='.3f',cmap='coolwarm_r',annot_kws={'fontsize':'x-small'})\n",
    "plt.tight_layout()"
   ]
  },
  {
   "cell_type": "code",
   "execution_count": null,
   "id": "7d25d574-0847-4abf-9932-cb4a80dbdc1a",
   "metadata": {},
   "outputs": [],
   "source": [
    "f,(ax1,ax2) = plt.subplots(1,2, figsize=(20,9))\n",
    "\n",
    "sns.heatmap(monthly_test_accuracy,\n",
    "            annot=True,fmt='.3f',\n",
    "            cmap='coolwarm_r',cbar=False,\n",
    "            vmin=0.388, vmax=0.541,\n",
    "            ax=ax1,\n",
    "            annot_kws={'fontsize':'x-small'})\n",
    "\n",
    "sns.heatmap(cum_monthly_test_accuracy,\n",
    "            annot=True,fmt='.3f',\n",
    "            cmap='coolwarm_r',cbar=False,\n",
    "            vmin=0.388, vmax=0.541,\n",
    "            ax=ax2,\n",
    "            annot_kws={'fontsize':'x-small'})\n",
    "\n",
    "fig.tight_layout(rect=[0, 0, .9, 1])\n"
   ]
  },
  {
   "cell_type": "markdown",
   "id": "0e17908a-cf48-4c87-924b-8b4d162b08ba",
   "metadata": {},
   "source": [
    "The heatmap above shows the f1-score of the model when predicting the target class based on various training and testing month.\n",
    "\n",
    "The figure on the left is Based on the previous configuration (i.e.: using once a month for training and one month for testing). The figure on the right is based on models trained on cumulative data used to predict one particular month.\n",
    "- Models which are trained on more cumulative data (i.e.: the models towards the right side of the right graph) performs even better\n",
    "- However, data drift is still observed even when using models trained on cumulative data\n",
    "    - This is evident in the slightly reduced performance in predicting post coming from a months farther from the training dataset\n",
    "- Overall, using cumulative data results in a significant improvement in prediction accuracy across the board\n",
    "    - Therefore, in order to improve on the model, we can try to add in more past data for the purposes of training the model"
   ]
  }
 ],
 "metadata": {
  "kernelspec": {
   "display_name": "Python 3 (ipykernel)",
   "language": "python",
   "name": "python3"
  },
  "language_info": {
   "codemirror_mode": {
    "name": "ipython",
    "version": 3
   },
   "file_extension": ".py",
   "mimetype": "text/x-python",
   "name": "python",
   "nbconvert_exporter": "python",
   "pygments_lexer": "ipython3",
   "version": "3.9.13"
  },
  "toc-autonumbering": true,
  "toc-showmarkdowntxt": false
 },
 "nbformat": 4,
 "nbformat_minor": 5
}
