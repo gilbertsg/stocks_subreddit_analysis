{
 "cells": [
  {
   "cell_type": "markdown",
   "id": "59f3de8b-6e30-42e6-baee-2f38f15b5a4f",
   "metadata": {},
   "source": [
    "# Imports and Settings"
   ]
  },
  {
   "cell_type": "code",
   "execution_count": 7,
   "id": "e48cc389-44ec-4f4b-8bb2-b1b69d104522",
   "metadata": {},
   "outputs": [],
   "source": [
    "## library imports\n",
    "\n",
    "# data processing imports\n",
    "import pandas as pd\n",
    "# import numpy as np\n",
    "\n",
    "# # plotting imports\n",
    "# import matplotlib.pyplot as plt\n",
    "# import seaborn as sns\n",
    "\n",
    "# modelling imports\n",
    "from sklearn.model_selection import train_test_split\n",
    "import imblearn\n",
    "\n",
    "# # metric imports\n",
    "# from sklearn import metrics \n",
    "\n",
    "# # misc imports\n",
    "# import datetime\n",
    "# from dateutil.relativedelta import *\n",
    "# import mlflow\n",
    "\n",
    "# nlp imports\n",
    "from sklearn.feature_extraction.text import CountVectorizer\n",
    "from sklearn.naive_bayes import MultinomialNB\n",
    "# from sklearn.metrics import confusion_matrix, ConfusionMatrixDisplay\n",
    "# from emoji import demojize\n",
    "\n",
    "import json \n",
    "import pickle"
   ]
  },
  {
   "cell_type": "markdown",
   "id": "a6961026-7f76-4d7a-ac46-95464887207a",
   "metadata": {},
   "source": [
    "# Data Imports"
   ]
  },
  {
   "cell_type": "code",
   "execution_count": 2,
   "id": "2a160555-2640-4218-ad19-93aa4a7998b5",
   "metadata": {},
   "outputs": [
    {
     "data": {
      "text/html": [
       "<div>\n",
       "<style scoped>\n",
       "    .dataframe tbody tr th:only-of-type {\n",
       "        vertical-align: middle;\n",
       "    }\n",
       "\n",
       "    .dataframe tbody tr th {\n",
       "        vertical-align: top;\n",
       "    }\n",
       "\n",
       "    .dataframe thead th {\n",
       "        text-align: right;\n",
       "    }\n",
       "</style>\n",
       "<table border=\"1\" class=\"dataframe\">\n",
       "  <thead>\n",
       "    <tr style=\"text-align: right;\">\n",
       "      <th></th>\n",
       "      <th>author</th>\n",
       "      <th>created_utc</th>\n",
       "      <th>id</th>\n",
       "      <th>is_self</th>\n",
       "      <th>num_comments</th>\n",
       "      <th>score</th>\n",
       "      <th>selftext</th>\n",
       "      <th>title</th>\n",
       "      <th>upvote_ratio</th>\n",
       "      <th>created</th>\n",
       "      <th>subreddit</th>\n",
       "      <th>subreddit_stocks</th>\n",
       "      <th>title_char_len</th>\n",
       "      <th>title_word_len</th>\n",
       "      <th>score_pmaw</th>\n",
       "    </tr>\n",
       "  </thead>\n",
       "  <tbody>\n",
       "    <tr>\n",
       "      <th>0</th>\n",
       "      <td>cloudboyy</td>\n",
       "      <td>1627751015</td>\n",
       "      <td>ovatu6</td>\n",
       "      <td>False</td>\n",
       "      <td>1</td>\n",
       "      <td>1</td>\n",
       "      <td>NaN</td>\n",
       "      <td>Any thoughts on OSTK? It sold out of the wedge...</td>\n",
       "      <td>1.0</td>\n",
       "      <td>2021-08-01 01:03:35</td>\n",
       "      <td>wsb</td>\n",
       "      <td>0</td>\n",
       "      <td>208</td>\n",
       "      <td>40</td>\n",
       "      <td>1</td>\n",
       "    </tr>\n",
       "    <tr>\n",
       "      <th>1</th>\n",
       "      <td>itbc1info</td>\n",
       "      <td>1627751020</td>\n",
       "      <td>ovatwa</td>\n",
       "      <td>False</td>\n",
       "      <td>2</td>\n",
       "      <td>2</td>\n",
       "      <td>NaN</td>\n",
       "      <td>U.S. prosecutors charge Trevor Milton, founder...</td>\n",
       "      <td>1.0</td>\n",
       "      <td>2021-08-01 01:03:40</td>\n",
       "      <td>wsb</td>\n",
       "      <td>0</td>\n",
       "      <td>61</td>\n",
       "      <td>8</td>\n",
       "      <td>1</td>\n",
       "    </tr>\n",
       "    <tr>\n",
       "      <th>2</th>\n",
       "      <td>dadryp</td>\n",
       "      <td>1627751064</td>\n",
       "      <td>ovaudw</td>\n",
       "      <td>True</td>\n",
       "      <td>0</td>\n",
       "      <td>1</td>\n",
       "      <td>NaN</td>\n",
       "      <td>Stocks have been horrible for me 2021</td>\n",
       "      <td>1.0</td>\n",
       "      <td>2021-08-01 01:04:24</td>\n",
       "      <td>stocks</td>\n",
       "      <td>1</td>\n",
       "      <td>37</td>\n",
       "      <td>7</td>\n",
       "      <td>1</td>\n",
       "    </tr>\n",
       "    <tr>\n",
       "      <th>3</th>\n",
       "      <td>insta_man</td>\n",
       "      <td>1627751065</td>\n",
       "      <td>ovauee</td>\n",
       "      <td>True</td>\n",
       "      <td>40</td>\n",
       "      <td>7</td>\n",
       "      <td>Long story I started investing in the market w...</td>\n",
       "      <td>Want to get back into investing. Any tips?</td>\n",
       "      <td>1.0</td>\n",
       "      <td>2021-08-01 01:04:25</td>\n",
       "      <td>stocks</td>\n",
       "      <td>1</td>\n",
       "      <td>42</td>\n",
       "      <td>8</td>\n",
       "      <td>1</td>\n",
       "    </tr>\n",
       "    <tr>\n",
       "      <th>4</th>\n",
       "      <td>PenIslandGaylien</td>\n",
       "      <td>1627751202</td>\n",
       "      <td>ovavxl</td>\n",
       "      <td>True</td>\n",
       "      <td>1</td>\n",
       "      <td>2</td>\n",
       "      <td>So I already contributed 6k to my Roth in 2021...</td>\n",
       "      <td>Roth Income Limits</td>\n",
       "      <td>1.0</td>\n",
       "      <td>2021-08-01 01:06:42</td>\n",
       "      <td>wsb</td>\n",
       "      <td>0</td>\n",
       "      <td>18</td>\n",
       "      <td>3</td>\n",
       "      <td>1</td>\n",
       "    </tr>\n",
       "  </tbody>\n",
       "</table>\n",
       "</div>"
      ],
      "text/plain": [
       "             author  created_utc      id  is_self  num_comments  score  \\\n",
       "0         cloudboyy   1627751015  ovatu6    False             1      1   \n",
       "1         itbc1info   1627751020  ovatwa    False             2      2   \n",
       "2            dadryp   1627751064  ovaudw     True             0      1   \n",
       "3         insta_man   1627751065  ovauee     True            40      7   \n",
       "4  PenIslandGaylien   1627751202  ovavxl     True             1      2   \n",
       "\n",
       "                                            selftext  \\\n",
       "0                                                NaN   \n",
       "1                                                NaN   \n",
       "2                                                NaN   \n",
       "3  Long story I started investing in the market w...   \n",
       "4  So I already contributed 6k to my Roth in 2021...   \n",
       "\n",
       "                                               title  upvote_ratio  \\\n",
       "0  Any thoughts on OSTK? It sold out of the wedge...           1.0   \n",
       "1  U.S. prosecutors charge Trevor Milton, founder...           1.0   \n",
       "2              Stocks have been horrible for me 2021           1.0   \n",
       "3         Want to get back into investing. Any tips?           1.0   \n",
       "4                                 Roth Income Limits           1.0   \n",
       "\n",
       "              created subreddit  subreddit_stocks  title_char_len  \\\n",
       "0 2021-08-01 01:03:35       wsb                 0             208   \n",
       "1 2021-08-01 01:03:40       wsb                 0              61   \n",
       "2 2021-08-01 01:04:24    stocks                 1              37   \n",
       "3 2021-08-01 01:04:25    stocks                 1              42   \n",
       "4 2021-08-01 01:06:42       wsb                 0              18   \n",
       "\n",
       "   title_word_len  score_pmaw  \n",
       "0              40           1  \n",
       "1               8           1  \n",
       "2               7           1  \n",
       "3               8           1  \n",
       "4               3           1  "
      ]
     },
     "execution_count": 2,
     "metadata": {},
     "output_type": "execute_result"
    }
   ],
   "source": [
    "df = pd.read_csv('data/df_cleaned.csv') # importing data from saved csv file\n",
    "df['created'] = pd.to_datetime(df['created']) # convert the created column to a datetime column\n",
    "df.head() # displaying the top 5 row of the loaded dataframe"
   ]
  },
  {
   "cell_type": "markdown",
   "id": "5999e426-fe43-420a-8977-b230b9215c10",
   "metadata": {
    "tags": []
   },
   "source": [
    "# Model Setup"
   ]
  },
  {
   "cell_type": "markdown",
   "id": "4dc4f4e2-a174-4dfb-923d-d29b747fc49e",
   "metadata": {},
   "source": [
    "## Setting Features (X) and Target Variables (y)"
   ]
  },
  {
   "cell_type": "code",
   "execution_count": 3,
   "id": "c7aa1aa5-1de8-4e9b-8a31-81f50a33a692",
   "metadata": {},
   "outputs": [],
   "source": [
    "X = df[['title']]\n",
    "y = df['subreddit_stocks']"
   ]
  },
  {
   "cell_type": "markdown",
   "id": "c5ae6c97-7155-4f69-8238-1cd9462352c7",
   "metadata": {
    "tags": []
   },
   "source": [
    "# Modelling (CVEC + Multinomial NB | SMOTE Oversampling)"
   ]
  },
  {
   "cell_type": "code",
   "execution_count": 4,
   "id": "3763a92f-8db9-4477-97b3-d8a67bb5e879",
   "metadata": {},
   "outputs": [],
   "source": [
    "from imblearn.pipeline import Pipeline\n",
    "from imblearn.over_sampling import SMOTE\n",
    "\n",
    "model = Pipeline([('count_vectorizer',CountVectorizer()),\n",
    "                  ('SMOTE',SMOTE(n_jobs=-1,random_state=42)),\n",
    "                  ('multinomialNB',MultinomialNB())\n",
    "                 ])"
   ]
  },
  {
   "cell_type": "code",
   "execution_count": 5,
   "id": "8fbc3056-d3d9-446b-aa4f-12be1abdb791",
   "metadata": {},
   "outputs": [
    {
     "data": {
      "text/html": [
       "<style>#sk-container-id-1 {color: black;background-color: white;}#sk-container-id-1 pre{padding: 0;}#sk-container-id-1 div.sk-toggleable {background-color: white;}#sk-container-id-1 label.sk-toggleable__label {cursor: pointer;display: block;width: 100%;margin-bottom: 0;padding: 0.3em;box-sizing: border-box;text-align: center;}#sk-container-id-1 label.sk-toggleable__label-arrow:before {content: \"▸\";float: left;margin-right: 0.25em;color: #696969;}#sk-container-id-1 label.sk-toggleable__label-arrow:hover:before {color: black;}#sk-container-id-1 div.sk-estimator:hover label.sk-toggleable__label-arrow:before {color: black;}#sk-container-id-1 div.sk-toggleable__content {max-height: 0;max-width: 0;overflow: hidden;text-align: left;background-color: #f0f8ff;}#sk-container-id-1 div.sk-toggleable__content pre {margin: 0.2em;color: black;border-radius: 0.25em;background-color: #f0f8ff;}#sk-container-id-1 input.sk-toggleable__control:checked~div.sk-toggleable__content {max-height: 200px;max-width: 100%;overflow: auto;}#sk-container-id-1 input.sk-toggleable__control:checked~label.sk-toggleable__label-arrow:before {content: \"▾\";}#sk-container-id-1 div.sk-estimator input.sk-toggleable__control:checked~label.sk-toggleable__label {background-color: #d4ebff;}#sk-container-id-1 div.sk-label input.sk-toggleable__control:checked~label.sk-toggleable__label {background-color: #d4ebff;}#sk-container-id-1 input.sk-hidden--visually {border: 0;clip: rect(1px 1px 1px 1px);clip: rect(1px, 1px, 1px, 1px);height: 1px;margin: -1px;overflow: hidden;padding: 0;position: absolute;width: 1px;}#sk-container-id-1 div.sk-estimator {font-family: monospace;background-color: #f0f8ff;border: 1px dotted black;border-radius: 0.25em;box-sizing: border-box;margin-bottom: 0.5em;}#sk-container-id-1 div.sk-estimator:hover {background-color: #d4ebff;}#sk-container-id-1 div.sk-parallel-item::after {content: \"\";width: 100%;border-bottom: 1px solid gray;flex-grow: 1;}#sk-container-id-1 div.sk-label:hover label.sk-toggleable__label {background-color: #d4ebff;}#sk-container-id-1 div.sk-serial::before {content: \"\";position: absolute;border-left: 1px solid gray;box-sizing: border-box;top: 0;bottom: 0;left: 50%;z-index: 0;}#sk-container-id-1 div.sk-serial {display: flex;flex-direction: column;align-items: center;background-color: white;padding-right: 0.2em;padding-left: 0.2em;position: relative;}#sk-container-id-1 div.sk-item {position: relative;z-index: 1;}#sk-container-id-1 div.sk-parallel {display: flex;align-items: stretch;justify-content: center;background-color: white;position: relative;}#sk-container-id-1 div.sk-item::before, #sk-container-id-1 div.sk-parallel-item::before {content: \"\";position: absolute;border-left: 1px solid gray;box-sizing: border-box;top: 0;bottom: 0;left: 50%;z-index: -1;}#sk-container-id-1 div.sk-parallel-item {display: flex;flex-direction: column;z-index: 1;position: relative;background-color: white;}#sk-container-id-1 div.sk-parallel-item:first-child::after {align-self: flex-end;width: 50%;}#sk-container-id-1 div.sk-parallel-item:last-child::after {align-self: flex-start;width: 50%;}#sk-container-id-1 div.sk-parallel-item:only-child::after {width: 0;}#sk-container-id-1 div.sk-dashed-wrapped {border: 1px dashed gray;margin: 0 0.4em 0.5em 0.4em;box-sizing: border-box;padding-bottom: 0.4em;background-color: white;}#sk-container-id-1 div.sk-label label {font-family: monospace;font-weight: bold;display: inline-block;line-height: 1.2em;}#sk-container-id-1 div.sk-label-container {text-align: center;}#sk-container-id-1 div.sk-container {/* jupyter's `normalize.less` sets `[hidden] { display: none; }` but bootstrap.min.css set `[hidden] { display: none !important; }` so we also need the `!important` here to be able to override the default hidden behavior on the sphinx rendered scikit-learn.org. See: https://github.com/scikit-learn/scikit-learn/issues/21755 */display: inline-block !important;position: relative;}#sk-container-id-1 div.sk-text-repr-fallback {display: none;}</style><div id=\"sk-container-id-1\" class=\"sk-top-container\"><div class=\"sk-text-repr-fallback\"><pre>Pipeline(steps=[(&#x27;count_vectorizer&#x27;, CountVectorizer()),\n",
       "                (&#x27;SMOTE&#x27;, SMOTE(n_jobs=-1, random_state=42)),\n",
       "                (&#x27;multinomialNB&#x27;, MultinomialNB())])</pre><b>In a Jupyter environment, please rerun this cell to show the HTML representation or trust the notebook. <br />On GitHub, the HTML representation is unable to render, please try loading this page with nbviewer.org.</b></div><div class=\"sk-container\" hidden><div class=\"sk-item sk-dashed-wrapped\"><div class=\"sk-label-container\"><div class=\"sk-label sk-toggleable\"><input class=\"sk-toggleable__control sk-hidden--visually\" id=\"sk-estimator-id-1\" type=\"checkbox\" ><label for=\"sk-estimator-id-1\" class=\"sk-toggleable__label sk-toggleable__label-arrow\">Pipeline</label><div class=\"sk-toggleable__content\"><pre>Pipeline(steps=[(&#x27;count_vectorizer&#x27;, CountVectorizer()),\n",
       "                (&#x27;SMOTE&#x27;, SMOTE(n_jobs=-1, random_state=42)),\n",
       "                (&#x27;multinomialNB&#x27;, MultinomialNB())])</pre></div></div></div><div class=\"sk-serial\"><div class=\"sk-item\"><div class=\"sk-estimator sk-toggleable\"><input class=\"sk-toggleable__control sk-hidden--visually\" id=\"sk-estimator-id-2\" type=\"checkbox\" ><label for=\"sk-estimator-id-2\" class=\"sk-toggleable__label sk-toggleable__label-arrow\">CountVectorizer</label><div class=\"sk-toggleable__content\"><pre>CountVectorizer()</pre></div></div></div><div class=\"sk-item\"><div class=\"sk-estimator sk-toggleable\"><input class=\"sk-toggleable__control sk-hidden--visually\" id=\"sk-estimator-id-3\" type=\"checkbox\" ><label for=\"sk-estimator-id-3\" class=\"sk-toggleable__label sk-toggleable__label-arrow\">SMOTE</label><div class=\"sk-toggleable__content\"><pre>SMOTE(n_jobs=-1, random_state=42)</pre></div></div></div><div class=\"sk-item\"><div class=\"sk-estimator sk-toggleable\"><input class=\"sk-toggleable__control sk-hidden--visually\" id=\"sk-estimator-id-4\" type=\"checkbox\" ><label for=\"sk-estimator-id-4\" class=\"sk-toggleable__label sk-toggleable__label-arrow\">MultinomialNB</label><div class=\"sk-toggleable__content\"><pre>MultinomialNB()</pre></div></div></div></div></div></div></div>"
      ],
      "text/plain": [
       "Pipeline(steps=[('count_vectorizer', CountVectorizer()),\n",
       "                ('SMOTE', SMOTE(n_jobs=-1, random_state=42)),\n",
       "                ('multinomialNB', MultinomialNB())])"
      ]
     },
     "execution_count": 5,
     "metadata": {},
     "output_type": "execute_result"
    }
   ],
   "source": [
    "model.fit(X['title'],y)"
   ]
  },
  {
   "cell_type": "code",
   "execution_count": 8,
   "id": "59c7250d-fe02-4f73-894d-969bb0236711",
   "metadata": {},
   "outputs": [],
   "source": [
    "# save the model to disk\n",
    "filename = './deployment/model.sav'\n",
    "pickle.dump(model, open(filename, 'wb'))"
   ]
  },
  {
   "cell_type": "markdown",
   "id": "0255a2c2-6da6-4d69-b9c3-061cf90abdf8",
   "metadata": {},
   "source": [
    "# Checking Pipelines for Prediction with JSON"
   ]
  },
  {
   "cell_type": "code",
   "execution_count": 9,
   "id": "f034563d-ec23-4e07-bf64-f8bfba1effd3",
   "metadata": {},
   "outputs": [
    {
     "name": "stdout",
     "output_type": "stream",
     "text": [
      "{\"title\":\"Any thoughts on OSTK? It sold out of the wedge but financials look great to me. Annual sales almost = market cap, order numbers down but average order price is up. No company debt. Let me know what you think!\"}\n",
      "{\"title\":\"U.S. prosecutors charge Trevor Milton, founder of electric...\"}\n",
      "{\"title\":\"Stocks have been horrible for me 2021\"}\n",
      "{\"title\":\"Want to get back into investing. Any tips?\"}\n",
      "{\"title\":\"Roth Income Limits\"}\n",
      "{\"title\":\"Does dividend investing suck?\"}\n",
      "{\"title\":\"What happened to the Glory Days?\"}\n",
      "{\"title\":\"3 GOP Congressmen face ethics complaints for failing to disclose $22 million in stock trades\"}\n",
      "{\"title\":\"Let's not forget we Like the Stock and believe in the DD but let's also support our company with more than Buying and Holding. Take a Friend, your Wife, Your Child or A loved one to watch a Movie and Enjoy a Popcorn. \\ud83c\\udf7f #Apestrong \\ud83d\\udc8e\\ud83d\\ude4c\\ud83c\\udffe\\ud83e\\udd8d\\ud83d\\ude80\\ud83c\\udf15\"}\n",
      "{\"title\":\"BABA SHORT SQEEZE @ 160\"}\n",
      "\n"
     ]
    }
   ],
   "source": [
    "user_input_df = X.head(10) # getting the data for testing\n",
    "user_input = user_input_df.to_json(orient=\"records\", lines=True) # convert df to JSONL\n",
    "print(user_input) # displaying the JSONL"
   ]
  },
  {
   "cell_type": "code",
   "execution_count": 10,
   "id": "bc2eaf6e-0917-40b1-9b39-5def53a9b46b",
   "metadata": {},
   "outputs": [
    {
     "data": {
      "text/html": [
       "<div>\n",
       "<style scoped>\n",
       "    .dataframe tbody tr th:only-of-type {\n",
       "        vertical-align: middle;\n",
       "    }\n",
       "\n",
       "    .dataframe tbody tr th {\n",
       "        vertical-align: top;\n",
       "    }\n",
       "\n",
       "    .dataframe thead th {\n",
       "        text-align: right;\n",
       "    }\n",
       "</style>\n",
       "<table border=\"1\" class=\"dataframe\">\n",
       "  <thead>\n",
       "    <tr style=\"text-align: right;\">\n",
       "      <th></th>\n",
       "      <th>title</th>\n",
       "    </tr>\n",
       "  </thead>\n",
       "  <tbody>\n",
       "    <tr>\n",
       "      <th>0</th>\n",
       "      <td>Any thoughts on OSTK? It sold out of the wedge...</td>\n",
       "    </tr>\n",
       "    <tr>\n",
       "      <th>1</th>\n",
       "      <td>U.S. prosecutors charge Trevor Milton, founder...</td>\n",
       "    </tr>\n",
       "    <tr>\n",
       "      <th>2</th>\n",
       "      <td>Stocks have been horrible for me 2021</td>\n",
       "    </tr>\n",
       "    <tr>\n",
       "      <th>3</th>\n",
       "      <td>Want to get back into investing. Any tips?</td>\n",
       "    </tr>\n",
       "    <tr>\n",
       "      <th>4</th>\n",
       "      <td>Roth Income Limits</td>\n",
       "    </tr>\n",
       "    <tr>\n",
       "      <th>5</th>\n",
       "      <td>Does dividend investing suck?</td>\n",
       "    </tr>\n",
       "    <tr>\n",
       "      <th>6</th>\n",
       "      <td>What happened to the Glory Days?</td>\n",
       "    </tr>\n",
       "    <tr>\n",
       "      <th>7</th>\n",
       "      <td>3 GOP Congressmen face ethics complaints for f...</td>\n",
       "    </tr>\n",
       "    <tr>\n",
       "      <th>8</th>\n",
       "      <td>Let's not forget we Like the Stock and believe...</td>\n",
       "    </tr>\n",
       "    <tr>\n",
       "      <th>9</th>\n",
       "      <td>BABA SHORT SQEEZE @ 160</td>\n",
       "    </tr>\n",
       "  </tbody>\n",
       "</table>\n",
       "</div>"
      ],
      "text/plain": [
       "                                               title\n",
       "0  Any thoughts on OSTK? It sold out of the wedge...\n",
       "1  U.S. prosecutors charge Trevor Milton, founder...\n",
       "2              Stocks have been horrible for me 2021\n",
       "3         Want to get back into investing. Any tips?\n",
       "4                                 Roth Income Limits\n",
       "5                      Does dividend investing suck?\n",
       "6                   What happened to the Glory Days?\n",
       "7  3 GOP Congressmen face ethics complaints for f...\n",
       "8  Let's not forget we Like the Stock and believe...\n",
       "9                            BABA SHORT SQEEZE @ 160"
      ]
     },
     "execution_count": 10,
     "metadata": {},
     "output_type": "execute_result"
    }
   ],
   "source": [
    "# Convert user inputs to pandas dataframe\n",
    "df_schema = {\"tilte\":object} # To ensure the columns get the correct datatype\n",
    "user_input_df = pd.read_json(user_input, lines=True, dtype=df_schema) # Convert JSONL to dataframe\n",
    "user_input_df # display the dataframe"
   ]
  },
  {
   "cell_type": "code",
   "execution_count": 11,
   "id": "4f0e28b5-2ee3-45a6-a10f-da75f1bd2e38",
   "metadata": {},
   "outputs": [
    {
     "data": {
      "text/plain": [
       "array([0, 0, 1, 1, 1, 1, 0, 0, 0, 0], dtype=int64)"
      ]
     },
     "execution_count": 11,
     "metadata": {},
     "output_type": "execute_result"
    }
   ],
   "source": [
    "model.predict(user_input_df['title']) # predicting user input"
   ]
  },
  {
   "cell_type": "code",
   "execution_count": 12,
   "id": "7d800eb3-f491-4cf2-ae3e-eb886b0040c4",
   "metadata": {},
   "outputs": [
    {
     "data": {
      "text/plain": [
       "array([0, 0, 1, 1, 1, 1, 0, 0, 0, 0], dtype=int64)"
      ]
     },
     "execution_count": 12,
     "metadata": {},
     "output_type": "execute_result"
    }
   ],
   "source": [
    "model.predict(X.head(10)['title']) # checking against prediction directly from dataframe\n",
    "# prediction is the same for both, no loss of info by converting to JSONL and back"
   ]
  },
  {
   "cell_type": "markdown",
   "id": "d36ae24b-7a55-49dc-85ad-c8d5100ac4c4",
   "metadata": {},
   "source": [
    "# Create an inference.py file"
   ]
  },
  {
   "cell_type": "code",
   "execution_count": 14,
   "id": "ee71e8f6-58ce-4eba-bd55-644a3309fd3e",
   "metadata": {},
   "outputs": [
    {
     "name": "stdout",
     "output_type": "stream",
     "text": [
      "Overwriting inference.py\n"
     ]
    }
   ],
   "source": [
    "%%writefile inference.py\n",
    "from flask import Flask, request\n",
    "import pandas as pd\n",
    "import os\n",
    "import pickle\n",
    "import json\n",
    "\n",
    "# Step 2: Instantiate the Flask API\n",
    "api = Flask('ModelEndpoint')\n",
    "\n",
    "# Step 3: Load the model\n",
    "model = pickle.load(open('./deployment/model.sav','rb'))\n",
    "\n",
    "# Step 4: Create the routes\n",
    "## route 1: Health check. Just return success if the API is running\n",
    "@api.route('/')\n",
    "def home():\n",
    "    # return a simple string\n",
    "    return {\"message\": \"Hi there!\", \"success\": True}, 200\n",
    "\n",
    "# route 2: accept input data\n",
    "# Post method is used when we want to receive some data from the user\n",
    "@api.route('/predict', methods = ['POST'])\n",
    "def make_predictions():\n",
    "    # Get the data sent over the API\n",
    "    user_input = request.get_json(force=True)\n",
    "    \n",
    "    # Convert user inputs to pandas dataframe\n",
    "    df_schema = {\"post_title\":object} # To ensure the columns get the correct datatype\n",
    "    user_input_df = pd.read_json(user_input, lines=True, dtype=df_schema) # Convert JSONL to dataframe\n",
    "    \n",
    "    # Run predictions and convert to list\n",
    "    predictions = model.predict(user_input_df['title']).tolist()\n",
    "    \n",
    "    return {'predictions': predictions}\n",
    "    \n",
    "\n",
    "# Step 5: Main function that actually runs the API!\n",
    "if __name__ == '__main__':\n",
    "    api.run(host='0.0.0.0', \n",
    "            debug=True, # Debug=True ensures any changes to inference.py automatically updates the running API\n",
    "            port=int(os.environ.get(\"PORT\", 8080))\n",
    "           ) "
   ]
  },
  {
   "cell_type": "markdown",
   "id": "07093e33-50ae-40b6-9f76-0ba28b6ae7e0",
   "metadata": {},
   "source": [
    "# Test the API\n",
    "- To test out if our API is working, we first need to run the API code `inference.py`\n",
    "- Open a new terminal window and navigate to this `solution-code` directory. You should find the `inference.py` file that we just created here.\n",
    "- Run the file as a normal python file: `python inference.py`\n",
    "- Now your API is running on your local computer and is ready to accept input data at `http://localhost:8080` URL\n",
    "- We can interact with any route in the API simply by posting a request to that route. For example, type `http://localhost:8080/` in your browser and see what you get!\n",
    "- To get predictions, we need to post our input data to the `/predict` route which gets appended at the end of the URL. So the URL will become `http://localhost:8080/predict`\n",
    "- Let's load the same data we used to train the model and send the first 5 rows to the API for predictions"
   ]
  },
  {
   "cell_type": "code",
   "execution_count": 15,
   "id": "d95bb372-93c0-425e-bc3c-1237e0aee828",
   "metadata": {},
   "outputs": [],
   "source": [
    "user_input_df = X.tail(10) # getting the data for testing\n",
    "user_input = user_input_df.to_json(orient=\"records\", lines=True) # convert df to JSONL\n",
    "# print(user_input) # displaying the JSONL"
   ]
  },
  {
   "cell_type": "code",
   "execution_count": 17,
   "id": "fbdf4dcf-8282-4262-97e6-11d440339bad",
   "metadata": {},
   "outputs": [
    {
     "name": "stdout",
     "output_type": "stream",
     "text": [
      "{'predictions': [1, 1, 1, 0, 1, 0, 1, 0, 0, 1]}\n"
     ]
    }
   ],
   "source": [
    "# Send the JSONL data as request to the API and print the response\n",
    "import requests\n",
    "import json \n",
    "\n",
    "api_url = 'http://192.168.1.142:8080'\n",
    "api_route = '/predict'\n",
    "\n",
    "response = requests.post(f'{api_url}{api_route}',\n",
    "                         json=user_input,\n",
    "                        )\n",
    "response\n",
    "\n",
    "predictions = response.json()\n",
    "print(predictions)"
   ]
  },
  {
   "cell_type": "code",
   "execution_count": 18,
   "id": "f3530f46-4814-4227-bf6f-6685fe0a996b",
   "metadata": {},
   "outputs": [
    {
     "data": {
      "text/plain": [
       "array([1, 1, 1, 0, 1, 0, 1, 0, 0, 1], dtype=int64)"
      ]
     },
     "execution_count": 18,
     "metadata": {},
     "output_type": "execute_result"
    }
   ],
   "source": [
    "model.predict(X.tail(10)['title']) # checking against prediction directly from dataframe\n",
    "# prediction is the same for both, no loss of info when getting predictions from the flask api"
   ]
  },
  {
   "cell_type": "markdown",
   "id": "cd728b96-17f3-4cdf-9496-afe155f19355",
   "metadata": {},
   "source": [
    "# Creating Dockerfile"
   ]
  },
  {
   "cell_type": "code",
   "execution_count": 24,
   "id": "925bf422-44ca-43c5-9996-309ca6338c36",
   "metadata": {},
   "outputs": [
    {
     "name": "stdout",
     "output_type": "stream",
     "text": [
      "Overwriting Dockerfile\n"
     ]
    }
   ],
   "source": [
    "%%writefile Dockerfile\n",
    "# Use the official lightweight Python image from\n",
    "# https://hub.docker.com/_/python\n",
    "FROM python:3.8-slim\n",
    "\n",
    "# Copy all the files needed for the app to work\n",
    "COPY inference.py .\n",
    "COPY deployment/ ./deployment\n",
    "\n",
    "# Install all the necessary libraries\n",
    "RUN pip install -r ./deployment/requirements.txt\n",
    "\n",
    "# Run the API!\n",
    "CMD python inference.py"
   ]
  },
  {
   "cell_type": "code",
   "execution_count": 25,
   "id": "19e03012-95df-49bd-a5c2-47f3a24b0e5e",
   "metadata": {},
   "outputs": [
    {
     "name": "stdout",
     "output_type": "stream",
     "text": [
      "Overwriting deployment/requirements.txt\n"
     ]
    }
   ],
   "source": [
    "%%writefile deployment/requirements.txt\n",
    "pandas\n",
    "flask\n",
    "mlflow-skinny\n",
    "scikit-learn==1.1.1\n",
    "imblearn"
   ]
  },
  {
   "cell_type": "markdown",
   "id": "93088638-76a3-4cb1-b0e3-e1df6e44e04e",
   "metadata": {},
   "source": [
    "## Testing Dockerfile from Google Cloud Run API"
   ]
  },
  {
   "cell_type": "code",
   "execution_count": 41,
   "id": "6e59e279-54c8-492a-92b2-3835b589a8ea",
   "metadata": {},
   "outputs": [
    {
     "name": "stdout",
     "output_type": "stream",
     "text": [
      "{\"title\":\"What are your thoughts on $SFT ? First post here\"}\n",
      "{\"title\":\"Anyone notice how AH ceased Friday on the Gstop?\"}\n",
      "{\"title\":\"Financial Advisors..\"}\n",
      "{\"title\":\"Bullish on DoorDash\"}\n",
      "{\"title\":\"What you think about Baba $\"}\n",
      "{\"title\":\"I LOST EVERYTHING Lost over 10k on the AMD crash easier this year. Pulled my money out and went on with my life. I kept $500 in there waiting for the market to go regard again and here we are baby let\\u2019s ride!\"}\n",
      "{\"title\":\"Current market conditions\"}\n",
      "{\"title\":\"Why y'all worried?\"}\n",
      "{\"title\":\"JPOW and the fed trying to fix inflation and prevent the economy from going into a recession at the same time\"}\n",
      "{\"title\":\"Hey guys a question\"}\n",
      "\n"
     ]
    }
   ],
   "source": [
    "# Extract 5 lines from X to send to the API for predictions\n",
    "# We'll convert the pandas dataframe to a JSON Lines (JSONL) object so it can be sent to the API\n",
    "# We cannot directly send a dataframe over the internet. We can only send JSON over the internet\n",
    "\n",
    "user_input_df = X.tail(10)\n",
    "user_input = user_input_df.to_json(orient=\"records\", lines=True) # convert df to JSONL\n",
    "print(user_input)"
   ]
  },
  {
   "cell_type": "code",
   "execution_count": 42,
   "id": "f298df9c-c092-4a1e-8399-5d269f5b1493",
   "metadata": {},
   "outputs": [
    {
     "name": "stdout",
     "output_type": "stream",
     "text": [
      "{'predictions': [1, 1, 1, 0, 1, 0, 1, 0, 0, 1]}\n"
     ]
    }
   ],
   "source": [
    "# Send the JSONL data as request to the API and print the response\n",
    "import requests\n",
    "\n",
    "api_url = 'https://subreddit-classification-runrqp42la-as.a.run.app'\n",
    "api_route = '/predict'\n",
    "\n",
    "response = requests.post(f'{api_url}{api_route}', json=user_input)\n",
    "predictions = response.json()\n",
    "\n",
    "print(predictions)"
   ]
  },
  {
   "cell_type": "code",
   "execution_count": 43,
   "id": "8163db3c-440f-4926-8447-d88d98aaca0d",
   "metadata": {},
   "outputs": [
    {
     "data": {
      "text/plain": [
       "array([1, 1, 1, 0, 1, 0, 1, 0, 0, 1], dtype=int64)"
      ]
     },
     "execution_count": 43,
     "metadata": {},
     "output_type": "execute_result"
    }
   ],
   "source": [
    "model.predict(X.tail(10)['title']) # checking against prediction directly from dataframe\n",
    "# prediction is the same for both, no loss of info when getting predictions from the GCloud Run api"
   ]
  },
  {
   "cell_type": "markdown",
   "id": "804ea01d-44de-48c7-9ff3-78cb143402f4",
   "metadata": {},
   "source": [
    "# Creating Streamlit App"
   ]
  },
  {
   "cell_type": "code",
   "execution_count": 63,
   "id": "3f57c9c0-37a6-4d35-8e57-a566135f5178",
   "metadata": {},
   "outputs": [
    {
     "name": "stdout",
     "output_type": "stream",
     "text": [
      "Overwriting streamlit_app.py\n"
     ]
    }
   ],
   "source": [
    "%%writefile streamlit_app.py\n",
    "import streamlit as st\n",
    "import requests\n",
    "import json\n",
    "\n",
    "# Title of the page\n",
    "st.title(\"📈 r/Stocks vs 💎🤲 r/WallStreetBets Classification\")\n",
    "st.header(\"This app will predict if a given post comes from r/Stocks or r/WSB, given its post title\")\n",
    "st.caption(\"For more details, please visit https://github.com/gilbertsg/stocks_subreddit_analysis\")\n",
    "st.header(\"\")\n",
    "st.subheader(\"You may want to try the following stereotypical sentences from each subreddit:\")\n",
    "st.caption('- typical r/Stocks sentence: \"I am learning to invest in index funds to get good dividends in the long term\"')\n",
    "st.caption('- typical r/WallStreetBets sentence: \"Dumping all my life savings to GME tonight. GME TO THE MOON 🚀🚀🚀\"')\n",
    "st.header(\"\")"
   ]
  },
  {
   "cell_type": "markdown",
   "id": "11b7eed4-754f-4866-a112-3ec587bc002a",
   "metadata": {},
   "source": [
    "## Testing  the streamlit app\n",
    "1. Open a new terminal window and navigate to this directory. You should find the `streamlit_app.py` file that we just created here.\n",
    "1. Run: `streamlit run streamlit_app.py`\n",
    "\n",
    "Done! Your streamlit app is now running and you can access it on your browser at the URL: http://localhost:8501\n",
    "\n",
    "- Let's now add 2 variables `gre` and `gpa` and get their values from the user input in the UI\n",
    "- We can use the `-a` flag in `%%writefile` to append lines to the same file instead of overwriting it"
   ]
  },
  {
   "cell_type": "markdown",
   "id": "72c696f5-6b3b-4eef-8120-5a118aa3c9ce",
   "metadata": {},
   "source": [
    "Adding inputs"
   ]
  },
  {
   "cell_type": "code",
   "execution_count": 64,
   "id": "0e7fdc51-96b8-4e54-acc8-d26586423558",
   "metadata": {},
   "outputs": [
    {
     "name": "stdout",
     "output_type": "stream",
     "text": [
      "Appending to streamlit_app.py\n"
     ]
    }
   ],
   "source": [
    "%%writefile -a streamlit_app.py\n",
    "\n",
    "# Get user inputs\n",
    "title = st.text_area(\"📚 Please input the reddit post title:\")\n",
    "\n",
    "# Display the inputs\n",
    "user_input = {\"title\":title}\n",
    "st.write(\"User input:\")\n",
    "st.write(user_input)"
   ]
  },
  {
   "cell_type": "markdown",
   "id": "354a30e9-ff6a-47f1-a31f-a7d2450908e8",
   "metadata": {},
   "source": [
    "Adding output"
   ]
  },
  {
   "cell_type": "code",
   "execution_count": 65,
   "id": "1c088835-d76a-4e12-b70a-ae26d81ceeec",
   "metadata": {},
   "outputs": [
    {
     "name": "stdout",
     "output_type": "stream",
     "text": [
      "Appending to streamlit_app.py\n"
     ]
    }
   ],
   "source": [
    "%%writefile -a streamlit_app.py\n",
    "\n",
    "# Code to post the user inputs to the API and get the predictions\n",
    "# Paste the URL to your GCP Cloud Run API here!\n",
    "api_url = 'https://subreddit-classification-runrqp42la-as.a.run.app'\n",
    "api_route = '/predict'\n",
    "\n",
    "response = requests.post(f'{api_url}{api_route}', json=json.dumps(user_input)) # json.dumps() converts dict to JSON\n",
    "predictions = response.json()\n",
    "\n",
    "# Add a submit button\n",
    "if st.button(\"Submit\"): \n",
    "    st.write(f\"Prediction: {predictions['predictions'][0]}\")\n",
    "    \n",
    "st.caption(\"1 indicates that the post is predicted to be from r/Stocks\")\n",
    "st.caption(\"0 indicates that the post is predicted to be from r/WallStreetBets\")"
   ]
  },
  {
   "cell_type": "code",
   "execution_count": null,
   "id": "35e563e5-2477-4112-a258-90cde3846aab",
   "metadata": {},
   "outputs": [],
   "source": []
  }
 ],
 "metadata": {
  "kernelspec": {
   "display_name": "Python 3 (ipykernel)",
   "language": "python",
   "name": "python3"
  },
  "language_info": {
   "codemirror_mode": {
    "name": "ipython",
    "version": 3
   },
   "file_extension": ".py",
   "mimetype": "text/x-python",
   "name": "python",
   "nbconvert_exporter": "python",
   "pygments_lexer": "ipython3",
   "version": "3.9.13"
  },
  "toc-autonumbering": true,
  "toc-showmarkdowntxt": false
 },
 "nbformat": 4,
 "nbformat_minor": 5
}
