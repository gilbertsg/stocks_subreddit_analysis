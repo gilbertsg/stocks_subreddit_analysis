{
 "cells": [
  {
   "cell_type": "markdown",
   "id": "59f3de8b-6e30-42e6-baee-2f38f15b5a4f",
   "metadata": {},
   "source": [
    "# Imports and Settings"
   ]
  },
  {
   "cell_type": "code",
   "execution_count": 1,
   "id": "e48cc389-44ec-4f4b-8bb2-b1b69d104522",
   "metadata": {},
   "outputs": [],
   "source": [
    "## library imports\n",
    "\n",
    "# data processing imports\n",
    "import pandas as pd\n",
    "import numpy as np\n",
    "\n",
    "# plotting imports\n",
    "import matplotlib.pyplot as plt\n",
    "import seaborn as sns\n",
    "\n",
    "# modelling imports\n",
    "from sklearn.model_selection import train_test_split\n",
    "import imblearn\n",
    "\n",
    "# metric imports\n",
    "from sklearn import metrics \n",
    "\n",
    "# misc imports\n",
    "import datetime\n",
    "from dateutil.relativedelta import *\n",
    "import mlflow\n",
    "\n",
    "# nlp imports\n",
    "from sklearn.feature_extraction.text import CountVectorizer, TfidfVectorizer\n",
    "from sklearn.naive_bayes import MultinomialNB\n",
    "from sklearn.metrics import confusion_matrix, ConfusionMatrixDisplay\n",
    "from emoji import demojize"
   ]
  },
  {
   "cell_type": "code",
   "execution_count": 2,
   "id": "f0ff3ffe-5e67-4d92-8250-6faa64bb0c77",
   "metadata": {},
   "outputs": [],
   "source": [
    "## Settings\n",
    "sns.set_style(\"darkgrid\") # setting seaborn style\n",
    "\n",
    "# enable inline plotting\n",
    "%matplotlib inline \n",
    "\n",
    "pd.set_option('display.max_columns', None) # disable column overflow in pandas display, this is toenable us to display all the columns"
   ]
  },
  {
   "cell_type": "code",
   "execution_count": 3,
   "id": "d2d4e838-06ee-49c5-b755-ae89e96b04c9",
   "metadata": {},
   "outputs": [],
   "source": [
    "# presentation_plotting = False # don't comment this part out\n",
    "\n",
    "# # Settings for presentation plotting\n",
    "\n",
    "# sns.set(style=\"darkgrid\", context=\"talk\", palette=\"Set2\")\n",
    "\n",
    "# sns.color_palette(\"pastel\")\n",
    "\n",
    "# plt.rcParams.update({\"axes.facecolor\":'#10131a', \n",
    "#                      \"figure.facecolor\":'#1b212c'})\n",
    "\n",
    "# textcolor = 'white'\n",
    "# plt.rcParams.update({\"text.color\":textcolor, \n",
    "#                      \"axes.labelcolor\":textcolor,\n",
    "#                      \"xtick.color\":textcolor,\n",
    "#                      \"ytick.color\":textcolor})\n",
    "\n",
    "\n",
    "# plt.rcParams.update({\"grid.linewidth\":0.5, \n",
    "#                      \"grid.alpha\":0.5})\n",
    "# plt.rcParams[\"figure.figsize\"] = (12, 9)\n",
    "\n",
    "# presentation_plotting = True\n",
    "\n",
    "\n",
    "# # commented out for notebook setting"
   ]
  },
  {
   "cell_type": "markdown",
   "id": "a6961026-7f76-4d7a-ac46-95464887207a",
   "metadata": {},
   "source": [
    "# Data Imports"
   ]
  },
  {
   "cell_type": "code",
   "execution_count": 4,
   "id": "2a160555-2640-4218-ad19-93aa4a7998b5",
   "metadata": {},
   "outputs": [
    {
     "data": {
      "text/html": [
       "<div>\n",
       "<style scoped>\n",
       "    .dataframe tbody tr th:only-of-type {\n",
       "        vertical-align: middle;\n",
       "    }\n",
       "\n",
       "    .dataframe tbody tr th {\n",
       "        vertical-align: top;\n",
       "    }\n",
       "\n",
       "    .dataframe thead th {\n",
       "        text-align: right;\n",
       "    }\n",
       "</style>\n",
       "<table border=\"1\" class=\"dataframe\">\n",
       "  <thead>\n",
       "    <tr style=\"text-align: right;\">\n",
       "      <th></th>\n",
       "      <th>author</th>\n",
       "      <th>created_utc</th>\n",
       "      <th>id</th>\n",
       "      <th>is_self</th>\n",
       "      <th>num_comments</th>\n",
       "      <th>score</th>\n",
       "      <th>selftext</th>\n",
       "      <th>title</th>\n",
       "      <th>upvote_ratio</th>\n",
       "      <th>created</th>\n",
       "      <th>subreddit</th>\n",
       "      <th>subreddit_stocks</th>\n",
       "      <th>title_char_len</th>\n",
       "      <th>title_word_len</th>\n",
       "      <th>score_pmaw</th>\n",
       "    </tr>\n",
       "  </thead>\n",
       "  <tbody>\n",
       "    <tr>\n",
       "      <th>0</th>\n",
       "      <td>cloudboyy</td>\n",
       "      <td>1627751015</td>\n",
       "      <td>ovatu6</td>\n",
       "      <td>False</td>\n",
       "      <td>1</td>\n",
       "      <td>1</td>\n",
       "      <td>NaN</td>\n",
       "      <td>Any thoughts on OSTK? It sold out of the wedge...</td>\n",
       "      <td>1.0</td>\n",
       "      <td>2021-08-01 01:03:35</td>\n",
       "      <td>wsb</td>\n",
       "      <td>0</td>\n",
       "      <td>208</td>\n",
       "      <td>40</td>\n",
       "      <td>1</td>\n",
       "    </tr>\n",
       "    <tr>\n",
       "      <th>1</th>\n",
       "      <td>itbc1info</td>\n",
       "      <td>1627751020</td>\n",
       "      <td>ovatwa</td>\n",
       "      <td>False</td>\n",
       "      <td>2</td>\n",
       "      <td>2</td>\n",
       "      <td>NaN</td>\n",
       "      <td>U.S. prosecutors charge Trevor Milton, founder...</td>\n",
       "      <td>1.0</td>\n",
       "      <td>2021-08-01 01:03:40</td>\n",
       "      <td>wsb</td>\n",
       "      <td>0</td>\n",
       "      <td>61</td>\n",
       "      <td>8</td>\n",
       "      <td>1</td>\n",
       "    </tr>\n",
       "    <tr>\n",
       "      <th>2</th>\n",
       "      <td>dadryp</td>\n",
       "      <td>1627751064</td>\n",
       "      <td>ovaudw</td>\n",
       "      <td>True</td>\n",
       "      <td>0</td>\n",
       "      <td>1</td>\n",
       "      <td>NaN</td>\n",
       "      <td>Stocks have been horrible for me 2021</td>\n",
       "      <td>1.0</td>\n",
       "      <td>2021-08-01 01:04:24</td>\n",
       "      <td>stocks</td>\n",
       "      <td>1</td>\n",
       "      <td>37</td>\n",
       "      <td>7</td>\n",
       "      <td>1</td>\n",
       "    </tr>\n",
       "    <tr>\n",
       "      <th>3</th>\n",
       "      <td>insta_man</td>\n",
       "      <td>1627751065</td>\n",
       "      <td>ovauee</td>\n",
       "      <td>True</td>\n",
       "      <td>40</td>\n",
       "      <td>7</td>\n",
       "      <td>Long story I started investing in the market w...</td>\n",
       "      <td>Want to get back into investing. Any tips?</td>\n",
       "      <td>1.0</td>\n",
       "      <td>2021-08-01 01:04:25</td>\n",
       "      <td>stocks</td>\n",
       "      <td>1</td>\n",
       "      <td>42</td>\n",
       "      <td>8</td>\n",
       "      <td>1</td>\n",
       "    </tr>\n",
       "    <tr>\n",
       "      <th>4</th>\n",
       "      <td>PenIslandGaylien</td>\n",
       "      <td>1627751202</td>\n",
       "      <td>ovavxl</td>\n",
       "      <td>True</td>\n",
       "      <td>1</td>\n",
       "      <td>2</td>\n",
       "      <td>So I already contributed 6k to my Roth in 2021...</td>\n",
       "      <td>Roth Income Limits</td>\n",
       "      <td>1.0</td>\n",
       "      <td>2021-08-01 01:06:42</td>\n",
       "      <td>wsb</td>\n",
       "      <td>0</td>\n",
       "      <td>18</td>\n",
       "      <td>3</td>\n",
       "      <td>1</td>\n",
       "    </tr>\n",
       "  </tbody>\n",
       "</table>\n",
       "</div>"
      ],
      "text/plain": [
       "             author  created_utc      id  is_self  num_comments  score  \\\n",
       "0         cloudboyy   1627751015  ovatu6    False             1      1   \n",
       "1         itbc1info   1627751020  ovatwa    False             2      2   \n",
       "2            dadryp   1627751064  ovaudw     True             0      1   \n",
       "3         insta_man   1627751065  ovauee     True            40      7   \n",
       "4  PenIslandGaylien   1627751202  ovavxl     True             1      2   \n",
       "\n",
       "                                            selftext  \\\n",
       "0                                                NaN   \n",
       "1                                                NaN   \n",
       "2                                                NaN   \n",
       "3  Long story I started investing in the market w...   \n",
       "4  So I already contributed 6k to my Roth in 2021...   \n",
       "\n",
       "                                               title  upvote_ratio  \\\n",
       "0  Any thoughts on OSTK? It sold out of the wedge...           1.0   \n",
       "1  U.S. prosecutors charge Trevor Milton, founder...           1.0   \n",
       "2              Stocks have been horrible for me 2021           1.0   \n",
       "3         Want to get back into investing. Any tips?           1.0   \n",
       "4                                 Roth Income Limits           1.0   \n",
       "\n",
       "              created subreddit  subreddit_stocks  title_char_len  \\\n",
       "0 2021-08-01 01:03:35       wsb                 0             208   \n",
       "1 2021-08-01 01:03:40       wsb                 0              61   \n",
       "2 2021-08-01 01:04:24    stocks                 1              37   \n",
       "3 2021-08-01 01:04:25    stocks                 1              42   \n",
       "4 2021-08-01 01:06:42       wsb                 0              18   \n",
       "\n",
       "   title_word_len  score_pmaw  \n",
       "0              40           1  \n",
       "1               8           1  \n",
       "2               7           1  \n",
       "3               8           1  \n",
       "4               3           1  "
      ]
     },
     "execution_count": 4,
     "metadata": {},
     "output_type": "execute_result"
    }
   ],
   "source": [
    "df = pd.read_csv('data/df_cleaned.csv') # importing data from saved csv file\n",
    "df['created'] = pd.to_datetime(df['created']) # convert the created column to a datetime column\n",
    "df.head() # displaying the top 5 row of the loaded dataframe"
   ]
  },
  {
   "cell_type": "markdown",
   "id": "5999e426-fe43-420a-8977-b230b9215c10",
   "metadata": {
    "tags": []
   },
   "source": [
    "# Model Setup"
   ]
  },
  {
   "cell_type": "markdown",
   "id": "4dc4f4e2-a174-4dfb-923d-d29b747fc49e",
   "metadata": {},
   "source": [
    "## Setting Features (X) and Target Variables (y)"
   ]
  },
  {
   "cell_type": "code",
   "execution_count": 84,
   "id": "c7aa1aa5-1de8-4e9b-8a31-81f50a33a692",
   "metadata": {},
   "outputs": [],
   "source": [
    "X = df['title']\n",
    "y = df['subreddit_stocks']"
   ]
  },
  {
   "cell_type": "markdown",
   "id": "c5ae6c97-7155-4f69-8238-1cd9462352c7",
   "metadata": {
    "tags": []
   },
   "source": [
    "# Modelling (CVEC + Multinomial NB | SMOTE Oversampling)"
   ]
  },
  {
   "cell_type": "code",
   "execution_count": 85,
   "id": "3763a92f-8db9-4477-97b3-d8a67bb5e879",
   "metadata": {},
   "outputs": [],
   "source": [
    "from imblearn.pipeline import Pipeline\n",
    "from imblearn.over_sampling import SMOTE\n",
    "\n",
    "model = Pipeline([('count_vectorizer',CountVectorizer()),\n",
    "                  ('SMOTE',SMOTE(n_jobs=-1,random_state=42)),\n",
    "                  ('multinomialNB',MultinomialNB())\n",
    "                 ])"
   ]
  },
  {
   "cell_type": "code",
   "execution_count": 86,
   "id": "8fbc3056-d3d9-446b-aa4f-12be1abdb791",
   "metadata": {},
   "outputs": [
    {
     "data": {
      "text/html": [
       "<style>#sk-container-id-2 {color: black;background-color: white;}#sk-container-id-2 pre{padding: 0;}#sk-container-id-2 div.sk-toggleable {background-color: white;}#sk-container-id-2 label.sk-toggleable__label {cursor: pointer;display: block;width: 100%;margin-bottom: 0;padding: 0.3em;box-sizing: border-box;text-align: center;}#sk-container-id-2 label.sk-toggleable__label-arrow:before {content: \"▸\";float: left;margin-right: 0.25em;color: #696969;}#sk-container-id-2 label.sk-toggleable__label-arrow:hover:before {color: black;}#sk-container-id-2 div.sk-estimator:hover label.sk-toggleable__label-arrow:before {color: black;}#sk-container-id-2 div.sk-toggleable__content {max-height: 0;max-width: 0;overflow: hidden;text-align: left;background-color: #f0f8ff;}#sk-container-id-2 div.sk-toggleable__content pre {margin: 0.2em;color: black;border-radius: 0.25em;background-color: #f0f8ff;}#sk-container-id-2 input.sk-toggleable__control:checked~div.sk-toggleable__content {max-height: 200px;max-width: 100%;overflow: auto;}#sk-container-id-2 input.sk-toggleable__control:checked~label.sk-toggleable__label-arrow:before {content: \"▾\";}#sk-container-id-2 div.sk-estimator input.sk-toggleable__control:checked~label.sk-toggleable__label {background-color: #d4ebff;}#sk-container-id-2 div.sk-label input.sk-toggleable__control:checked~label.sk-toggleable__label {background-color: #d4ebff;}#sk-container-id-2 input.sk-hidden--visually {border: 0;clip: rect(1px 1px 1px 1px);clip: rect(1px, 1px, 1px, 1px);height: 1px;margin: -1px;overflow: hidden;padding: 0;position: absolute;width: 1px;}#sk-container-id-2 div.sk-estimator {font-family: monospace;background-color: #f0f8ff;border: 1px dotted black;border-radius: 0.25em;box-sizing: border-box;margin-bottom: 0.5em;}#sk-container-id-2 div.sk-estimator:hover {background-color: #d4ebff;}#sk-container-id-2 div.sk-parallel-item::after {content: \"\";width: 100%;border-bottom: 1px solid gray;flex-grow: 1;}#sk-container-id-2 div.sk-label:hover label.sk-toggleable__label {background-color: #d4ebff;}#sk-container-id-2 div.sk-serial::before {content: \"\";position: absolute;border-left: 1px solid gray;box-sizing: border-box;top: 0;bottom: 0;left: 50%;z-index: 0;}#sk-container-id-2 div.sk-serial {display: flex;flex-direction: column;align-items: center;background-color: white;padding-right: 0.2em;padding-left: 0.2em;position: relative;}#sk-container-id-2 div.sk-item {position: relative;z-index: 1;}#sk-container-id-2 div.sk-parallel {display: flex;align-items: stretch;justify-content: center;background-color: white;position: relative;}#sk-container-id-2 div.sk-item::before, #sk-container-id-2 div.sk-parallel-item::before {content: \"\";position: absolute;border-left: 1px solid gray;box-sizing: border-box;top: 0;bottom: 0;left: 50%;z-index: -1;}#sk-container-id-2 div.sk-parallel-item {display: flex;flex-direction: column;z-index: 1;position: relative;background-color: white;}#sk-container-id-2 div.sk-parallel-item:first-child::after {align-self: flex-end;width: 50%;}#sk-container-id-2 div.sk-parallel-item:last-child::after {align-self: flex-start;width: 50%;}#sk-container-id-2 div.sk-parallel-item:only-child::after {width: 0;}#sk-container-id-2 div.sk-dashed-wrapped {border: 1px dashed gray;margin: 0 0.4em 0.5em 0.4em;box-sizing: border-box;padding-bottom: 0.4em;background-color: white;}#sk-container-id-2 div.sk-label label {font-family: monospace;font-weight: bold;display: inline-block;line-height: 1.2em;}#sk-container-id-2 div.sk-label-container {text-align: center;}#sk-container-id-2 div.sk-container {/* jupyter's `normalize.less` sets `[hidden] { display: none; }` but bootstrap.min.css set `[hidden] { display: none !important; }` so we also need the `!important` here to be able to override the default hidden behavior on the sphinx rendered scikit-learn.org. See: https://github.com/scikit-learn/scikit-learn/issues/21755 */display: inline-block !important;position: relative;}#sk-container-id-2 div.sk-text-repr-fallback {display: none;}</style><div id=\"sk-container-id-2\" class=\"sk-top-container\"><div class=\"sk-text-repr-fallback\"><pre>Pipeline(steps=[(&#x27;count_vectorizer&#x27;, CountVectorizer()),\n",
       "                (&#x27;SMOTE&#x27;, SMOTE(n_jobs=-1, random_state=42)),\n",
       "                (&#x27;multinomialNB&#x27;, MultinomialNB())])</pre><b>In a Jupyter environment, please rerun this cell to show the HTML representation or trust the notebook. <br />On GitHub, the HTML representation is unable to render, please try loading this page with nbviewer.org.</b></div><div class=\"sk-container\" hidden><div class=\"sk-item sk-dashed-wrapped\"><div class=\"sk-label-container\"><div class=\"sk-label sk-toggleable\"><input class=\"sk-toggleable__control sk-hidden--visually\" id=\"sk-estimator-id-5\" type=\"checkbox\" ><label for=\"sk-estimator-id-5\" class=\"sk-toggleable__label sk-toggleable__label-arrow\">Pipeline</label><div class=\"sk-toggleable__content\"><pre>Pipeline(steps=[(&#x27;count_vectorizer&#x27;, CountVectorizer()),\n",
       "                (&#x27;SMOTE&#x27;, SMOTE(n_jobs=-1, random_state=42)),\n",
       "                (&#x27;multinomialNB&#x27;, MultinomialNB())])</pre></div></div></div><div class=\"sk-serial\"><div class=\"sk-item\"><div class=\"sk-estimator sk-toggleable\"><input class=\"sk-toggleable__control sk-hidden--visually\" id=\"sk-estimator-id-6\" type=\"checkbox\" ><label for=\"sk-estimator-id-6\" class=\"sk-toggleable__label sk-toggleable__label-arrow\">CountVectorizer</label><div class=\"sk-toggleable__content\"><pre>CountVectorizer()</pre></div></div></div><div class=\"sk-item\"><div class=\"sk-estimator sk-toggleable\"><input class=\"sk-toggleable__control sk-hidden--visually\" id=\"sk-estimator-id-7\" type=\"checkbox\" ><label for=\"sk-estimator-id-7\" class=\"sk-toggleable__label sk-toggleable__label-arrow\">SMOTE</label><div class=\"sk-toggleable__content\"><pre>SMOTE(n_jobs=-1, random_state=42)</pre></div></div></div><div class=\"sk-item\"><div class=\"sk-estimator sk-toggleable\"><input class=\"sk-toggleable__control sk-hidden--visually\" id=\"sk-estimator-id-8\" type=\"checkbox\" ><label for=\"sk-estimator-id-8\" class=\"sk-toggleable__label sk-toggleable__label-arrow\">MultinomialNB</label><div class=\"sk-toggleable__content\"><pre>MultinomialNB()</pre></div></div></div></div></div></div></div>"
      ],
      "text/plain": [
       "Pipeline(steps=[('count_vectorizer', CountVectorizer()),\n",
       "                ('SMOTE', SMOTE(n_jobs=-1, random_state=42)),\n",
       "                ('multinomialNB', MultinomialNB())])"
      ]
     },
     "execution_count": 86,
     "metadata": {},
     "output_type": "execute_result"
    }
   ],
   "source": [
    "model.fit(X,y)"
   ]
  },
  {
   "cell_type": "code",
   "execution_count": 87,
   "id": "7642f318-e9fb-4a4c-8d6b-06f4e44930c8",
   "metadata": {},
   "outputs": [],
   "source": [
    "pipeline_predict = model.predict(X)"
   ]
  },
  {
   "cell_type": "code",
   "execution_count": 88,
   "id": "910c76e6-65fb-4ebd-b3b3-4f7476519532",
   "metadata": {},
   "outputs": [],
   "source": [
    "import pickle\n",
    "\n",
    "pickle.dump(model,open('model.sav','wb'))"
   ]
  },
  {
   "cell_type": "markdown",
   "id": "d36ae24b-7a55-49dc-85ad-c8d5100ac4c4",
   "metadata": {},
   "source": [
    "# Create an inference.py file"
   ]
  },
  {
   "cell_type": "code",
   "execution_count": 118,
   "id": "ee71e8f6-58ce-4eba-bd55-644a3309fd3e",
   "metadata": {},
   "outputs": [
    {
     "name": "stdout",
     "output_type": "stream",
     "text": [
      "Overwriting inference.py\n"
     ]
    }
   ],
   "source": [
    "%%writefile inference.py\n",
    "from flask import Flask, request\n",
    "import pandas as pd\n",
    "import os\n",
    "import pickle\n",
    "\n",
    "# Step 2: Instantiate the Flask API\n",
    "api = Flask('ModelEndpoint')\n",
    "\n",
    "# Step 3: Load the model\n",
    "model = pickle.load(open('model.sav','rb'))\n",
    "\n",
    "# Step 4: Create the routes\n",
    "## route 1: Health check. Just return success if the API is running\n",
    "@api.route('/')\n",
    "def home():\n",
    "    # return a simple string\n",
    "    return {\"message\": \"Hi there!\", \"success\": True}, 200\n",
    "\n",
    "# route 2: accept input data\n",
    "# Post method is used when we want to receive some data from the user\n",
    "@api.route('/predict', methods = ['POST'])\n",
    "def make_predictions():\n",
    "    # Get the data sent over the API\n",
    "    user_input = request.get_json(force=True)\n",
    "    \n",
    "    # Convert user inputs to pandas dataframe\n",
    "    df_schema = {\"gre\":float, \"gpa\": float, \"post_title\":string} # To ensure the columns get the correct datatype\n",
    "    user_input_df = pd.read_json(user_input, lines=True, dtype=df_schema) # Convert JSONL to dataframe\n",
    "    \n",
    "    # Run predictions and convert to list\n",
    "    predictions = model.predict(user_input_df).tolist()\n",
    "    \n",
    "    return {'predictions': predictions}\n",
    "    \n",
    "\n",
    "# Step 5: Main function that actually runs the API!\n",
    "if __name__ == '__main__':\n",
    "    api.run(host='0.0.0.0', \n",
    "            debug=True, # Debug=True ensures any changes to inference.py automatically updates the running API\n",
    "            port=int(os.environ.get(\"PORT\", 8080))\n",
    "           ) "
   ]
  },
  {
   "cell_type": "markdown",
   "id": "07093e33-50ae-40b6-9f76-0ba28b6ae7e0",
   "metadata": {},
   "source": [
    "# Test the API\n",
    "- To test out if our API is working, we first need to run the API code `inference.py`\n",
    "- Open a new terminal window and navigate to this `solution-code` directory. You should find the `inference.py` file that we just created here.\n",
    "- Run the file as a normal python file: `python inference.py`\n",
    "- Now your API is running on your local computer and is ready to accept input data at `http://localhost:8080` URL\n",
    "- We can interact with any route in the API simply by posting a request to that route. For example, type `http://localhost:8080/` in your browser and see what you get!\n",
    "- To get predictions, we need to post our input data to the `/predict` route which gets appended at the end of the URL. So the URL will become `http://localhost:8080/predict`\n",
    "- Let's load the same data we used to train the model and send the first 5 rows to the API for predictions"
   ]
  },
  {
   "cell_type": "code",
   "execution_count": 146,
   "id": "32ab4e46-c393-45fc-9de8-9293900266cc",
   "metadata": {},
   "outputs": [],
   "source": [
    "user_input_df = X.head(10)\n",
    "\n",
    "user_input = json.dumps(user_input_df.to_list())"
   ]
  },
  {
   "cell_type": "code",
   "execution_count": 147,
   "id": "dfae9df6-1129-4c78-946b-7137ed84bd8b",
   "metadata": {},
   "outputs": [
    {
     "name": "stdout",
     "output_type": "stream",
     "text": [
      "[\"Any thoughts on OSTK? It sold out of the wedge but financials look great to me. Annual sales almost = market cap, order numbers down but average order price is up. No company debt. Let me know what you think!\", \"U.S. prosecutors charge Trevor Milton, founder of electric...\", \"Stocks have been horrible for me 2021\", \"Want to get back into investing. Any tips?\", \"Roth Income Limits\", \"Does dividend investing suck?\", \"What happened to the Glory Days?\", \"3 GOP Congressmen face ethics complaints for failing to disclose $22 million in stock trades\", \"Let's not forget we Like the Stock and believe in the DD but let's also support our company with more than Buying and Holding. Take a Friend, your Wife, Your Child or A loved one to watch a Movie and Enjoy a Popcorn. \\ud83c\\udf7f #Apestrong \\ud83d\\udc8e\\ud83d\\ude4c\\ud83c\\udffe\\ud83e\\udd8d\\ud83d\\ude80\\ud83c\\udf15\", \"BABA SHORT SQEEZE @ 160\"]\n"
     ]
    }
   ],
   "source": [
    "print(user_input)"
   ]
  },
  {
   "cell_type": "code",
   "execution_count": 148,
   "id": "fbdf4dcf-8282-4262-97e6-11d440339bad",
   "metadata": {},
   "outputs": [
    {
     "ename": "JSONDecodeError",
     "evalue": "Expecting value: line 1 column 1 (char 0)",
     "output_type": "error",
     "traceback": [
      "\u001b[1;31m---------------------------------------------------------------------------\u001b[0m",
      "\u001b[1;31mJSONDecodeError\u001b[0m                           Traceback (most recent call last)",
      "File \u001b[1;32mC:\\ProgramData\\Anaconda3\\lib\\site-packages\\requests\\models.py:971\u001b[0m, in \u001b[0;36mResponse.json\u001b[1;34m(self, **kwargs)\u001b[0m\n\u001b[0;32m    970\u001b[0m \u001b[38;5;28;01mtry\u001b[39;00m:\n\u001b[1;32m--> 971\u001b[0m     \u001b[38;5;28;01mreturn\u001b[39;00m complexjson\u001b[38;5;241m.\u001b[39mloads(\u001b[38;5;28mself\u001b[39m\u001b[38;5;241m.\u001b[39mtext, \u001b[38;5;241m*\u001b[39m\u001b[38;5;241m*\u001b[39mkwargs)\n\u001b[0;32m    972\u001b[0m \u001b[38;5;28;01mexcept\u001b[39;00m JSONDecodeError \u001b[38;5;28;01mas\u001b[39;00m e:\n\u001b[0;32m    973\u001b[0m     \u001b[38;5;66;03m# Catch JSON-related errors and raise as requests.JSONDecodeError\u001b[39;00m\n\u001b[0;32m    974\u001b[0m     \u001b[38;5;66;03m# This aliases json.JSONDecodeError and simplejson.JSONDecodeError\u001b[39;00m\n",
      "File \u001b[1;32mC:\\ProgramData\\Anaconda3\\lib\\json\\__init__.py:346\u001b[0m, in \u001b[0;36mloads\u001b[1;34m(s, cls, object_hook, parse_float, parse_int, parse_constant, object_pairs_hook, **kw)\u001b[0m\n\u001b[0;32m    343\u001b[0m \u001b[38;5;28;01mif\u001b[39;00m (\u001b[38;5;28mcls\u001b[39m \u001b[38;5;129;01mis\u001b[39;00m \u001b[38;5;28;01mNone\u001b[39;00m \u001b[38;5;129;01mand\u001b[39;00m object_hook \u001b[38;5;129;01mis\u001b[39;00m \u001b[38;5;28;01mNone\u001b[39;00m \u001b[38;5;129;01mand\u001b[39;00m\n\u001b[0;32m    344\u001b[0m         parse_int \u001b[38;5;129;01mis\u001b[39;00m \u001b[38;5;28;01mNone\u001b[39;00m \u001b[38;5;129;01mand\u001b[39;00m parse_float \u001b[38;5;129;01mis\u001b[39;00m \u001b[38;5;28;01mNone\u001b[39;00m \u001b[38;5;129;01mand\u001b[39;00m\n\u001b[0;32m    345\u001b[0m         parse_constant \u001b[38;5;129;01mis\u001b[39;00m \u001b[38;5;28;01mNone\u001b[39;00m \u001b[38;5;129;01mand\u001b[39;00m object_pairs_hook \u001b[38;5;129;01mis\u001b[39;00m \u001b[38;5;28;01mNone\u001b[39;00m \u001b[38;5;129;01mand\u001b[39;00m \u001b[38;5;129;01mnot\u001b[39;00m kw):\n\u001b[1;32m--> 346\u001b[0m     \u001b[38;5;28;01mreturn\u001b[39;00m \u001b[43m_default_decoder\u001b[49m\u001b[38;5;241;43m.\u001b[39;49m\u001b[43mdecode\u001b[49m\u001b[43m(\u001b[49m\u001b[43ms\u001b[49m\u001b[43m)\u001b[49m\n\u001b[0;32m    347\u001b[0m \u001b[38;5;28;01mif\u001b[39;00m \u001b[38;5;28mcls\u001b[39m \u001b[38;5;129;01mis\u001b[39;00m \u001b[38;5;28;01mNone\u001b[39;00m:\n",
      "File \u001b[1;32mC:\\ProgramData\\Anaconda3\\lib\\json\\decoder.py:337\u001b[0m, in \u001b[0;36mJSONDecoder.decode\u001b[1;34m(self, s, _w)\u001b[0m\n\u001b[0;32m    333\u001b[0m \u001b[38;5;124;03m\"\"\"Return the Python representation of ``s`` (a ``str`` instance\u001b[39;00m\n\u001b[0;32m    334\u001b[0m \u001b[38;5;124;03mcontaining a JSON document).\u001b[39;00m\n\u001b[0;32m    335\u001b[0m \n\u001b[0;32m    336\u001b[0m \u001b[38;5;124;03m\"\"\"\u001b[39;00m\n\u001b[1;32m--> 337\u001b[0m obj, end \u001b[38;5;241m=\u001b[39m \u001b[38;5;28;43mself\u001b[39;49m\u001b[38;5;241;43m.\u001b[39;49m\u001b[43mraw_decode\u001b[49m\u001b[43m(\u001b[49m\u001b[43ms\u001b[49m\u001b[43m,\u001b[49m\u001b[43m \u001b[49m\u001b[43midx\u001b[49m\u001b[38;5;241;43m=\u001b[39;49m\u001b[43m_w\u001b[49m\u001b[43m(\u001b[49m\u001b[43ms\u001b[49m\u001b[43m,\u001b[49m\u001b[43m \u001b[49m\u001b[38;5;241;43m0\u001b[39;49m\u001b[43m)\u001b[49m\u001b[38;5;241;43m.\u001b[39;49m\u001b[43mend\u001b[49m\u001b[43m(\u001b[49m\u001b[43m)\u001b[49m\u001b[43m)\u001b[49m\n\u001b[0;32m    338\u001b[0m end \u001b[38;5;241m=\u001b[39m _w(s, end)\u001b[38;5;241m.\u001b[39mend()\n",
      "File \u001b[1;32mC:\\ProgramData\\Anaconda3\\lib\\json\\decoder.py:355\u001b[0m, in \u001b[0;36mJSONDecoder.raw_decode\u001b[1;34m(self, s, idx)\u001b[0m\n\u001b[0;32m    354\u001b[0m \u001b[38;5;28;01mexcept\u001b[39;00m \u001b[38;5;167;01mStopIteration\u001b[39;00m \u001b[38;5;28;01mas\u001b[39;00m err:\n\u001b[1;32m--> 355\u001b[0m     \u001b[38;5;28;01mraise\u001b[39;00m JSONDecodeError(\u001b[38;5;124m\"\u001b[39m\u001b[38;5;124mExpecting value\u001b[39m\u001b[38;5;124m\"\u001b[39m, s, err\u001b[38;5;241m.\u001b[39mvalue) \u001b[38;5;28;01mfrom\u001b[39;00m \u001b[38;5;28mNone\u001b[39m\n\u001b[0;32m    356\u001b[0m \u001b[38;5;28;01mreturn\u001b[39;00m obj, end\n",
      "\u001b[1;31mJSONDecodeError\u001b[0m: Expecting value: line 1 column 1 (char 0)",
      "\nDuring handling of the above exception, another exception occurred:\n",
      "\u001b[1;31mJSONDecodeError\u001b[0m                           Traceback (most recent call last)",
      "Input \u001b[1;32mIn [148]\u001b[0m, in \u001b[0;36m<cell line: 9>\u001b[1;34m()\u001b[0m\n\u001b[0;32m      6\u001b[0m api_route \u001b[38;5;241m=\u001b[39m \u001b[38;5;124m'\u001b[39m\u001b[38;5;124m/predict\u001b[39m\u001b[38;5;124m'\u001b[39m\n\u001b[0;32m      8\u001b[0m response \u001b[38;5;241m=\u001b[39m requests\u001b[38;5;241m.\u001b[39mpost(\u001b[38;5;124mf\u001b[39m\u001b[38;5;124m'\u001b[39m\u001b[38;5;132;01m{\u001b[39;00mapi_url\u001b[38;5;132;01m}\u001b[39;00m\u001b[38;5;132;01m{\u001b[39;00mapi_route\u001b[38;5;132;01m}\u001b[39;00m\u001b[38;5;124m'\u001b[39m, json\u001b[38;5;241m=\u001b[39muser_input)\n\u001b[1;32m----> 9\u001b[0m predictions \u001b[38;5;241m=\u001b[39m \u001b[43mresponse\u001b[49m\u001b[38;5;241;43m.\u001b[39;49m\u001b[43mjson\u001b[49m\u001b[43m(\u001b[49m\u001b[43m)\u001b[49m\n\u001b[0;32m     11\u001b[0m \u001b[38;5;28mprint\u001b[39m(predictions)\n",
      "File \u001b[1;32mC:\\ProgramData\\Anaconda3\\lib\\site-packages\\requests\\models.py:975\u001b[0m, in \u001b[0;36mResponse.json\u001b[1;34m(self, **kwargs)\u001b[0m\n\u001b[0;32m    971\u001b[0m     \u001b[38;5;28;01mreturn\u001b[39;00m complexjson\u001b[38;5;241m.\u001b[39mloads(\u001b[38;5;28mself\u001b[39m\u001b[38;5;241m.\u001b[39mtext, \u001b[38;5;241m*\u001b[39m\u001b[38;5;241m*\u001b[39mkwargs)\n\u001b[0;32m    972\u001b[0m \u001b[38;5;28;01mexcept\u001b[39;00m JSONDecodeError \u001b[38;5;28;01mas\u001b[39;00m e:\n\u001b[0;32m    973\u001b[0m     \u001b[38;5;66;03m# Catch JSON-related errors and raise as requests.JSONDecodeError\u001b[39;00m\n\u001b[0;32m    974\u001b[0m     \u001b[38;5;66;03m# This aliases json.JSONDecodeError and simplejson.JSONDecodeError\u001b[39;00m\n\u001b[1;32m--> 975\u001b[0m     \u001b[38;5;28;01mraise\u001b[39;00m RequestsJSONDecodeError(e\u001b[38;5;241m.\u001b[39mmsg, e\u001b[38;5;241m.\u001b[39mdoc, e\u001b[38;5;241m.\u001b[39mpos)\n",
      "\u001b[1;31mJSONDecodeError\u001b[0m: Expecting value: line 1 column 1 (char 0)"
     ]
    }
   ],
   "source": [
    "# Send the JSONL data as request to the API and print the response\n",
    "import requests\n",
    "import json \n",
    "\n",
    "api_url = 'http://localhost:8080'\n",
    "api_route = '/predict'\n",
    "\n",
    "response = requests.post(f'{api_url}{api_route}', json=user_input)\n",
    "predictions = response.json()\n",
    "\n",
    "print(predictions)"
   ]
  },
  {
   "cell_type": "code",
   "execution_count": null,
   "id": "094a6ca0-7f96-45b3-8b2e-164ec0010772",
   "metadata": {},
   "outputs": [],
   "source": [
    "user_input_df"
   ]
  },
  {
   "cell_type": "code",
   "execution_count": 149,
   "id": "b08b32b2-885e-405f-a27f-07b6b911531f",
   "metadata": {},
   "outputs": [
    {
     "data": {
      "text/plain": [
       "array([0, 0, 1, ..., 0, 0, 1], dtype=int64)"
      ]
     },
     "execution_count": 149,
     "metadata": {},
     "output_type": "execute_result"
    }
   ],
   "source": [
    "# model_load = pickle.load(open('model.sav','rb'))\n",
    "model_load.predict(X)"
   ]
  },
  {
   "cell_type": "code",
   "execution_count": 150,
   "id": "bc39c5d8-b9b2-45d7-8ba9-37f0b99beb40",
   "metadata": {},
   "outputs": [
    {
     "data": {
      "text/plain": [
       "0         Any thoughts on OSTK? It sold out of the wedge...\n",
       "1         U.S. prosecutors charge Trevor Milton, founder...\n",
       "2                     Stocks have been horrible for me 2021\n",
       "3                Want to get back into investing. Any tips?\n",
       "4                                        Roth Income Limits\n",
       "                                ...                        \n",
       "272411    I LOST EVERYTHING Lost over 10k on the AMD cra...\n",
       "272412                            Current market conditions\n",
       "272413                                   Why y'all worried?\n",
       "272414    JPOW and the fed trying to fix inflation and p...\n",
       "272415                                  Hey guys a question\n",
       "Name: title, Length: 272416, dtype: object"
      ]
     },
     "execution_count": 150,
     "metadata": {},
     "output_type": "execute_result"
    }
   ],
   "source": [
    "X"
   ]
  },
  {
   "cell_type": "code",
   "execution_count": null,
   "id": "b6f4f6a9-30ee-4118-81c6-0d0afaad95d4",
   "metadata": {},
   "outputs": [],
   "source": []
  }
 ],
 "metadata": {
  "kernelspec": {
   "display_name": "Python 3 (ipykernel)",
   "language": "python",
   "name": "python3"
  },
  "language_info": {
   "codemirror_mode": {
    "name": "ipython",
    "version": 3
   },
   "file_extension": ".py",
   "mimetype": "text/x-python",
   "name": "python",
   "nbconvert_exporter": "python",
   "pygments_lexer": "ipython3",
   "version": "3.9.13"
  },
  "toc-autonumbering": true,
  "toc-showmarkdowntxt": false
 },
 "nbformat": 4,
 "nbformat_minor": 5
}
